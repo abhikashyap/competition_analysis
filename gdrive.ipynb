{
 "cells": [
  {
   "cell_type": "code",
   "execution_count": 1,
   "metadata": {},
   "outputs": [],
   "source": [
    "from pydrive.auth import GoogleAuth\n",
    "from pydrive.drive import GoogleDrive"
   ]
  },
  {
   "cell_type": "code",
   "execution_count": 2,
   "metadata": {},
   "outputs": [
    {
     "name": "stdout",
     "output_type": "stream",
     "text": [
      "Your browser has been opened to visit:\n",
      "\n",
      "    https://accounts.google.com/o/oauth2/auth?client_id=436288989467-bgaefr7da22dhop1lli6dqc7j39pi07g.apps.googleusercontent.com&redirect_uri=http%3A%2F%2Flocalhost%3A8080%2F&scope=https%3A%2F%2Fwww.googleapis.com%2Fauth%2Fdrive&access_type=offline&response_type=code\n",
      "\n",
      "Authentication successful.\n"
     ]
    }
   ],
   "source": [
    "gauth = GoogleAuth()\n",
    "gauth.LocalWebserverAuth()  # Creates local webserver and automatically handles authentication\n",
    "drive = GoogleDrive(gauth)"
   ]
  },
  {
   "cell_type": "code",
   "execution_count": null,
   "metadata": {},
   "outputs": [],
   "source": []
  },
  {
   "cell_type": "code",
   "execution_count": 4,
   "metadata": {},
   "outputs": [
    {
     "name": "stdout",
     "output_type": "stream",
     "text": [
      "File 'mapping_sheet.csv' uploaded successfully to 'reports' folder with ID: 12cPeCwsnf45R13Z3eqNW5JP2lO34fZKx\n"
     ]
    }
   ],
   "source": [
    "# upload\n",
    "\n",
    "folder_id = '1IK0p1TRkKkHUQVsc9Cj8EEnUkYGuDt_a'  # Replace this with your 'reports' folder ID\n",
    "\n",
    "# Step 3: Upload a file to the 'reports' folder\n",
    "file_to_upload = 'mapping_sheet.csv'  # Replace with the file you want to upload\n",
    "upload_file = drive.CreateFile({'title': file_to_upload, 'parents': [{'id': folder_id}]})\n",
    "upload_file.SetContentFile(file_to_upload)\n",
    "upload_file.Upload()\n",
    "print(f\"File '{file_to_upload}' uploaded successfully to 'reports' folder with ID: {upload_file['id']}\")\n"
   ]
  },
  {
   "cell_type": "code",
   "execution_count": 3,
   "metadata": {},
   "outputs": [],
   "source": [
    "#download\n",
    "\n",
    "file_id = '1PFcM2ZBqrPAr1GJAh4eEB4b99OPpZaLR'  # Replace with the actual file ID you want to download\n",
    "\n",
    "# Step 3: Download the file using the file ID\n",
    "downloaded_file = drive.CreateFile({'id': file_id})\n",
    "downloaded_file.GetContentFile('mapping_sheet.csv') "
   ]
  },
  {
   "cell_type": "code",
   "execution_count": 5,
   "metadata": {},
   "outputs": [],
   "source": [
    "# update\n",
    "\n",
    "\n",
    "file_id = '1PFcM2ZBqrPAr1GJAh4eEB4b99OPpZaLR'  # Replace with the actual file ID that you want to update\n",
    "\n",
    "# Step 3: Create a file object using the existing ID and update its content\n",
    "update_file = drive.CreateFile({'id': file_id})\n",
    "update_file.SetContentFile('mapping_sheet.csv')  # Specify the new content file (e.g., updated text file)\n",
    "update_file.Upload() "
   ]
  },
  {
   "cell_type": "code",
   "execution_count": null,
   "metadata": {},
   "outputs": [],
   "source": []
  }
 ],
 "metadata": {
  "kernelspec": {
   "display_name": ".venv",
   "language": "python",
   "name": "python3"
  },
  "language_info": {
   "codemirror_mode": {
    "name": "ipython",
    "version": 3
   },
   "file_extension": ".py",
   "mimetype": "text/x-python",
   "name": "python",
   "nbconvert_exporter": "python",
   "pygments_lexer": "ipython3",
   "version": "3.10.0"
  }
 },
 "nbformat": 4,
 "nbformat_minor": 2
}
