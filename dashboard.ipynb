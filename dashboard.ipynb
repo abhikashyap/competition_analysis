{
 "cells": [
  {
   "cell_type": "code",
   "execution_count": 2,
   "metadata": {},
   "outputs": [
    {
     "name": "stderr",
     "output_type": "stream",
     "text": [
      "d:\\personal_git\\data science\\portfolio projects\\Competition analysis\\.venv\\lib\\site-packages\\fuzzywuzzy\\fuzz.py:11: UserWarning: Using slow pure-python SequenceMatcher. Install python-Levenshtein to remove this warning\n",
      "  warnings.warn('Using slow pure-python SequenceMatcher. Install python-Levenshtein to remove this warning')\n"
     ]
    }
   ],
   "source": [
    "import streamlit as st \n",
    "from scrapper import fk_scrapper_functions as sc\n",
    "from scrapper import flipkart_json_scrapper_with_all_specifications as fk_scrapper\n",
    "import time\n",
    "import pandas as pd\n",
    "import plotly.express as px\n",
    "import seaborn as sns\n",
    "import matplotlib.pyplot as plt\n",
    "competitor_data=pd.read_pickle('competitor_data.pkl')"
   ]
  },
  {
   "cell_type": "code",
   "execution_count": 4,
   "metadata": {},
   "outputs": [
    {
     "name": "stderr",
     "output_type": "stream",
     "text": [
      "2024-07-01 11:55:37.974 Serialization of dataframe to Arrow table was unsuccessful due to: (\"Could not convert '' with type str: tried to convert to double\", 'Conversion failed for column rating with type object'). Applying automatic fixes for column types to make the dataframe Arrow-compatible.\n"
     ]
    }
   ],
   "source": [
    "competitor_data=pd.read_pickle('competitor_data.pkl')\n",
    "st.write(competitor_data['all_specs'][0].get('Model Name'))\n",
    "competitor_data['brand']=competitor_data['title'].str.split(\" \").str[0]\n",
    "brand_level_data=competitor_data.copy()\n",
    "st.dataframe(brand_level_data)\n",
    "for index, row in brand_level_data.iterrows():\n",
    "    specs = row['all_specs']\n",
    "    for key, value in specs.items():\n",
    "        if key not in brand_level_data.columns:\n",
    "            brand_level_data[key] = None\n",
    "        brand_level_data.at[index, key] = value\n",
    "most_important_feature={}\n",
    "feature_name=[]\n",
    "feature_count=[]\n",
    "for column in brand_level_data.columns:\n",
    "    feature_name.append(column)\n",
    "    feature_count.append(brand_level_data[column].count())\n",
    "most_important_feature['feature_name']=feature_name\n",
    "most_important_feature['feature_count']=feature_count\n",
    "important_features=pd.DataFrame(most_important_feature)\n",
    "important_features['feautre_present_in_%_of_products']=important_features['feature_count']*100/important_features['feature_count'].max()\n",
    "filtered_important_features=important_features[important_features['feautre_present_in_%_of_products'] >=10]['feature_name'].to_list()\n",
    "final_scrapped_data=brand_level_data[filtered_important_features]\n"
   ]
  },
  {
   "cell_type": "code",
   "execution_count": 72,
   "metadata": {},
   "outputs": [
    {
     "name": "stderr",
     "output_type": "stream",
     "text": [
      "C:\\Users\\kashy\\AppData\\Local\\Temp\\ipykernel_7200\\3423002352.py:1: SettingWithCopyWarning: \n",
      "A value is trying to be set on a copy of a slice from a DataFrame.\n",
      "Try using .loc[row_indexer,col_indexer] = value instead\n",
      "\n",
      "See the caveats in the documentation: https://pandas.pydata.org/pandas-docs/stable/user_guide/indexing.html#returning-a-view-versus-a-copy\n",
      "  final_scrapped_data['final_selling_price']=final_scrapped_data['final_selling_price'].astype(float)\n"
     ]
    }
   ],
   "source": [
    "final_scrapped_data['final_selling_price']=final_scrapped_data['final_selling_price'].astype(float)"
   ]
  },
  {
   "cell_type": "code",
   "execution_count": 70,
   "metadata": {},
   "outputs": [],
   "source": [
    "min_price=final_scrapped_data['final_selling_price'].min()\n",
    "max_price=final_scrapped_data['final_selling_price'].max()"
   ]
  },
  {
   "cell_type": "code",
   "execution_count": 76,
   "metadata": {},
   "outputs": [],
   "source": [
    "final_scrapped_data=final_scrapped_data[(final_scrapped_data['final_selling_price']>min_price)&(final_scrapped_data['final_selling_price']<max_price)]"
   ]
  },
  {
   "cell_type": "code",
   "execution_count": null,
   "metadata": {},
   "outputs": [],
   "source": []
  },
  {
   "cell_type": "code",
   "execution_count": 30,
   "metadata": {},
   "outputs": [],
   "source": [
    "options_to_select = []\n",
    "for column in filtered_important_features:\n",
    "    if column not in competitor_data.columns.to_list():\n",
    "        options_to_select.append(column)"
   ]
  },
  {
   "cell_type": "code",
   "execution_count": 89,
   "metadata": {},
   "outputs": [
    {
     "name": "stderr",
     "output_type": "stream",
     "text": [
      "C:\\Users\\kashy\\AppData\\Local\\Temp\\ipykernel_7200\\75359556.py:5: FutureWarning: A value is trying to be set on a copy of a DataFrame or Series through chained assignment using an inplace method.\n",
      "The behavior will change in pandas 3.0. This inplace method will never work because the intermediate object on which we are setting values always behaves as a copy.\n",
      "\n",
      "For example, when doing 'df[col].method(value, inplace=True)', try using 'df.method({col: value}, inplace=True)' or df[col] = df[col].method(value) instead, to perform the operation inplace on the original object.\n",
      "\n",
      "\n",
      "  Brand_dominance['Brand_type'].fillna(Brand_dominance['brand'],inplace=True)\n"
     ]
    },
    {
     "data": {
      "text/plain": [
       "Brand_type\n",
       "Apple            7\n",
       "Aroma           46\n",
       "BULLSTORM        5\n",
       "BUNAS            9\n",
       "Bashaam          7\n",
       "Bluei           10\n",
       "Boult           63\n",
       "CIHYARD          6\n",
       "CMF              5\n",
       "CROSSLOOP        7\n",
       "Concept         11\n",
       "D1Y3             5\n",
       "EARBOOTH         7\n",
       "Fire-Boltt      10\n",
       "GENWARP          9\n",
       "Grooves          8\n",
       "HOPPUP          19\n",
       "HOUSE           22\n",
       "IZWI             5\n",
       "JBL             22\n",
       "KZ               6\n",
       "LELISU          51\n",
       "MSNR            37\n",
       "Microflash       7\n",
       "Mivi            30\n",
       "Mozu             5\n",
       "NEXWARP          6\n",
       "Nilesawar        7\n",
       "Noise           47\n",
       "Nothing          5\n",
       "Number           7\n",
       "OPPO             6\n",
       "OnePlus         16\n",
       "PRODART          5\n",
       "PROWARP          6\n",
       "Portronics      21\n",
       "Rueqn            6\n",
       "SONY            16\n",
       "Sagaft           5\n",
       "TECHFIRE        13\n",
       "TEMPT            5\n",
       "TIMBRESONIC      5\n",
       "TRIGGR           7\n",
       "TXOR             5\n",
       "Ucool            8\n",
       "Varitas          5\n",
       "Vntex           12\n",
       "WINGS            6\n",
       "XEWISS          18\n",
       "Ycom            10\n",
       "ZEBRONICS       13\n",
       "boAt            88\n",
       "jedi             6\n",
       "jkg             10\n",
       "others         269\n",
       "realme          21\n",
       "truke           20\n",
       "Name: count, dtype: int64"
      ]
     },
     "execution_count": 89,
     "metadata": {},
     "output_type": "execute_result"
    }
   ],
   "source": [
    "Brand_dominance=pd.DataFrame(final_scrapped_data['brand'].value_counts())\n",
    "Brand_dominance.reset_index(inplace=True)\n",
    "Brand_dominance['Market_share']=Brand_dominance['count']*100/Brand_dominance['count'].sum()\n",
    "Brand_dominance.loc[Brand_dominance['count']<5,'Brand_type'] = 'others'\n",
    "Brand_dominance['Brand_type'].fillna(Brand_dominance['brand'],inplace=True)\n",
    "Brand_dominance.groupby('Brand_type')['count'].sum()"
   ]
  },
  {
   "cell_type": "code",
   "execution_count": 82,
   "metadata": {},
   "outputs": [
    {
     "data": {
      "text/html": [
       "<div>\n",
       "<style scoped>\n",
       "    .dataframe tbody tr th:only-of-type {\n",
       "        vertical-align: middle;\n",
       "    }\n",
       "\n",
       "    .dataframe tbody tr th {\n",
       "        vertical-align: top;\n",
       "    }\n",
       "\n",
       "    .dataframe thead th {\n",
       "        text-align: right;\n",
       "    }\n",
       "</style>\n",
       "<table border=\"1\" class=\"dataframe\">\n",
       "  <thead>\n",
       "    <tr style=\"text-align: right;\">\n",
       "      <th></th>\n",
       "      <th>brand</th>\n",
       "      <th>count</th>\n",
       "      <th>Market_share</th>\n",
       "      <th>Brand_type</th>\n",
       "    </tr>\n",
       "  </thead>\n",
       "  <tbody>\n",
       "    <tr>\n",
       "      <th>0</th>\n",
       "      <td>boAt</td>\n",
       "      <td>88</td>\n",
       "      <td>8.051235</td>\n",
       "      <td>8.051235</td>\n",
       "    </tr>\n",
       "    <tr>\n",
       "      <th>1</th>\n",
       "      <td>Boult</td>\n",
       "      <td>63</td>\n",
       "      <td>5.763952</td>\n",
       "      <td>5.763952</td>\n",
       "    </tr>\n",
       "    <tr>\n",
       "      <th>2</th>\n",
       "      <td>LELISU</td>\n",
       "      <td>51</td>\n",
       "      <td>4.666057</td>\n",
       "      <td>4.666057</td>\n",
       "    </tr>\n",
       "    <tr>\n",
       "      <th>3</th>\n",
       "      <td>Noise</td>\n",
       "      <td>47</td>\n",
       "      <td>4.300091</td>\n",
       "      <td>4.300091</td>\n",
       "    </tr>\n",
       "    <tr>\n",
       "      <th>4</th>\n",
       "      <td>Aroma</td>\n",
       "      <td>46</td>\n",
       "      <td>4.208600</td>\n",
       "      <td>4.2086</td>\n",
       "    </tr>\n",
       "    <tr>\n",
       "      <th>...</th>\n",
       "      <td>...</td>\n",
       "      <td>...</td>\n",
       "      <td>...</td>\n",
       "      <td>...</td>\n",
       "    </tr>\n",
       "    <tr>\n",
       "      <th>212</th>\n",
       "      <td>Happy</td>\n",
       "      <td>1</td>\n",
       "      <td>0.091491</td>\n",
       "      <td>Not dominant</td>\n",
       "    </tr>\n",
       "    <tr>\n",
       "      <th>213</th>\n",
       "      <td>SNOKOR</td>\n",
       "      <td>1</td>\n",
       "      <td>0.091491</td>\n",
       "      <td>Not dominant</td>\n",
       "    </tr>\n",
       "    <tr>\n",
       "      <th>214</th>\n",
       "      <td>Kiwi</td>\n",
       "      <td>1</td>\n",
       "      <td>0.091491</td>\n",
       "      <td>Not dominant</td>\n",
       "    </tr>\n",
       "    <tr>\n",
       "      <th>215</th>\n",
       "      <td>Hitage</td>\n",
       "      <td>1</td>\n",
       "      <td>0.091491</td>\n",
       "      <td>Not dominant</td>\n",
       "    </tr>\n",
       "    <tr>\n",
       "      <th>216</th>\n",
       "      <td>ASUS</td>\n",
       "      <td>1</td>\n",
       "      <td>0.091491</td>\n",
       "      <td>Not dominant</td>\n",
       "    </tr>\n",
       "  </tbody>\n",
       "</table>\n",
       "<p>217 rows × 4 columns</p>\n",
       "</div>"
      ],
      "text/plain": [
       "      brand  count  Market_share    Brand_type\n",
       "0      boAt     88      8.051235      8.051235\n",
       "1     Boult     63      5.763952      5.763952\n",
       "2    LELISU     51      4.666057      4.666057\n",
       "3     Noise     47      4.300091      4.300091\n",
       "4     Aroma     46      4.208600        4.2086\n",
       "..      ...    ...           ...           ...\n",
       "212   Happy      1      0.091491  Not dominant\n",
       "213  SNOKOR      1      0.091491  Not dominant\n",
       "214    Kiwi      1      0.091491  Not dominant\n",
       "215  Hitage      1      0.091491  Not dominant\n",
       "216    ASUS      1      0.091491  Not dominant\n",
       "\n",
       "[217 rows x 4 columns]"
      ]
     },
     "execution_count": 82,
     "metadata": {},
     "output_type": "execute_result"
    }
   ],
   "source": [
    "Brand_dominance"
   ]
  },
  {
   "cell_type": "code",
   "execution_count": 51,
   "metadata": {},
   "outputs": [],
   "source": []
  },
  {
   "cell_type": "code",
   "execution_count": 57,
   "metadata": {},
   "outputs": [],
   "source": []
  },
  {
   "cell_type": "code",
   "execution_count": 63,
   "metadata": {},
   "outputs": [],
   "source": []
  },
  {
   "cell_type": "code",
   "execution_count": 65,
   "metadata": {},
   "outputs": [
    {
     "data": {
      "text/plain": [
       "Brand_type\n",
       "Not dominant    46.484018\n",
       "dominant        53.515982\n",
       "Name: Market_share, dtype: float64"
      ]
     },
     "execution_count": 65,
     "metadata": {},
     "output_type": "execute_result"
    }
   ],
   "source": []
  },
  {
   "cell_type": "code",
   "execution_count": 66,
   "metadata": {},
   "outputs": [
    {
     "data": {
      "text/html": [
       "<div>\n",
       "<style scoped>\n",
       "    .dataframe tbody tr th:only-of-type {\n",
       "        vertical-align: middle;\n",
       "    }\n",
       "\n",
       "    .dataframe tbody tr th {\n",
       "        vertical-align: top;\n",
       "    }\n",
       "\n",
       "    .dataframe thead th {\n",
       "        text-align: right;\n",
       "    }\n",
       "</style>\n",
       "<table border=\"1\" class=\"dataframe\">\n",
       "  <thead>\n",
       "    <tr style=\"text-align: right;\">\n",
       "      <th></th>\n",
       "      <th>brand</th>\n",
       "      <th>count</th>\n",
       "      <th>Market_share</th>\n",
       "      <th>Brand_type</th>\n",
       "    </tr>\n",
       "  </thead>\n",
       "  <tbody>\n",
       "    <tr>\n",
       "      <th>0</th>\n",
       "      <td>boAt</td>\n",
       "      <td>88</td>\n",
       "      <td>8.036530</td>\n",
       "      <td>dominant</td>\n",
       "    </tr>\n",
       "    <tr>\n",
       "      <th>1</th>\n",
       "      <td>Boult</td>\n",
       "      <td>63</td>\n",
       "      <td>5.753425</td>\n",
       "      <td>dominant</td>\n",
       "    </tr>\n",
       "    <tr>\n",
       "      <th>2</th>\n",
       "      <td>LELISU</td>\n",
       "      <td>51</td>\n",
       "      <td>4.657534</td>\n",
       "      <td>dominant</td>\n",
       "    </tr>\n",
       "    <tr>\n",
       "      <th>3</th>\n",
       "      <td>Noise</td>\n",
       "      <td>47</td>\n",
       "      <td>4.292237</td>\n",
       "      <td>dominant</td>\n",
       "    </tr>\n",
       "    <tr>\n",
       "      <th>4</th>\n",
       "      <td>Aroma</td>\n",
       "      <td>46</td>\n",
       "      <td>4.200913</td>\n",
       "      <td>dominant</td>\n",
       "    </tr>\n",
       "    <tr>\n",
       "      <th>...</th>\n",
       "      <td>...</td>\n",
       "      <td>...</td>\n",
       "      <td>...</td>\n",
       "      <td>...</td>\n",
       "    </tr>\n",
       "    <tr>\n",
       "      <th>212</th>\n",
       "      <td>Happy</td>\n",
       "      <td>1</td>\n",
       "      <td>0.091324</td>\n",
       "      <td>Not dominant</td>\n",
       "    </tr>\n",
       "    <tr>\n",
       "      <th>213</th>\n",
       "      <td>SNOKOR</td>\n",
       "      <td>1</td>\n",
       "      <td>0.091324</td>\n",
       "      <td>Not dominant</td>\n",
       "    </tr>\n",
       "    <tr>\n",
       "      <th>214</th>\n",
       "      <td>Kiwi</td>\n",
       "      <td>1</td>\n",
       "      <td>0.091324</td>\n",
       "      <td>Not dominant</td>\n",
       "    </tr>\n",
       "    <tr>\n",
       "      <th>215</th>\n",
       "      <td>Hitage</td>\n",
       "      <td>1</td>\n",
       "      <td>0.091324</td>\n",
       "      <td>Not dominant</td>\n",
       "    </tr>\n",
       "    <tr>\n",
       "      <th>216</th>\n",
       "      <td>ASUS</td>\n",
       "      <td>1</td>\n",
       "      <td>0.091324</td>\n",
       "      <td>Not dominant</td>\n",
       "    </tr>\n",
       "  </tbody>\n",
       "</table>\n",
       "<p>217 rows × 4 columns</p>\n",
       "</div>"
      ],
      "text/plain": [
       "      brand  count  Market_share    Brand_type\n",
       "0      boAt     88      8.036530      dominant\n",
       "1     Boult     63      5.753425      dominant\n",
       "2    LELISU     51      4.657534      dominant\n",
       "3     Noise     47      4.292237      dominant\n",
       "4     Aroma     46      4.200913      dominant\n",
       "..      ...    ...           ...           ...\n",
       "212   Happy      1      0.091324  Not dominant\n",
       "213  SNOKOR      1      0.091324  Not dominant\n",
       "214    Kiwi      1      0.091324  Not dominant\n",
       "215  Hitage      1      0.091324  Not dominant\n",
       "216    ASUS      1      0.091324  Not dominant\n",
       "\n",
       "[217 rows x 4 columns]"
      ]
     },
     "execution_count": 66,
     "metadata": {},
     "output_type": "execute_result"
    }
   ],
   "source": [
    "Brand_dominance"
   ]
  },
  {
   "cell_type": "code",
   "execution_count": null,
   "metadata": {},
   "outputs": [],
   "source": []
  }
 ],
 "metadata": {
  "kernelspec": {
   "display_name": ".venv",
   "language": "python",
   "name": "python3"
  },
  "language_info": {
   "codemirror_mode": {
    "name": "ipython",
    "version": 3
   },
   "file_extension": ".py",
   "mimetype": "text/x-python",
   "name": "python",
   "nbconvert_exporter": "python",
   "pygments_lexer": "ipython3",
   "version": "3.10.0"
  }
 },
 "nbformat": 4,
 "nbformat_minor": 2
}
