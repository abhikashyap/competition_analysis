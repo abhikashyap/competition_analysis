{
 "cells": [
  {
   "cell_type": "code",
   "execution_count": 2,
   "metadata": {},
   "outputs": [
    {
     "name": "stderr",
     "output_type": "stream",
     "text": [
      "d:\\personal_git\\data science\\portfolio projects\\Competition analysis\\.venv\\lib\\site-packages\\fuzzywuzzy\\fuzz.py:11: UserWarning: Using slow pure-python SequenceMatcher. Install python-Levenshtein to remove this warning\n",
      "  warnings.warn('Using slow pure-python SequenceMatcher. Install python-Levenshtein to remove this warning')\n"
     ]
    }
   ],
   "source": [
    "import streamlit as st \n",
    "from scrapper import fk_scrapper_functions as sc\n",
    "from scrapper import flipkart_json_scrapper_with_all_specifications as fk_scrapper\n",
    "import time\n",
    "import pandas as pd\n",
    "import plotly.express as px\n",
    "import seaborn as sns\n",
    "import matplotlib.pyplot as plt\n",
    "competitor_data=pd.read_pickle('competitor_data.pkl')"
   ]
  },
  {
   "cell_type": "code",
   "execution_count": 3,
   "metadata": {},
   "outputs": [
    {
     "name": "stderr",
     "output_type": "stream",
     "text": [
      "2024-07-03 11:38:27.245 \n",
      "  \u001b[33m\u001b[1mWarning:\u001b[0m to view this Streamlit app on a browser, run it with the following\n",
      "  command:\n",
      "\n",
      "    streamlit run d:\\personal_git\\data science\\portfolio projects\\Competition analysis\\.venv\\lib\\site-packages\\ipykernel_launcher.py [ARGUMENTS]\n",
      "2024-07-03 11:38:27.262 Serialization of dataframe to Arrow table was unsuccessful due to: (\"Could not convert '' with type str: tried to convert to double\", 'Conversion failed for column rating with type object'). Applying automatic fixes for column types to make the dataframe Arrow-compatible.\n"
     ]
    }
   ],
   "source": [
    "competitor_data=pd.read_pickle('competitor_data.pkl')\n",
    "st.write(competitor_data['all_specs'][0].get('Model Name'))\n",
    "competitor_data['brand']=competitor_data['title'].str.split(\" \").str[0]\n",
    "brand_level_data=competitor_data.copy()\n",
    "st.dataframe(brand_level_data)\n",
    "for index, row in brand_level_data.iterrows():\n",
    "    specs = row['all_specs']\n",
    "    for key, value in specs.items():\n",
    "        if key not in brand_level_data.columns:\n",
    "            brand_level_data[key] = None\n",
    "        brand_level_data.at[index, key] = value\n",
    "most_important_feature={}\n",
    "feature_name=[]\n",
    "feature_count=[]\n",
    "for column in brand_level_data.columns:\n",
    "    feature_name.append(column)\n",
    "    feature_count.append(brand_level_data[column].count())\n",
    "most_important_feature['feature_name']=feature_name\n",
    "most_important_feature['feature_count']=feature_count\n",
    "important_features=pd.DataFrame(most_important_feature)\n",
    "important_features['feautre_present_in_%_of_products']=important_features['feature_count']*100/important_features['feature_count'].max()\n",
    "filtered_important_features=important_features[important_features['feautre_present_in_%_of_products'] >=10]['feature_name'].to_list()\n",
    "final_scrapped_data=brand_level_data[filtered_important_features]\n",
    "import analysis_function as f"
   ]
  },
  {
   "cell_type": "code",
   "execution_count": 4,
   "metadata": {},
   "outputs": [
    {
     "name": "stderr",
     "output_type": "stream",
     "text": [
      "C:\\Users\\kashy\\AppData\\Local\\Temp\\ipykernel_7884\\519216831.py:1: SettingWithCopyWarning: \n",
      "A value is trying to be set on a copy of a slice from a DataFrame.\n",
      "Try using .loc[row_indexer,col_indexer] = value instead\n",
      "\n",
      "See the caveats in the documentation: https://pandas.pydata.org/pandas-docs/stable/user_guide/indexing.html#returning-a-view-versus-a-copy\n",
      "  final_scrapped_data['ratings_count']=final_scrapped_data['ratings_count'].apply(lambda x: x if f.is_integer(x) else None).astype(float)\n"
     ]
    }
   ],
   "source": [
    "final_scrapped_data['ratings_count']=final_scrapped_data['ratings_count'].apply(lambda x: x if f.is_integer(x) else None).astype(float)"
   ]
  },
  {
   "cell_type": "code",
   "execution_count": 18,
   "metadata": {},
   "outputs": [
    {
     "data": {
      "text/html": [
       "<div>\n",
       "<style scoped>\n",
       "    .dataframe tbody tr th:only-of-type {\n",
       "        vertical-align: middle;\n",
       "    }\n",
       "\n",
       "    .dataframe tbody tr th {\n",
       "        vertical-align: top;\n",
       "    }\n",
       "\n",
       "    .dataframe thead tr th {\n",
       "        text-align: left;\n",
       "    }\n",
       "\n",
       "    .dataframe thead tr:last-of-type th {\n",
       "        text-align: right;\n",
       "    }\n",
       "</style>\n",
       "<table border=\"1\" class=\"dataframe\">\n",
       "  <thead>\n",
       "    <tr>\n",
       "      <th></th>\n",
       "      <th></th>\n",
       "      <th colspan=\"2\" halign=\"left\">fsn</th>\n",
       "    </tr>\n",
       "    <tr>\n",
       "      <th></th>\n",
       "      <th></th>\n",
       "      <th>count</th>\n",
       "      <th>list</th>\n",
       "    </tr>\n",
       "    <tr>\n",
       "      <th>brand</th>\n",
       "      <th>Headphone Type</th>\n",
       "      <th></th>\n",
       "      <th></th>\n",
       "    </tr>\n",
       "  </thead>\n",
       "  <tbody>\n",
       "    <tr>\n",
       "      <th rowspan=\"2\" valign=\"top\">Boult</th>\n",
       "      <th>In the Ear</th>\n",
       "      <td>3</td>\n",
       "      <td>[ACCGEDKJF8WR4UWE, ACCGEDKJUCXSXVGK, ACCGEDKJJ...</td>\n",
       "    </tr>\n",
       "    <tr>\n",
       "      <th>True Wireless</th>\n",
       "      <td>14</td>\n",
       "      <td>[ACCGRNMZUUHD5QFY, ACCGJT2ZEDUGFNMB, ACCGTBMG7...</td>\n",
       "    </tr>\n",
       "    <tr>\n",
       "      <th>Noise</th>\n",
       "      <th>True Wireless</th>\n",
       "      <td>4</td>\n",
       "      <td>[ACCGQSGWDGQAVUM3, ACCGQSGWFMYHSMQV, ACCGQSGWF...</td>\n",
       "    </tr>\n",
       "    <tr>\n",
       "      <th rowspan=\"2\" valign=\"top\">boAt</th>\n",
       "      <th>In the Ear</th>\n",
       "      <td>2</td>\n",
       "      <td>[ACCGJMG6RF3MJHDX, ACCGS9ZMAXHZFU2K]</td>\n",
       "    </tr>\n",
       "    <tr>\n",
       "      <th>True Wireless</th>\n",
       "      <td>3</td>\n",
       "      <td>[ACCG48F2YZNGZ8D2, ACCFSDGXX3S6DVBG, ACCFSDGXT...</td>\n",
       "    </tr>\n",
       "  </tbody>\n",
       "</table>\n",
       "</div>"
      ],
      "text/plain": [
       "                       fsn                                                   \n",
       "                     count                                               list\n",
       "brand Headphone Type                                                         \n",
       "Boult In the Ear         3  [ACCGEDKJF8WR4UWE, ACCGEDKJUCXSXVGK, ACCGEDKJJ...\n",
       "      True Wireless     14  [ACCGRNMZUUHD5QFY, ACCGJT2ZEDUGFNMB, ACCGTBMG7...\n",
       "Noise True Wireless      4  [ACCGQSGWDGQAVUM3, ACCGQSGWFMYHSMQV, ACCGQSGWF...\n",
       "boAt  In the Ear         2               [ACCGJMG6RF3MJHDX, ACCGS9ZMAXHZFU2K]\n",
       "      True Wireless      3  [ACCG48F2YZNGZ8D2, ACCFSDGXX3S6DVBG, ACCFSDGXT..."
      ]
     },
     "execution_count": 18,
     "metadata": {},
     "output_type": "execute_result"
    }
   ],
   "source": [
    "rating_df=final_scrapped_data.groupby('brand').agg({\"ratings_count\":\"sum\"})\n",
    "rating_df.reset_index(inplace=True)\n",
    "all_discription_filter=list(set(filtered_important_features).difference(set(competitor_data.columns.tolist())))\n",
    "list_of_brand=['Boult','boAt','Noise']\n",
    "list_of_price=[899]\n",
    "features_to_analyze=final_scrapped_data[final_scrapped_data['brand'].isin(list_of_brand) & final_scrapped_data['final_selling_price'].isin(list_of_price)]\n",
    "all_discription_filter.extend(['brand','fsn'])\n",
    "feature_df=features_to_analyze[all_discription_filter]\n",
    "feature_df=feature_df.dropna(axis=1,how='all')\n",
    "feature_df['Battery Life'].nunique()\n",
    "features_after_not_unique=[description for description in feature_df if feature_df[description].nunique()>1]\n",
    "feature_df=feature_df[features_after_not_unique]\n",
    "feature_df.groupby(['brand',features_after_not_unique[2]]).agg({\"fsn\":[\"count\",list]})"
   ]
  },
  {
   "cell_type": "code",
   "execution_count": 39,
   "metadata": {},
   "outputs": [],
   "source": [
    "fe_distribution=pd.DataFrame(final_scrapped_data['Color'].value_counts())\n",
    "fe_distribution.reset_index(inplace=True)\n",
    "fe_distribution=fe_distribution.sort_values(by='count',ascending=False).head(10)\n",
    "fe_fig=px.pie(fe_distribution,values='count',names='Color')"
   ]
  }
 ],
 "metadata": {
  "kernelspec": {
   "display_name": ".venv",
   "language": "python",
   "name": "python3"
  },
  "language_info": {
   "codemirror_mode": {
    "name": "ipython",
    "version": 3
   },
   "file_extension": ".py",
   "mimetype": "text/x-python",
   "name": "python",
   "nbconvert_exporter": "python",
   "pygments_lexer": "ipython3",
   "version": "3.10.0"
  }
 },
 "nbformat": 4,
 "nbformat_minor": 2
}
