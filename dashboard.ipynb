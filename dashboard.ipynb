{
 "cells": [
  {
   "cell_type": "code",
   "execution_count": 2,
   "metadata": {},
   "outputs": [
    {
     "name": "stdout",
     "output_type": "stream",
     "text": [
      "Search 'bluetooth earphone' Page 2: Found 40 data-ids\n",
      "Search 'bluetooth earphone' Page 1: Found 40 data-ids\n",
      "Search 'bluetooth earphone' Page 3: Found 40 data-ids\n",
      "Search 'bluetooth earphone' Page 4: Found 40 data-ids\n",
      "Search 'bluetooth earphone' Page 5: Found 40 data-ids\n",
      "Search 'bluetooth earphone' Page 6: Found 40 data-ids\n",
      "Search 'bluetooth earphone' Page 7: Found 40 data-ids\n",
      "Search 'bluetooth earphone' Page 8: Found 40 data-ids\n",
      "Search 'bluetooth earphone' Page 9: Found 40 data-ids\n",
      "Search 'bluetooth earphone' Page 10: Found 40 data-ids\n",
      "Search 'bluetooth earphone' Page 11: Found 40 data-ids\n",
      "Search 'bluetooth earphone' Page 12: Found 40 data-ids\n",
      "Search 'bluetooth earphone' Page 13: Found 40 data-ids\n",
      "Search 'bluetooth earphone' Page 14: Found 40 data-ids\n",
      "Search 'bluetooth earphone' Page 15: Found 40 data-ids\n",
      "Search 'bluetooth earphone' Page 16: Found 40 data-ids\n",
      "Search 'bluetooth earphone' Page 17: Found 40 data-ids\n",
      "Search 'bluetooth earphone' Page 18: Found 40 data-ids\n",
      "Search 'bluetooth earphone' Page 19: Found 40 data-ids\n",
      "Search 'bluetooth earphone' Page 21: Found 40 data-ids\n",
      "Search 'bluetooth earphone' Page 20: Found 40 data-ids\n",
      "Search 'bluetooth earphone' Page 22: Found 40 data-ids\n",
      "Search 'bluetooth earphone' Page 23: Found 40 data-ids\n",
      "Search 'bluetooth earphone' Page 24: Found 40 data-ids\n",
      "Search 'bluetooth earphone' Page 25: Found 40 data-ids\n",
      "Total data-id attributes found: 1000\n",
      "         search_query  position  page_no           data_id\n",
      "0  bluetooth earphone         1        2  ACCGS2VSKG3E2JW8\n",
      "1  bluetooth earphone         2        2  ACCGDK6F9CCRGHKU\n",
      "2  bluetooth earphone         3        2  ACCGQQ3CZZZSHZJZ\n",
      "3  bluetooth earphone         4        2  ACCGNFV3VGRBUHTQ\n",
      "4  bluetooth earphone         5        2  ACCG9J7F2NMUB5H6\n"
     ]
    }
   ],
   "source": [
    "import http.client\n",
    "from urllib.parse import urlencode\n",
    "from bs4 import BeautifulSoup\n",
    "import concurrent.futures\n",
    "import threading\n",
    "import pandas as pd\n",
    "import gzip\n",
    "import io\n",
    "\n",
    "# Thread-local data to store per-thread HTTPSConnection\n",
    "thread_local = threading.local()\n",
    "\n",
    "def get_connection():\n",
    "    if not hasattr(thread_local, 'conn'):\n",
    "        thread_local.conn = http.client.HTTPSConnection(\"www.flipkart.com\", timeout=10)\n",
    "    return thread_local.conn\n",
    "\n",
    "def get_fsn(search, page):\n",
    "    params = {\n",
    "        'q': search,\n",
    "        'page': page\n",
    "    }\n",
    "    query_string = urlencode(params)\n",
    "    path = f\"/search?{query_string}\"\n",
    "    headers = {\n",
    "        'User-Agent': 'Mozilla/5.0 (Windows NT 10.0; Win64; x64) AppleWebKit/537.36 (KHTML, like Gecko) '\n",
    "                      'Chrome/85.0.4183.102 Safari/537.36',\n",
    "        'Accept-Encoding': 'gzip, deflate, br',\n",
    "        'Accept-Language': 'en-US,en;q=0.9',\n",
    "        'Connection': 'keep-alive',\n",
    "    }\n",
    "\n",
    "    try:\n",
    "        conn = get_connection()\n",
    "        conn.request(\"GET\", path, headers=headers)\n",
    "        res = conn.getresponse()\n",
    "        if res.status != 200:\n",
    "            print(f\"Error fetching page {page} for search '{search}': {res.status} {res.reason}\")\n",
    "            res.close()\n",
    "            return []\n",
    "        data = res.read()\n",
    "        res.close()\n",
    "\n",
    "        # Handle gzip encoding if present\n",
    "        encoding = res.getheader('Content-Encoding')\n",
    "        if encoding == 'gzip':\n",
    "            buf = io.BytesIO(data)\n",
    "            f = gzip.GzipFile(fileobj=buf)\n",
    "            data = f.read()\n",
    "\n",
    "        soup = BeautifulSoup(data, 'html.parser')\n",
    "        elements_with_data_id = soup.find_all(attrs={'data-id': True})\n",
    "        data_list = []\n",
    "        for position, element in enumerate(elements_with_data_id, start=1):\n",
    "            data_id = element['data-id']\n",
    "            data_list.append({\n",
    "                'search_query': search,\n",
    "                'position': position,\n",
    "                'page_no': page,\n",
    "                'data_id': data_id\n",
    "            })\n",
    "\n",
    "        return data_list\n",
    "\n",
    "    except Exception as e:\n",
    "        print(f\"Exception in get_fsn for search '{search}' page {page}: {e}\")\n",
    "        return []\n",
    "\n",
    "def collect_all_data_ids(search_queries, start_page, end_page):\n",
    "    all_data = []\n",
    "    tasks = [(search, page) for search in search_queries for page in range(start_page, end_page + 1)]\n",
    "\n",
    "    with concurrent.futures.ThreadPoolExecutor(max_workers=2) as executor:\n",
    "        future_to_task = {executor.submit(get_fsn, search, page): (search, page) for (search, page) in tasks}\n",
    "\n",
    "        for future in concurrent.futures.as_completed(future_to_task):\n",
    "            search, page = future_to_task[future]\n",
    "            try:\n",
    "                data_list = future.result()\n",
    "                print(f\"Search '{search}' Page {page}: Found {len(data_list)} data-ids\")\n",
    "                all_data.extend(data_list)\n",
    "            except Exception as exc:\n",
    "                print(f\"Search '{search}' Page {page} generated an exception: {exc}\")\n",
    "\n",
    "    return all_data\n",
    "\n",
    "if __name__ == \"__main__\":\n",
    "    search_queries = [\n",
    "        'bluetooth earphone'\n",
    "    ]\n",
    "    start_page = 1\n",
    "    end_page = 25\n",
    "\n",
    "    all_data = collect_all_data_ids(search_queries, start_page, end_page)\n",
    "    print(f\"Total data-id attributes found: {len(all_data)}\")\n",
    "\n",
    "    # Create DataFrame\n",
    "    df = pd.DataFrame(all_data, columns=['search_query', 'position', 'page_no', 'data_id'])\n",
    "\n",
    "    # Now you can print the DataFrame, save it, or process it further\n",
    "    print(df.head())\n"
   ]
  },
  {
   "cell_type": "code",
   "execution_count": 8,
   "metadata": {},
   "outputs": [],
   "source": [
    "all_fsns = df['data_id'].to_list()\n",
    "final_fsn_list = list(set(all_fsns))"
   ]
  },
  {
   "cell_type": "code",
   "execution_count": 9,
   "metadata": {},
   "outputs": [],
   "source": [
    "from scrapper import flipkart_json_scrapper_with_all_specifications as fk_scrapper"
   ]
  },
  {
   "cell_type": "code",
   "execution_count": 11,
   "metadata": {},
   "outputs": [],
   "source": [
    "competitor_data=fk_scrapper.scrape_all_fsns(final_fsn_list)"
   ]
  },
  {
   "cell_type": "code",
   "execution_count": 12,
   "metadata": {},
   "outputs": [],
   "source": [
    "competitor_data['brand'] = competitor_data['title'].str.split(\" \").str[0]"
   ]
  },
  {
   "cell_type": "code",
   "execution_count": 14,
   "metadata": {},
   "outputs": [],
   "source": [
    "brand_level_data=competitor_data"
   ]
  },
  {
   "cell_type": "code",
   "execution_count": 19,
   "metadata": {},
   "outputs": [
    {
     "data": {
      "text/plain": [
       "{'Model ID': 'NB128 Happy 24 Hours Playing Time | Deep Bass| Made In India Neckband Earphone',\n",
       " 'Color': 'Black, Yellow',\n",
       " 'Headphone Type': 'In the Ear',\n",
       " 'Inline Remote': 'Yes',\n",
       " 'Sales Package': '1 Bluetooth Headset',\n",
       " 'Connectivity': 'Bluetooth',\n",
       " 'Headphone Design': 'Behind the Neck',\n",
       " 'Compatible Devices': 'Mobile, Laptop, Tablet',\n",
       " 'Net Quantity': '1',\n",
       " 'Sweat Proof': 'Yes',\n",
       " 'Foldable/Collapsible': 'Yes',\n",
       " 'Deep Bass': 'Yes',\n",
       " 'Water Resistant': 'No',\n",
       " 'Monaural': 'No',\n",
       " 'Designed For': 'Android, iOS, Windows',\n",
       " 'Driver Type': 'Dynamic',\n",
       " 'Other Features': 'Smart Voice Assistant, Dual Device Pairing, Type-C Quick Charge',\n",
       " 'Headphone Driver Units': '12 mm',\n",
       " 'With Microphone': 'Yes',\n",
       " 'Minimum Frequency Response': '20 Hz',\n",
       " 'Maximum Frequency Response': '20000 Hz',\n",
       " 'Wireless Type': 'Bluetooth',\n",
       " 'Wireless Range': '10 m',\n",
       " 'Bluetooth Version': 'v5.0',\n",
       " 'Bluetooth Range': '10 m',\n",
       " 'Headphone Power Source': 'Battery',\n",
       " 'Power Supply': 'Battery Powered',\n",
       " 'Battery Life': '24 hr',\n",
       " 'Play Time': '24 hr',\n",
       " 'Standby Time': '200 hr',\n",
       " 'Warranty Service Type': 'NA',\n",
       " 'Covered in Warranty': 'NA'}"
      ]
     },
     "execution_count": 19,
     "metadata": {},
     "output_type": "execute_result"
    }
   ],
   "source": [
    "brand_level_data['all_specs'][2]"
   ]
  },
  {
   "cell_type": "code",
   "execution_count": 15,
   "metadata": {},
   "outputs": [
    {
     "ename": "AttributeError",
     "evalue": "'float' object has no attribute 'items'",
     "output_type": "error",
     "traceback": [
      "\u001b[1;31m---------------------------------------------------------------------------\u001b[0m",
      "\u001b[1;31mAttributeError\u001b[0m                            Traceback (most recent call last)",
      "Cell \u001b[1;32mIn[15], line 3\u001b[0m\n\u001b[0;32m      1\u001b[0m \u001b[38;5;28;01mfor\u001b[39;00m index, row \u001b[38;5;129;01min\u001b[39;00m brand_level_data\u001b[38;5;241m.\u001b[39miterrows():\n\u001b[0;32m      2\u001b[0m     specs \u001b[38;5;241m=\u001b[39m row[\u001b[38;5;124m'\u001b[39m\u001b[38;5;124mall_specs\u001b[39m\u001b[38;5;124m'\u001b[39m]\n\u001b[1;32m----> 3\u001b[0m     \u001b[38;5;28;01mfor\u001b[39;00m key, value \u001b[38;5;129;01min\u001b[39;00m \u001b[43mspecs\u001b[49m\u001b[38;5;241;43m.\u001b[39;49m\u001b[43mitems\u001b[49m():\n\u001b[0;32m      4\u001b[0m         \u001b[38;5;28;01mif\u001b[39;00m key \u001b[38;5;129;01mnot\u001b[39;00m \u001b[38;5;129;01min\u001b[39;00m brand_level_data\u001b[38;5;241m.\u001b[39mcolumns:\n\u001b[0;32m      5\u001b[0m             brand_level_data[key] \u001b[38;5;241m=\u001b[39m \u001b[38;5;28;01mNone\u001b[39;00m\n",
      "\u001b[1;31mAttributeError\u001b[0m: 'float' object has no attribute 'items'"
     ]
    }
   ],
   "source": [
    "for index, row in brand_level_data.iterrows():\n",
    "    specs = row['all_specs']\n",
    "    for key, value in specs.items():\n",
    "        if key not in brand_level_data.columns:\n",
    "            brand_level_data[key] = None\n",
    "        brand_level_data.at[index, key] = value"
   ]
  },
  {
   "cell_type": "code",
   "execution_count": null,
   "metadata": {},
   "outputs": [],
   "source": []
  }
 ],
 "metadata": {
  "kernelspec": {
   "display_name": ".venv",
   "language": "python",
   "name": "python3"
  },
  "language_info": {
   "codemirror_mode": {
    "name": "ipython",
    "version": 3
   },
   "file_extension": ".py",
   "mimetype": "text/x-python",
   "name": "python",
   "nbconvert_exporter": "python",
   "pygments_lexer": "ipython3",
   "version": "3.10.0"
  }
 },
 "nbformat": 4,
 "nbformat_minor": 2
}
