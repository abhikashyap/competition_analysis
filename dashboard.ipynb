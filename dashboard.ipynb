{
 "cells": [
  {
   "cell_type": "code",
   "execution_count": 2,
   "metadata": {},
   "outputs": [
    {
     "name": "stderr",
     "output_type": "stream",
     "text": [
      "d:\\personal_git\\data science\\portfolio projects\\Competition analysis\\.venv\\lib\\site-packages\\fuzzywuzzy\\fuzz.py:11: UserWarning: Using slow pure-python SequenceMatcher. Install python-Levenshtein to remove this warning\n",
      "  warnings.warn('Using slow pure-python SequenceMatcher. Install python-Levenshtein to remove this warning')\n"
     ]
    }
   ],
   "source": [
    "import streamlit as st \n",
    "from scrapper import fk_scrapper_functions as sc\n",
    "from scrapper import flipkart_json_scrapper_with_all_specifications as fk_scrapper\n",
    "import time\n",
    "import pandas as pd\n",
    "import plotly.express as px\n",
    "import seaborn as sns\n",
    "import matplotlib.pyplot as plt\n",
    "competitor_data=pd.read_pickle('competitor_data.pkl')"
   ]
  },
  {
   "cell_type": "code",
   "execution_count": 4,
   "metadata": {},
   "outputs": [
    {
     "name": "stderr",
     "output_type": "stream",
     "text": [
      "2024-07-01 11:55:37.974 Serialization of dataframe to Arrow table was unsuccessful due to: (\"Could not convert '' with type str: tried to convert to double\", 'Conversion failed for column rating with type object'). Applying automatic fixes for column types to make the dataframe Arrow-compatible.\n"
     ]
    }
   ],
   "source": [
    "competitor_data=pd.read_pickle('competitor_data.pkl')\n",
    "st.write(competitor_data['all_specs'][0].get('Model Name'))\n",
    "competitor_data['brand']=competitor_data['title'].str.split(\" \").str[0]\n",
    "brand_level_data=competitor_data.copy()\n",
    "st.dataframe(brand_level_data)\n",
    "for index, row in brand_level_data.iterrows():\n",
    "    specs = row['all_specs']\n",
    "    for key, value in specs.items():\n",
    "        if key not in brand_level_data.columns:\n",
    "            brand_level_data[key] = None\n",
    "        brand_level_data.at[index, key] = value\n",
    "most_important_feature={}\n",
    "feature_name=[]\n",
    "feature_count=[]\n",
    "for column in brand_level_data.columns:\n",
    "    feature_name.append(column)\n",
    "    feature_count.append(brand_level_data[column].count())\n",
    "most_important_feature['feature_name']=feature_name\n",
    "most_important_feature['feature_count']=feature_count\n",
    "important_features=pd.DataFrame(most_important_feature)\n",
    "important_features['feautre_present_in_%_of_products']=important_features['feature_count']*100/important_features['feature_count'].max()\n",
    "filtered_important_features=important_features[important_features['feautre_present_in_%_of_products'] >=10]['feature_name'].to_list()\n",
    "final_scrapped_data=brand_level_data[filtered_important_features]\n"
   ]
  },
  {
   "cell_type": "code",
   "execution_count": 127,
   "metadata": {},
   "outputs": [
    {
     "data": {
      "text/html": [
       "<div>\n",
       "<style scoped>\n",
       "    .dataframe tbody tr th:only-of-type {\n",
       "        vertical-align: middle;\n",
       "    }\n",
       "\n",
       "    .dataframe tbody tr th {\n",
       "        vertical-align: top;\n",
       "    }\n",
       "\n",
       "    .dataframe thead th {\n",
       "        text-align: right;\n",
       "    }\n",
       "</style>\n",
       "<table border=\"1\" class=\"dataframe\">\n",
       "  <thead>\n",
       "    <tr style=\"text-align: right;\">\n",
       "      <th></th>\n",
       "      <th>fsn</th>\n",
       "      <th>title</th>\n",
       "      <th>rating</th>\n",
       "      <th>ratings_count</th>\n",
       "      <th>reviews_count</th>\n",
       "      <th>special_price</th>\n",
       "      <th>final_selling_price</th>\n",
       "      <th>mrp</th>\n",
       "      <th>flipkart_assured</th>\n",
       "      <th>Seller Name</th>\n",
       "      <th>highlights</th>\n",
       "      <th>paymentOptions</th>\n",
       "      <th>description</th>\n",
       "      <th>productDescription</th>\n",
       "      <th>specifications</th>\n",
       "      <th>fk_other_seller_info</th>\n",
       "      <th>reviews</th>\n",
       "      <th>productImagesCount</th>\n",
       "      <th>productVideosCount</th>\n",
       "      <th>image_link</th>\n",
       "      <th>all_specs</th>\n",
       "      <th>brand</th>\n",
       "      <th>Model Name</th>\n",
       "      <th>Color</th>\n",
       "      <th>Headphone Type</th>\n",
       "      <th>Inline Remote</th>\n",
       "      <th>Sales Package</th>\n",
       "      <th>Connectivity</th>\n",
       "      <th>Headphone Design</th>\n",
       "      <th>Accessories Included</th>\n",
       "      <th>Compatible Devices</th>\n",
       "      <th>Net Quantity</th>\n",
       "      <th>Sweat Proof</th>\n",
       "      <th>Foldable/Collapsible</th>\n",
       "      <th>Deep Bass</th>\n",
       "      <th>Water Resistant</th>\n",
       "      <th>Monaural</th>\n",
       "      <th>Open/Closed Back</th>\n",
       "      <th>Carrier Frequency</th>\n",
       "      <th>Magnet Type</th>\n",
       "      <th>Connector Plating</th>\n",
       "      <th>Connector Size</th>\n",
       "      <th>Controls</th>\n",
       "      <th>Other Features</th>\n",
       "      <th>Number of Pins</th>\n",
       "      <th>Boom Microphone</th>\n",
       "      <th>With Microphone</th>\n",
       "      <th>Sensitivity</th>\n",
       "      <th>Impedance</th>\n",
       "      <th>Signal to Noise Ratio</th>\n",
       "      <th>Modulation</th>\n",
       "      <th>Maximum Power Input</th>\n",
       "      <th>Minimum Frequency Response</th>\n",
       "      <th>Maximum Frequency Response</th>\n",
       "      <th>Noise Reduction</th>\n",
       "      <th>Other Sound Features</th>\n",
       "      <th>Audio Codec</th>\n",
       "      <th>Wireless Type</th>\n",
       "      <th>Wireless Range</th>\n",
       "      <th>Bluetooth Profiles</th>\n",
       "      <th>Bluetooth Version</th>\n",
       "      <th>Bluetooth Range</th>\n",
       "      <th>Headphone Power Source</th>\n",
       "      <th>Headphone Power Requirement</th>\n",
       "      <th>Headphone Battery</th>\n",
       "      <th>Power Supply</th>\n",
       "      <th>Battery Output</th>\n",
       "      <th>Battery Type</th>\n",
       "      <th>Battery Life</th>\n",
       "      <th>Battery Capacity</th>\n",
       "      <th>Charging Time</th>\n",
       "      <th>Play Time</th>\n",
       "      <th>Standby Time</th>\n",
       "      <th>Other Power Features</th>\n",
       "      <th>Warranty Summary</th>\n",
       "      <th>Warranty Service Type</th>\n",
       "      <th>Covered in Warranty</th>\n",
       "      <th>Not Covered in Warranty</th>\n",
       "      <th>Designed For</th>\n",
       "      <th>Series</th>\n",
       "      <th>System Requirements</th>\n",
       "      <th>Circumaural/Supraaural</th>\n",
       "      <th>Driver Type</th>\n",
       "      <th>Indicators</th>\n",
       "      <th>Theme</th>\n",
       "      <th>Technology Used</th>\n",
       "      <th>Headphone Driver Units</th>\n",
       "      <th>Cord Type</th>\n",
       "      <th>Transmitter Power Source</th>\n",
       "      <th>Width</th>\n",
       "      <th>Height</th>\n",
       "      <th>Depth</th>\n",
       "      <th>Weight</th>\n",
       "      <th>Cord Length</th>\n",
       "      <th>Other Dimensions</th>\n",
       "      <th>Domestic Warranty</th>\n",
       "    </tr>\n",
       "  </thead>\n",
       "  <tbody>\n",
       "  </tbody>\n",
       "</table>\n",
       "</div>"
      ],
      "text/plain": [
       "Empty DataFrame\n",
       "Columns: [fsn, title, rating, ratings_count, reviews_count, special_price, final_selling_price, mrp, flipkart_assured, Seller Name, highlights, paymentOptions, description, productDescription, specifications, fk_other_seller_info, reviews, productImagesCount, productVideosCount, image_link, all_specs, brand, Model Name, Color, Headphone Type, Inline Remote, Sales Package, Connectivity, Headphone Design, Accessories Included, Compatible Devices, Net Quantity, Sweat Proof, Foldable/Collapsible, Deep Bass, Water Resistant, Monaural, Open/Closed Back, Carrier Frequency, Magnet Type, Connector Plating, Connector Size, Controls, Other Features, Number of Pins, Boom Microphone, With Microphone, Sensitivity, Impedance, Signal to Noise Ratio, Modulation, Maximum Power Input, Minimum Frequency Response, Maximum Frequency Response, Noise Reduction, Other Sound Features, Audio Codec, Wireless Type, Wireless Range, Bluetooth Profiles, Bluetooth Version, Bluetooth Range, Headphone Power Source, Headphone Power Requirement, Headphone Battery, Power Supply, Battery Output, Battery Type, Battery Life, Battery Capacity, Charging Time, Play Time, Standby Time, Other Power Features, Warranty Summary, Warranty Service Type, Covered in Warranty, Not Covered in Warranty, Designed For, Series, System Requirements, Circumaural/Supraaural, Driver Type, Indicators, Theme, Technology Used, Headphone Driver Units, Cord Type, Transmitter Power Source, Width, Height, Depth, Weight, Cord Length, Other Dimensions, Domestic Warranty]\n",
       "Index: []"
      ]
     },
     "execution_count": 127,
     "metadata": {},
     "output_type": "execute_result"
    }
   ],
   "source": [
    "final_scrapped_data[final_scrapped_data['Headphone Type'].str.lower().str.contains('black')]"
   ]
  },
  {
   "cell_type": "code",
   "execution_count": 126,
   "metadata": {},
   "outputs": [
    {
     "data": {
      "text/plain": [
       "Color          \n",
       "White              279\n",
       "Black              272\n",
       "Blue                78\n",
       "Green               40\n",
       "Grey                18\n",
       "                  ... \n",
       "Black Neon           1\n",
       "Black Or Silver      1\n",
       "Silver, Green        1\n",
       "Black and Red        1\n",
       "Active Teal          1\n",
       "Name: count, Length: 292, dtype: int64"
      ]
     },
     "execution_count": 126,
     "metadata": {},
     "output_type": "execute_result"
    }
   ],
   "source": [
    "final_scrapped_data[['Color']].value_counts()"
   ]
  },
  {
   "cell_type": "code",
   "execution_count": null,
   "metadata": {},
   "outputs": [],
   "source": []
  },
  {
   "cell_type": "code",
   "execution_count": null,
   "metadata": {},
   "outputs": [],
   "source": []
  },
  {
   "cell_type": "code",
   "execution_count": null,
   "metadata": {},
   "outputs": [],
   "source": []
  },
  {
   "cell_type": "code",
   "execution_count": null,
   "metadata": {},
   "outputs": [],
   "source": []
  },
  {
   "cell_type": "code",
   "execution_count": null,
   "metadata": {},
   "outputs": [],
   "source": []
  },
  {
   "cell_type": "code",
   "execution_count": 72,
   "metadata": {},
   "outputs": [
    {
     "name": "stderr",
     "output_type": "stream",
     "text": [
      "C:\\Users\\kashy\\AppData\\Local\\Temp\\ipykernel_7200\\3423002352.py:1: SettingWithCopyWarning: \n",
      "A value is trying to be set on a copy of a slice from a DataFrame.\n",
      "Try using .loc[row_indexer,col_indexer] = value instead\n",
      "\n",
      "See the caveats in the documentation: https://pandas.pydata.org/pandas-docs/stable/user_guide/indexing.html#returning-a-view-versus-a-copy\n",
      "  final_scrapped_data['final_selling_price']=final_scrapped_data['final_selling_price'].astype(float)\n"
     ]
    }
   ],
   "source": [
    "final_scrapped_data['final_selling_price']=final_scrapped_data['final_selling_price'].astype(float)"
   ]
  },
  {
   "cell_type": "code",
   "execution_count": 70,
   "metadata": {},
   "outputs": [],
   "source": [
    "min_price=final_scrapped_data['final_selling_price'].min()\n",
    "max_price=final_scrapped_data['final_selling_price'].max()"
   ]
  },
  {
   "cell_type": "code",
   "execution_count": 76,
   "metadata": {},
   "outputs": [],
   "source": [
    "final_scrapped_data=final_scrapped_data[(final_scrapped_data['final_selling_price']>min_price)&(final_scrapped_data['final_selling_price']<max_price)]"
   ]
  },
  {
   "cell_type": "code",
   "execution_count": 91,
   "metadata": {},
   "outputs": [],
   "source": [
    "import analysis_function as f"
   ]
  },
  {
   "cell_type": "code",
   "execution_count": 95,
   "metadata": {},
   "outputs": [
    {
     "name": "stderr",
     "output_type": "stream",
     "text": [
      "C:\\Users\\kashy\\AppData\\Local\\Temp\\ipykernel_7200\\4159276515.py:1: SettingWithCopyWarning: \n",
      "A value is trying to be set on a copy of a slice from a DataFrame.\n",
      "Try using .loc[row_indexer,col_indexer] = value instead\n",
      "\n",
      "See the caveats in the documentation: https://pandas.pydata.org/pandas-docs/stable/user_guide/indexing.html#returning-a-view-versus-a-copy\n",
      "  final_scrapped_data['ratings_count']=final_scrapped_data['ratings_count'].apply(lambda x: x if f.is_integer(x) else None)\n",
      "C:\\Users\\kashy\\AppData\\Local\\Temp\\ipykernel_7200\\4159276515.py:2: SettingWithCopyWarning: \n",
      "A value is trying to be set on a copy of a slice from a DataFrame.\n",
      "Try using .loc[row_indexer,col_indexer] = value instead\n",
      "\n",
      "See the caveats in the documentation: https://pandas.pydata.org/pandas-docs/stable/user_guide/indexing.html#returning-a-view-versus-a-copy\n",
      "  final_scrapped_data['reviews_count']=final_scrapped_data['reviews_count'].apply(lambda x: x if f.is_integer(x) else None)\n"
     ]
    }
   ],
   "source": [
    "final_scrapped_data['ratings_count']=final_scrapped_data['ratings_count'].apply(lambda x: x if f.is_integer(x) else None)\n",
    "final_scrapped_data['reviews_count']=final_scrapped_data['reviews_count'].apply(lambda x: x if f.is_integer(x) else None)\n",
    "final_scrapped_data[(final_scrapped_data['ratings_count']>0) | ((final_scrapped_data['reviews_count']>0))]"
   ]
  },
  {
   "cell_type": "code",
   "execution_count": null,
   "metadata": {},
   "outputs": [],
   "source": [
    "final_scrapped_data[(final_scrapped_data['ratings_count']>0) | ((final_scrapped_data['reviews_count']>0))]"
   ]
  },
  {
   "cell_type": "code",
   "execution_count": 30,
   "metadata": {},
   "outputs": [],
   "source": [
    "options_to_select = []\n",
    "for column in filtered_important_features:\n",
    "    if column not in competitor_data.columns.to_list():\n",
    "        options_to_select.append(column)"
   ]
  },
  {
   "cell_type": "code",
   "execution_count": null,
   "metadata": {},
   "outputs": [],
   "source": [
    "Brand_dominance=pd.DataFrame(final_scrapped_data['brand'].value_counts())\n",
    "Brand_dominance.reset_index(inplace=True)\n",
    "Brand_dominance['Market_share']=Brand_dominance['count']*100/Brand_dominance['count'].sum()\n",
    "Brand_dominance.loc[Brand_dominance['count']<5,'Brand_type'] = 'others'\n",
    "Brand_dominance['Brand_type'].fillna(Brand_dominance['brand'],inplace=True)\n",
    "Brand_dominance.groupby('Brand_type')['count'].sum()"
   ]
  },
  {
   "cell_type": "code",
   "execution_count": 100,
   "metadata": {},
   "outputs": [],
   "source": [
    "other=Brand_dominance[Brand_dominance['count']<5]\n",
    "other_brands=other.groupby('count').agg({'brand': lambda x: list(x)})\n",
    "other_brands.reset_index(inplace=True)\n",
    "other_brands=other_brands.rename({'count':'No of products'},axis=1)"
   ]
  },
  {
   "cell_type": "code",
   "execution_count": null,
   "metadata": {},
   "outputs": [],
   "source": []
  }
 ],
 "metadata": {
  "kernelspec": {
   "display_name": ".venv",
   "language": "python",
   "name": "python3"
  },
  "language_info": {
   "codemirror_mode": {
    "name": "ipython",
    "version": 3
   },
   "file_extension": ".py",
   "mimetype": "text/x-python",
   "name": "python",
   "nbconvert_exporter": "python",
   "pygments_lexer": "ipython3",
   "version": "3.10.0"
  }
 },
 "nbformat": 4,
 "nbformat_minor": 2
}
