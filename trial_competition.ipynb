{
 "cells": [
  {
   "cell_type": "code",
   "execution_count": 1,
   "metadata": {},
   "outputs": [
    {
     "name": "stderr",
     "output_type": "stream",
     "text": [
      "d:\\personal_git\\data science\\portfolio projects\\Competition analysis\\.venv\\lib\\site-packages\\fuzzywuzzy\\fuzz.py:11: UserWarning: Using slow pure-python SequenceMatcher. Install python-Levenshtein to remove this warning\n",
      "  warnings.warn('Using slow pure-python SequenceMatcher. Install python-Levenshtein to remove this warning')\n"
     ]
    },
    {
     "name": "stdout",
     "output_type": "stream",
     "text": [
      "d:\\personal_git\\data science\\portfolio projects\\Competition analysis\\key1.json\n",
      "https://www.flipkart.com/search?q=earphone&page=1\n",
      "https://www.flipkart.com/search?q=earphone&page=2\n",
      "https://www.flipkart.com/search?q=earphone&page=3\n",
      "https://www.flipkart.com/search?q=earphone&page=4\n",
      "https://www.flipkart.com/search?q=earphone&page=5\n",
      "https://www.flipkart.com/search?q=earphone&page=6\n",
      "https://www.flipkart.com/search?q=earphone&page=7\n",
      "https://www.flipkart.com/search?q=earphone&page=8\n",
      "https://www.flipkart.com/search?q=earphone&page=9\n",
      "https://www.flipkart.com/search?q=earphone&page=10\n",
      "https://www.flipkart.com/search?q=earbuds&page=1\n",
      "https://www.flipkart.com/search?q=earbuds&page=2\n",
      "https://www.flipkart.com/search?q=earbuds&page=3\n",
      "https://www.flipkart.com/search?q=earbuds&page=4\n",
      "https://www.flipkart.com/search?q=earbuds&page=5\n",
      "https://www.flipkart.com/search?q=earbuds&page=6\n",
      "https://www.flipkart.com/search?q=earbuds&page=7\n",
      "https://www.flipkart.com/search?q=earbuds&page=8\n",
      "https://www.flipkart.com/search?q=earbuds&page=9\n",
      "https://www.flipkart.com/search?q=earbuds&page=10\n",
      "https://www.flipkart.com/search?q=gaming%20earphone&page=1\n",
      "https://www.flipkart.com/search?q=gaming%20earphone&page=2\n",
      "https://www.flipkart.com/search?q=gaming%20earphone&page=3\n",
      "https://www.flipkart.com/search?q=gaming%20earphone&page=4\n",
      "https://www.flipkart.com/search?q=gaming%20earphone&page=5\n",
      "https://www.flipkart.com/search?q=gaming%20earphone&page=6\n",
      "https://www.flipkart.com/search?q=gaming%20earphone&page=7\n",
      "https://www.flipkart.com/search?q=gaming%20earphone&page=8\n",
      "https://www.flipkart.com/search?q=gaming%20earphone&page=9\n",
      "https://www.flipkart.com/search?q=gaming%20earphone&page=10\n",
      "https://www.flipkart.com/search?q=bluetooth%20earphone&page=1\n",
      "https://www.flipkart.com/search?q=bluetooth%20earphone&page=2\n",
      "https://www.flipkart.com/search?q=bluetooth%20earphone&page=3\n",
      "https://www.flipkart.com/search?q=bluetooth%20earphone&page=4\n",
      "https://www.flipkart.com/search?q=bluetooth%20earphone&page=5\n",
      "https://www.flipkart.com/search?q=bluetooth%20earphone&page=6\n",
      "https://www.flipkart.com/search?q=bluetooth%20earphone&page=7\n",
      "https://www.flipkart.com/search?q=bluetooth%20earphone&page=8\n",
      "https://www.flipkart.com/search?q=bluetooth%20earphone&page=9\n",
      "https://www.flipkart.com/search?q=bluetooth%20earphone&page=10\n",
      "1092\n"
     ]
    }
   ],
   "source": [
    "from piTask import general\n",
    "from fuzzywuzzy import fuzz\n",
    "from fuzzywuzzy import process\n",
    "from itertools import combinations\n",
    "from scrapper import flipkart_json_scrapper_with_all_specifications as fk_scrapper\n",
    "import pandas as pd\n",
    "pd.set_option('display.max_columns', None)\n",
    "from pprint import pprint \n",
    "import json\n",
    "from selenium import webdriver\n",
    "from selenium.webdriver.chrome.options import Options\n",
    "from selenium.webdriver.common.by import By\n",
    "import numpy as np\n",
    "def open_chrome_headless():\n",
    "    chrome_options = Options()\n",
    "    chrome_options.add_argument(\"--headless\")\n",
    "    driver = webdriver.Chrome(options=chrome_options)\n",
    "    return driver\n",
    "def fns_scrap(driver,url,no_of_pages):\n",
    "    fsns = []\n",
    "    for i in range(1, no_of_pages + 1):\n",
    "        final_url = url + f'&page={i}'\n",
    "        print(final_url)\n",
    "        driver.get(final_url)\n",
    "        all_fsns = driver.find_elements(By.XPATH, '//*[@data-id]')\n",
    "        for fsn in all_fsns:\n",
    "            single_fsn = fsn.get_attribute('data-id')\n",
    "            fsns.append(single_fsn)        \n",
    "    return fsns\n",
    "\n",
    "\n",
    "def is_integer(value):\n",
    "    try:\n",
    "        int(value)\n",
    "        return True\n",
    "    except ValueError:\n",
    "        return False\n",
    "input_sheet='1YzEFAUQN-It8vxZ1OaPgkw5ZixVImj17nI-vkAjNz-0'\n",
    "input_sheet_name ='input_sheet'\n",
    "input_df=general.read_sheet(input_sheet,input_sheet_name,1)\n",
    "\n",
    "keywords=[i for i in input_df['keyword'].to_list() if len(i)>0]\n",
    "all_urls=['https://www.flipkart.com/search?q='+keyword.replace(\" \",\"%20\") for keyword in keywords]\n",
    "my_fsns=[i for i in input_df['my_fsn'].to_list() if len(i)>0]\n",
    "attributes_to_filter=input_df['attribute_to_match'].to_list()\n",
    "brand_lists=[i for i in input_df['brand_name'].to_list() if len(i)>0]\n",
    "driver=open_chrome_headless()\n",
    "final_fsn_list=[]\n",
    "for url in all_urls:\n",
    "    fsns=fns_scrap(driver,url,10)\n",
    "    final_fsn_list.extend(fsns)\n",
    "driver.quit()\n",
    "final_fsn_list=list(set(final_fsn_list))\n",
    "print(len(final_fsn_list))\n",
    "competitor_data=fk_scrapper.scrape_all_fsns(final_fsn_list)\n",
    "my_data=fk_scrapper.scrape_all_fsns(my_fsns)\n",
    "competitor_data.drop_duplicates(subset='fsn',inplace=True)\n",
    "competitor_data['final_selling_price'] = competitor_data['final_selling_price'].apply(lambda x: x if is_integer(x) else None)\n",
    "# my_data.dropna(subset=['final_selling_price'],inplace=True)\n",
    "# my_data['final_selling_price'] = my_data['final_selling_price'].apply(lambda x: x if is_integer(x) else None)\n",
    "# competitor_data.dropna(subset=['final_selling_price'], inplace=True)\n",
    "# competitor_data['final_selling_price'] = competitor_data['final_selling_price'].astype(int)\n",
    "# my_data['final_selling_price'] = my_data['final_selling_price'].astype(int)\n",
    "# for brand in brand_lists:\n",
    "#     print(brand)\n",
    "#     substring_length=len(brand)\n",
    "#     competitor_data.loc[competitor_data['title'].str[:substring_length]==brand,'brand']=brand\n",
    "# competitor_data.dropna(subset=['brand'],inplace=True)\n",
    "my_data.dropna(subset=['final_selling_price'],inplace=True)\n",
    "my_data['final_selling_price']=my_data['final_selling_price'].replace([np.inf,-np.inf],0).fillna(0)\n",
    "my_data['final_selling_price'] = my_data['final_selling_price'].apply(lambda x: x if is_integer(x) else None)\n",
    "competitor_data.dropna(subset=['final_selling_price'], inplace=True)\n",
    "competitor_data['final_selling_price']=competitor_data['final_selling_price'].replace([np.inf,-np.inf],0).fillna(0)\n",
    "competitor_data['final_selling_price'] = competitor_data['final_selling_price'].astype(int)\n",
    "my_data=my_data.dropna(subset=['final_selling_price'])\n",
    "# my_data['final_selling_price'] = my_data['final_selling_price'].astype(int)\n",
    "# for brand in brand_lists:\n",
    "#     print(brand)\n",
    "#     substring_length=len(brand)\n",
    "#     competitor_data.loc[competitor_data['title'].str[:substring_length]==brand,'brand']=brand\n",
    "# competitor_data.dropna(subset=['brand'],inplace=True)\n",
    "# my_fsns=my_data['fsn'].to_list()\n"
   ]
  },
  {
   "cell_type": "code",
   "execution_count": null,
   "metadata": {},
   "outputs": [],
   "source": []
  },
  {
   "cell_type": "code",
   "execution_count": 6,
   "metadata": {},
   "outputs": [
    {
     "name": "stdout",
     "output_type": "stream",
     "text": [
      "SPPHYG2UERHCXHPK\n",
      "SPPGHW78FPQFSJCK\n"
     ]
    }
   ],
   "source": [
    "my_fsns=my_data['fsn'].to_list()\n",
    "final_df=[]\n",
    "for requested_fsn in my_fsns:\n",
    "\n",
    "    requested_data=my_data[my_data['fsn']==requested_fsn]\n",
    "    self_seller_name=requested_data['Seller Name'].values[0] \n",
    "    filtered_competitor_data=competitor_data[competitor_data['Seller Name'] != self_seller_name]\n",
    "    for attribute in [i for i in attributes_to_filter if len(i) > 0]:\n",
    "        requested_filter=requested_data['all_details'].values[0].get(attribute)\n",
    "        filtered_competitor_data=competitor_data[competitor_data['all_details'].apply(lambda x: x.get(attribute)) == requested_filter]\n",
    "    \n",
    "    \n",
    "    for index,row in input_df.iterrows():\n",
    "        if row['ranged_metric'] !=\"\":\n",
    "            ranged_metric=row['ranged_metric']\n",
    "            ranged_value=row['range']\n",
    "            # print(ranged_metric,ranged_value)\n",
    "            \n",
    "            if ranged_metric == 'final_selling_price':\n",
    "                requested_price=requested_data['final_selling_price'].values[0]\n",
    "                filtered_competitor_data=filtered_competitor_data[(filtered_competitor_data['final_selling_price']>requested_price*(1-ranged_value)) & (filtered_competitor_data['final_selling_price']<requested_price*(1+ranged_value))]\n",
    "\n",
    "            else:\n",
    "                filtered_competitor_data[ranged_metric]=filtered_competitor_data['all_details'].apply(lambda x: x.get(ranged_metric))\n",
    "                filtered_competitor_data[ranged_metric]=filtered_competitor_data[ranged_metric].str.extract(r'(\\d+\\.?\\d*)').astype(float).fillna(0)\n",
    "                requested_range=requested_data['all_details'].apply(lambda x: x.get(ranged_metric)).str.extract(r'(\\d+\\.?\\d*)').astype(float).fillna(0)\n",
    "                requested_range=requested_range.iloc[0].values[0]\n",
    "\n",
    "                filtered_competitor_data=filtered_competitor_data[(filtered_competitor_data[ranged_metric]>requested_range*(1-ranged_value)) & (filtered_competitor_data[ranged_metric]<requested_range*(1+ranged_value))]\n",
    "    first_title = requested_data['title'][:1].values[0]\n",
    "    first_description = requested_data['description'][:1].values[0]\n",
    "    first_details = requested_data['all_details'][:1].values[0]\n",
    "\n",
    "    if len(filtered_competitor_data) > 0:\n",
    "        for index,row in filtered_competitor_data.iterrows():\n",
    "\n",
    "            second_title=row['title']\n",
    "            second_details=\" \".join([f\"{k}: {v}\" for k, v in row['all_details'].items()])\n",
    "            second_description=row['description']\n",
    "            filtered_competitor_data.loc[index,'all_details_score']=fuzz.token_sort_ratio(first_details,second_details)\n",
    "            filtered_competitor_data.loc[index,'title_score']=fuzz.partial_ratio(first_title,second_title)\n",
    "            filtered_competitor_data.loc[index,'description_score']=fuzz.partial_ratio(first_description,second_description)\n",
    "        top_10_competitors=filtered_competitor_data.sort_values(by=['title_score','description_score','all_details_score'],ascending=False).head(5)\n",
    "        top_10_competitors['our_fsn']=requested_fsn\n",
    "        our_fsn=top_10_competitors['our_fsn']\n",
    "        top_10_competitors.insert(0,'requested_fsn',our_fsn)\n",
    "        url_competitor='https://www.flipkart.com/blaupunkt-bh41-wireless-headphones-long-playtimei-40mm-drivers-foldable-built-mic-bluetooth-headset/p/itm73e3b649da013?pid='+top_10_competitors['fsn']\n",
    "        top_10_competitors.insert(1,'url_competitor',url_competitor)\n",
    "        final_df.append(top_10_competitors)\n",
    "    else:\n",
    "        print(requested_fsn)\n",
    "\n",
    "all_competitor_data=pd.concat(final_df)\n",
    "len(all_competitor_data.columns)\n",
    "df_to_send=pd.concat([all_competitor_data,my_data])\n",
    "general.add_sheet_name('1YzEFAUQN-It8vxZ1OaPgkw5ZixVImj17nI-vkAjNz-0','competitors',1)\n",
    "general.print_sheet(1,df_to_send,'competitors','1YzEFAUQN-It8vxZ1OaPgkw5ZixVImj17nI-vkAjNz-0',1,3)"
   ]
  },
  {
   "cell_type": "code",
   "execution_count": 2,
   "metadata": {},
   "outputs": [
    {
     "data": {
      "text/plain": [
       "Index(['fsn', 'title', 'rating', 'ratings_count', 'reviews_count',\n",
       "       'special_price', 'final_selling_price', 'mrp', 'flipkart_assured',\n",
       "       'Seller Name', 'highlights', 'paymentOptions', 'description',\n",
       "       'productDescription', 'specifications', 'fk_other_seller_info',\n",
       "       'reviews', 'productImagesCount', 'productVideosCount', 'image_link',\n",
       "       'all_specs'],\n",
       "      dtype='object')"
      ]
     },
     "execution_count": 2,
     "metadata": {},
     "output_type": "execute_result"
    }
   ],
   "source": [
    "competitor_data.columns"
   ]
  },
  {
   "cell_type": "code",
   "execution_count": 5,
   "metadata": {},
   "outputs": [],
   "source": [
    "competitor_data['brand']=competitor_data['title'].str.split(\" \").str[0]"
   ]
  },
  {
   "cell_type": "code",
   "execution_count": 12,
   "metadata": {},
   "outputs": [],
   "source": [
    "brand_level_data=competitor_data.copy()"
   ]
  },
  {
   "cell_type": "code",
   "execution_count": 33,
   "metadata": {},
   "outputs": [],
   "source": [
    "for index, row in brand_level_data.iterrows():\n",
    "    # Get the dictionary from the 'all_specs' column\n",
    "    specs = row['all_specs']\n",
    "    # Iterate over each key-value pair in the dictionary\n",
    "    for key, value in specs.items():\n",
    "        # If the column does not exist, create it with default None values\n",
    "        if key not in brand_level_data.columns:\n",
    "            brand_level_data[key] = None\n",
    "        # Set the value for the current row in the new column\n",
    "        brand_level_data.at[index, key] = value"
   ]
  },
  {
   "cell_type": "code",
   "execution_count": 56,
   "metadata": {},
   "outputs": [],
   "source": [
    "most_important_feature={}\n",
    "feature_name=[]\n",
    "feature_count=[]\n",
    "for column in brand_level_data.columns:\n",
    "    feature_name.append(column)\n",
    "    feature_count.append(brand_level_data[column].count())\n"
   ]
  },
  {
   "cell_type": "code",
   "execution_count": 57,
   "metadata": {},
   "outputs": [],
   "source": [
    "most_important_feature['feature_name']=feature_name\n",
    "most_important_feature['feature_count']=feature_count"
   ]
  },
  {
   "cell_type": "code",
   "execution_count": 59,
   "metadata": {},
   "outputs": [],
   "source": [
    "important_features=pd.DataFrame(most_important_feature)"
   ]
  },
  {
   "cell_type": "code",
   "execution_count": 60,
   "metadata": {},
   "outputs": [
    {
     "data": {
      "text/html": [
       "<div>\n",
       "<style scoped>\n",
       "    .dataframe tbody tr th:only-of-type {\n",
       "        vertical-align: middle;\n",
       "    }\n",
       "\n",
       "    .dataframe tbody tr th {\n",
       "        vertical-align: top;\n",
       "    }\n",
       "\n",
       "    .dataframe thead th {\n",
       "        text-align: right;\n",
       "    }\n",
       "</style>\n",
       "<table border=\"1\" class=\"dataframe\">\n",
       "  <thead>\n",
       "    <tr style=\"text-align: right;\">\n",
       "      <th></th>\n",
       "      <th>feature_name</th>\n",
       "      <th>feature_count</th>\n",
       "    </tr>\n",
       "  </thead>\n",
       "  <tbody>\n",
       "    <tr>\n",
       "      <th>0</th>\n",
       "      <td>fsn</td>\n",
       "      <td>1090</td>\n",
       "    </tr>\n",
       "    <tr>\n",
       "      <th>1</th>\n",
       "      <td>title</td>\n",
       "      <td>1090</td>\n",
       "    </tr>\n",
       "    <tr>\n",
       "      <th>2</th>\n",
       "      <td>rating</td>\n",
       "      <td>1090</td>\n",
       "    </tr>\n",
       "    <tr>\n",
       "      <th>3</th>\n",
       "      <td>ratings_count</td>\n",
       "      <td>1090</td>\n",
       "    </tr>\n",
       "    <tr>\n",
       "      <th>4</th>\n",
       "      <td>reviews_count</td>\n",
       "      <td>1090</td>\n",
       "    </tr>\n",
       "    <tr>\n",
       "      <th>...</th>\n",
       "      <td>...</td>\n",
       "      <td>...</td>\n",
       "    </tr>\n",
       "    <tr>\n",
       "      <th>102</th>\n",
       "      <td>Transmitter Power Requirement</td>\n",
       "      <td>25</td>\n",
       "    </tr>\n",
       "    <tr>\n",
       "      <th>104</th>\n",
       "      <td>Weight Without Battery</td>\n",
       "      <td>13</td>\n",
       "    </tr>\n",
       "    <tr>\n",
       "      <th>103</th>\n",
       "      <td>Transmitter Battery</td>\n",
       "      <td>13</td>\n",
       "    </tr>\n",
       "    <tr>\n",
       "      <th>100</th>\n",
       "      <td>Weight Without Cord</td>\n",
       "      <td>10</td>\n",
       "    </tr>\n",
       "    <tr>\n",
       "      <th>101</th>\n",
       "      <td>Type</td>\n",
       "      <td>9</td>\n",
       "    </tr>\n",
       "  </tbody>\n",
       "</table>\n",
       "<p>105 rows × 2 columns</p>\n",
       "</div>"
      ],
      "text/plain": [
       "                      feature_name  feature_count\n",
       "0                              fsn           1090\n",
       "1                            title           1090\n",
       "2                           rating           1090\n",
       "3                    ratings_count           1090\n",
       "4                    reviews_count           1090\n",
       "..                             ...            ...\n",
       "102  Transmitter Power Requirement             25\n",
       "104         Weight Without Battery             13\n",
       "103            Transmitter Battery             13\n",
       "100            Weight Without Cord             10\n",
       "101                           Type              9\n",
       "\n",
       "[105 rows x 2 columns]"
      ]
     },
     "execution_count": 60,
     "metadata": {},
     "output_type": "execute_result"
    }
   ],
   "source": [
    "important_features.sort_values(by='feature_count',ascending=False)"
   ]
  },
  {
   "cell_type": "code",
   "execution_count": 64,
   "metadata": {},
   "outputs": [],
   "source": [
    "important_features['feautre_present_in_%_of_products']=important_features['feature_count']*100/important_features['feature_count'].max()"
   ]
  },
  {
   "cell_type": "code",
   "execution_count": 99,
   "metadata": {},
   "outputs": [],
   "source": [
    "filtered_important_features=important_features[important_features['feautre_present_in_%_of_products'] >=10]['feature_name'].to_list()"
   ]
  },
  {
   "cell_type": "code",
   "execution_count": 102,
   "metadata": {},
   "outputs": [],
   "source": [
    "final_scrapped_data=brand_level_data[filtered_important_features]"
   ]
  },
  {
   "cell_type": "code",
   "execution_count": null,
   "metadata": {},
   "outputs": [],
   "source": []
  }
 ],
 "metadata": {
  "kernelspec": {
   "display_name": "Python 3",
   "language": "python",
   "name": "python3"
  },
  "language_info": {
   "codemirror_mode": {
    "name": "ipython",
    "version": 3
   },
   "file_extension": ".py",
   "mimetype": "text/x-python",
   "name": "python",
   "nbconvert_exporter": "python",
   "pygments_lexer": "ipython3",
   "version": "3.10.0"
  }
 },
 "nbformat": 4,
 "nbformat_minor": 2
}
