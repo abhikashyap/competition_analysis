{
 "cells": [
  {
   "cell_type": "code",
   "execution_count": null,
   "metadata": {},
   "outputs": [],
   "source": [
    "from piTask import general\n",
    "from fuzzywuzzy import fuzz\n",
    "from fuzzywuzzy import process\n",
    "from itertools import combinations\n",
    "from scrapper import flipkart_json_scrapper_with_all_specifications as fk_scrapper\n",
    "import pandas as pd\n",
    "pd.set_option('display.max_columns', None)\n",
    "from pprint import pprint \n",
    "import json\n",
    "from selenium import webdriver\n",
    "from selenium.webdriver.chrome.options import Options\n",
    "from selenium.webdriver.common.by import By\n",
    "import numpy as np\n",
    "def open_chrome_headless():\n",
    "    chrome_options = Options()\n",
    "    chrome_options.add_argument(\"--headless\")\n",
    "    driver = webdriver.Chrome(options=chrome_options)\n",
    "    return driver\n",
    "def fns_scrap(driver,url,no_of_pages):\n",
    "    fsns = []\n",
    "    for i in range(1, no_of_pages + 1):\n",
    "        final_url = url + f'&page={i}'\n",
    "        print(final_url)\n",
    "        driver.get(final_url)\n",
    "        all_fsns = driver.find_elements(By.XPATH, '//*[@data-id]')\n",
    "        for fsn in all_fsns:\n",
    "            single_fsn = fsn.get_attribute('data-id')\n",
    "            fsns.append(single_fsn)        \n",
    "    return fsns\n",
    "\n",
    "\n",
    "def is_integer(value):\n",
    "    try:\n",
    "        int(value)\n",
    "        return True\n",
    "    except ValueError:\n",
    "        return False\n",
    "input_sheet='1YzEFAUQN-It8vxZ1OaPgkw5ZixVImj17nI-vkAjNz-0'\n",
    "input_sheet_name ='input_sheet'\n",
    "input_df=general.read_sheet(input_sheet,input_sheet_name,1)\n",
    "\n",
    "keywords=[i for i in input_df['keyword'].to_list() if len(i)>0]\n",
    "all_urls=['https://www.flipkart.com/search?q='+keyword.replace(\" \",\"%20\") for keyword in keywords]\n",
    "my_fsns=[i for i in input_df['my_fsn'].to_list() if len(i)>0]\n",
    "attributes_to_filter=input_df['attribute_to_match'].to_list()\n",
    "brand_lists=[i for i in input_df['brand_name'].to_list() if len(i)>0]\n",
    "driver=open_chrome_headless()\n",
    "final_fsn_list=[]\n",
    "for url in all_urls:\n",
    "    fsns=fns_scrap(driver,url,10)\n",
    "    final_fsn_list.extend(fsns)\n",
    "driver.quit()\n",
    "final_fsn_list=list(set(final_fsn_list))\n",
    "print(len(final_fsn_list))\n",
    "competitor_data=fk_scrapper.scrape_all_fsns(final_fsn_list)\n",
    "my_data=fk_scrapper.scrape_all_fsns(my_fsns)\n",
    "competitor_data.drop_duplicates(subset='fsn',inplace=True)\n",
    "competitor_data['final_selling_price'] = competitor_data['final_selling_price'].apply(lambda x: x if is_integer(x) else None)\n",
    "# my_data.dropna(subset=['final_selling_price'],inplace=True)\n",
    "# my_data['final_selling_price'] = my_data['final_selling_price'].apply(lambda x: x if is_integer(x) else None)\n",
    "# competitor_data.dropna(subset=['final_selling_price'], inplace=True)\n",
    "# competitor_data['final_selling_price'] = competitor_data['final_selling_price'].astype(int)\n",
    "# my_data['final_selling_price'] = my_data['final_selling_price'].astype(int)\n",
    "# for brand in brand_lists:\n",
    "#     print(brand)\n",
    "#     substring_length=len(brand)\n",
    "#     competitor_data.loc[competitor_data['title'].str[:substring_length]==brand,'brand']=brand\n",
    "# competitor_data.dropna(subset=['brand'],inplace=True)\n",
    "my_data.dropna(subset=['final_selling_price'],inplace=True)\n",
    "my_data['final_selling_price']=my_data['final_selling_price'].replace([np.inf,-np.inf],0).fillna(0)\n",
    "my_data['final_selling_price'] = my_data['final_selling_price'].apply(lambda x: x if is_integer(x) else None)\n",
    "competitor_data.dropna(subset=['final_selling_price'], inplace=True)\n",
    "competitor_data['final_selling_price']=competitor_data['final_selling_price'].replace([np.inf,-np.inf],0).fillna(0)\n",
    "competitor_data['final_selling_price'] = competitor_data['final_selling_price'].astype(int)\n",
    "my_data=my_data.dropna(subset=['final_selling_price'])\n",
    "my_data['final_selling_price'] = my_data['final_selling_price'].astype(int)\n",
    "for brand in brand_lists:\n",
    "    print(brand)\n",
    "    substring_length=len(brand)\n",
    "    competitor_data.loc[competitor_data['title'].str[:substring_length]==brand,'brand']=brand\n",
    "competitor_data.dropna(subset=['brand'],inplace=True)\n",
    "my_fsns=my_data['fsn'].to_list()\n"
   ]
  },
  {
   "cell_type": "code",
   "execution_count": 6,
   "metadata": {},
   "outputs": [
    {
     "name": "stdout",
     "output_type": "stream",
     "text": [
      "SPPHYG2UERHCXHPK\n",
      "SPPGHW78FPQFSJCK\n"
     ]
    }
   ],
   "source": [
    "my_fsns=my_data['fsn'].to_list()\n",
    "final_df=[]\n",
    "for requested_fsn in my_fsns:\n",
    "\n",
    "    requested_data=my_data[my_data['fsn']==requested_fsn]\n",
    "    self_seller_name=requested_data['Seller Name'].values[0] \n",
    "    filtered_competitor_data=competitor_data[competitor_data['Seller Name'] != self_seller_name]\n",
    "    for attribute in [i for i in attributes_to_filter if len(i) > 0]:\n",
    "        requested_filter=requested_data['all_details'].values[0].get(attribute)\n",
    "        filtered_competitor_data=competitor_data[competitor_data['all_details'].apply(lambda x: x.get(attribute)) == requested_filter]\n",
    "    \n",
    "    \n",
    "    for index,row in input_df.iterrows():\n",
    "        if row['ranged_metric'] !=\"\":\n",
    "            ranged_metric=row['ranged_metric']\n",
    "            ranged_value=row['range']\n",
    "            # print(ranged_metric,ranged_value)\n",
    "            \n",
    "            if ranged_metric == 'final_selling_price':\n",
    "                requested_price=requested_data['final_selling_price'].values[0]\n",
    "                filtered_competitor_data=filtered_competitor_data[(filtered_competitor_data['final_selling_price']>requested_price*(1-ranged_value)) & (filtered_competitor_data['final_selling_price']<requested_price*(1+ranged_value))]\n",
    "\n",
    "            else:\n",
    "                filtered_competitor_data[ranged_metric]=filtered_competitor_data['all_details'].apply(lambda x: x.get(ranged_metric))\n",
    "                filtered_competitor_data[ranged_metric]=filtered_competitor_data[ranged_metric].str.extract(r'(\\d+\\.?\\d*)').astype(float).fillna(0)\n",
    "                requested_range=requested_data['all_details'].apply(lambda x: x.get(ranged_metric)).str.extract(r'(\\d+\\.?\\d*)').astype(float).fillna(0)\n",
    "                requested_range=requested_range.iloc[0].values[0]\n",
    "\n",
    "                filtered_competitor_data=filtered_competitor_data[(filtered_competitor_data[ranged_metric]>requested_range*(1-ranged_value)) & (filtered_competitor_data[ranged_metric]<requested_range*(1+ranged_value))]\n",
    "    first_title = requested_data['title'][:1].values[0]\n",
    "    first_description = requested_data['description'][:1].values[0]\n",
    "    first_details = requested_data['all_details'][:1].values[0]\n",
    "\n",
    "    if len(filtered_competitor_data) > 0:\n",
    "        for index,row in filtered_competitor_data.iterrows():\n",
    "\n",
    "            second_title=row['title']\n",
    "            second_details=\" \".join([f\"{k}: {v}\" for k, v in row['all_details'].items()])\n",
    "            second_description=row['description']\n",
    "            filtered_competitor_data.loc[index,'all_details_score']=fuzz.token_sort_ratio(first_details,second_details)\n",
    "            filtered_competitor_data.loc[index,'title_score']=fuzz.partial_ratio(first_title,second_title)\n",
    "            filtered_competitor_data.loc[index,'description_score']=fuzz.partial_ratio(first_description,second_description)\n",
    "        top_10_competitors=filtered_competitor_data.sort_values(by=['title_score','description_score','all_details_score'],ascending=False).head(5)\n",
    "        top_10_competitors['our_fsn']=requested_fsn\n",
    "        our_fsn=top_10_competitors['our_fsn']\n",
    "        top_10_competitors.insert(0,'requested_fsn',our_fsn)\n",
    "        url_competitor='https://www.flipkart.com/blaupunkt-bh41-wireless-headphones-long-playtimei-40mm-drivers-foldable-built-mic-bluetooth-headset/p/itm73e3b649da013?pid='+top_10_competitors['fsn']\n",
    "        top_10_competitors.insert(1,'url_competitor',url_competitor)\n",
    "        final_df.append(top_10_competitors)\n",
    "    else:\n",
    "        print(requested_fsn)\n",
    "\n",
    "all_competitor_data=pd.concat(final_df)\n",
    "len(all_competitor_data.columns)\n",
    "df_to_send=pd.concat([all_competitor_data,my_data])\n",
    "general.add_sheet_name('1YzEFAUQN-It8vxZ1OaPgkw5ZixVImj17nI-vkAjNz-0','competitors',1)\n",
    "general.print_sheet(1,df_to_send,'competitors','1YzEFAUQN-It8vxZ1OaPgkw5ZixVImj17nI-vkAjNz-0',1,3)"
   ]
  },
  {
   "cell_type": "code",
   "execution_count": 22,
   "metadata": {},
   "outputs": [],
   "source": [
    "my_data.rename({'fsn':'requested_fsn'},axis=1,inplace=True)"
   ]
  },
  {
   "cell_type": "code",
   "execution_count": 23,
   "metadata": {},
   "outputs": [],
   "source": [
    "df_to_send=pd.concat([all_competitor_data,my_data])"
   ]
  },
  {
   "cell_type": "code",
   "execution_count": 24,
   "metadata": {},
   "outputs": [
    {
     "name": "stdout",
     "output_type": "stream",
     "text": [
      "d:\\company_git\\flows\\key1.json\n",
      "d:\\company_git\\flows\\key1.json\n"
     ]
    },
    {
     "name": "stderr",
     "output_type": "stream",
     "text": [
      "c:\\Users\\kashy\\AppData\\Local\\Programs\\Python\\Python310\\lib\\site-packages\\pygsheets\\worksheet.py:1431: FutureWarning: Downcasting object dtype arrays on .fillna, .ffill, .bfill is deprecated and will change in a future version. Call result.infer_objects(copy=False) instead. To opt-in to the future behavior, set `pd.set_option('future.no_silent_downcasting', True)`\n",
      "  df = df.fillna(nan)\n"
     ]
    },
    {
     "name": "stdout",
     "output_type": "stream",
     "text": [
      "uploaded * sheet name *competitors* in sheet_id *1YzEFAUQN-It8vxZ1OaPgkw5ZixVImj17nI-vkAjNz-0\n"
     ]
    }
   ],
   "source": [
    "general.add_sheet_name('1YzEFAUQN-It8vxZ1OaPgkw5ZixVImj17nI-vkAjNz-0','competitors',1)\n",
    "general.print_sheet(1,df_to_send,'competitors','1YzEFAUQN-It8vxZ1OaPgkw5ZixVImj17nI-vkAjNz-0',1,3)"
   ]
  },
  {
   "cell_type": "code",
   "execution_count": 20,
   "metadata": {},
   "outputs": [],
   "source": []
  },
  {
   "cell_type": "code",
   "execution_count": 21,
   "metadata": {},
   "outputs": [
    {
     "name": "stdout",
     "output_type": "stream",
     "text": [
      "d:\\company_git\\flows\\key1.json\n",
      "d:\\company_git\\flows\\key1.json\n"
     ]
    },
    {
     "name": "stderr",
     "output_type": "stream",
     "text": [
      "c:\\Users\\kashy\\AppData\\Local\\Programs\\Python\\Python310\\lib\\site-packages\\pygsheets\\worksheet.py:1431: FutureWarning: Downcasting object dtype arrays on .fillna, .ffill, .bfill is deprecated and will change in a future version. Call result.infer_objects(copy=False) instead. To opt-in to the future behavior, set `pd.set_option('future.no_silent_downcasting', True)`\n",
      "  df = df.fillna(nan)\n"
     ]
    },
    {
     "name": "stdout",
     "output_type": "stream",
     "text": [
      "uploaded * sheet name *competitors* in sheet_id *1YzEFAUQN-It8vxZ1OaPgkw5ZixVImj17nI-vkAjNz-0\n"
     ]
    }
   ],
   "source": []
  },
  {
   "cell_type": "code",
   "execution_count": null,
   "metadata": {},
   "outputs": [],
   "source": []
  }
 ],
 "metadata": {
  "kernelspec": {
   "display_name": "Python 3",
   "language": "python",
   "name": "python3"
  },
  "language_info": {
   "codemirror_mode": {
    "name": "ipython",
    "version": 3
   },
   "file_extension": ".py",
   "mimetype": "text/x-python",
   "name": "python",
   "nbconvert_exporter": "python",
   "pygments_lexer": "ipython3",
   "version": "3.10.0"
  }
 },
 "nbformat": 4,
 "nbformat_minor": 2
}
