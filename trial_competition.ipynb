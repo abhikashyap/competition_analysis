{
 "cells": [
  {
   "cell_type": "code",
   "execution_count": 13,
   "metadata": {},
   "outputs": [],
   "source": [
    "import plotly.express as px\n",
    "import seaborn as sns\n",
    "import matplotlib.pyplot as plt\n",
    "import analysis_function as f\n",
    "import streamlit as st"
   ]
  },
  {
   "cell_type": "code",
   "execution_count": 5,
   "metadata": {},
   "outputs": [],
   "source": [
    "import pandas as pd\n",
    "competitor_data=pd.read_pickle('competitor_data.pkl')"
   ]
  },
  {
   "cell_type": "code",
   "execution_count": 6,
   "metadata": {},
   "outputs": [],
   "source": [
    "final_scrapped_data=competitor_data.copy()"
   ]
  },
  {
   "cell_type": "code",
   "execution_count": 7,
   "metadata": {},
   "outputs": [],
   "source": [
    "final_scrapped_data=final_scrapped_data[final_scrapped_data['final_selling_price']!=\"\"]\n",
    "final_scrapped_data['final_selling_price']=final_scrapped_data['final_selling_price'].astype(float)\n",
    "final_scrapped_data['ratings_count']=final_scrapped_data['ratings_count'].apply(lambda x: x if f.is_integer(x) else None)\n",
    "final_scrapped_data['reviews_count']=final_scrapped_data['reviews_count'].apply(lambda x: x if f.is_integer(x) else None)\n",
    "price_vs_ratings=final_scrapped_data.groupby('final_selling_price').agg({'ratings_count':'sum','brand':list,'fsn':list})\n",
    "price_vs_ratings.reset_index(inplace=True)\n",
    "price_vs_ratings['brand']=price_vs_ratings['brand'].apply(lambda x: \" & \".join(list(set(x))))\n",
    "price_vs_ratings['fsn_count']=price_vs_ratings['fsn'].apply(lambda x:len(x))"
   ]
  },
  {
   "cell_type": "code",
   "execution_count": 12,
   "metadata": {},
   "outputs": [
    {
     "data": {
      "application/vnd.plotly.v1+json": {
       "config": {
        "plotlyServerURL": "https://plot.ly"
       },
       "data": [
        {
         "alignmentgroup": "True",
         "bingroup": "x",
         "hovertemplate": "brand=Bydye<br>final_selling_price=%{x}<br>count=%{y}<extra></extra>",
         "legendgroup": "Bydye",
         "marker": {
          "color": "rgb(76,114,176)",
          "pattern": {
           "shape": ""
          }
         },
         "name": "Bydye",
         "nbinsx": 10,
         "offsetgroup": "Bydye",
         "orientation": "v",
         "showlegend": true,
         "type": "histogram",
         "x": [
          424,
          424
         ],
         "xaxis": "x",
         "yaxis": "y"
        },
        {
         "alignmentgroup": "True",
         "bingroup": "x",
         "hovertemplate": "brand=HOUSE<br>final_selling_price=%{x}<br>count=%{y}<extra></extra>",
         "legendgroup": "HOUSE",
         "marker": {
          "color": "rgb(221,132,82)",
          "pattern": {
           "shape": ""
          }
         },
         "name": "HOUSE",
         "nbinsx": 10,
         "offsetgroup": "HOUSE",
         "orientation": "v",
         "showlegend": true,
         "type": "histogram",
         "x": [
          609,
          395,
          609,
          459,
          499,
          439,
          439,
          445,
          499,
          439,
          385,
          499,
          469,
          419,
          299,
          391,
          459,
          359,
          439,
          358,
          609,
          439
         ],
         "xaxis": "x",
         "yaxis": "y"
        },
        {
         "alignmentgroup": "True",
         "bingroup": "x",
         "hovertemplate": "brand=EARBOOTH<br>final_selling_price=%{x}<br>count=%{y}<extra></extra>",
         "legendgroup": "EARBOOTH",
         "marker": {
          "color": "rgb(85,168,104)",
          "pattern": {
           "shape": ""
          }
         },
         "name": "EARBOOTH",
         "nbinsx": 10,
         "offsetgroup": "EARBOOTH",
         "orientation": "v",
         "showlegend": true,
         "type": "histogram",
         "x": [
          599,
          469,
          599,
          599,
          599,
          569,
          599
         ],
         "xaxis": "x",
         "yaxis": "y"
        },
        {
         "alignmentgroup": "True",
         "bingroup": "x",
         "hovertemplate": "brand=Kreo<br>final_selling_price=%{x}<br>count=%{y}<extra></extra>",
         "legendgroup": "Kreo",
         "marker": {
          "color": "rgb(196,78,82)",
          "pattern": {
           "shape": ""
          }
         },
         "name": "Kreo",
         "nbinsx": 10,
         "offsetgroup": "Kreo",
         "orientation": "v",
         "showlegend": true,
         "type": "histogram",
         "x": [
          1366,
          1499,
          1499
         ],
         "xaxis": "x",
         "yaxis": "y"
        },
        {
         "alignmentgroup": "True",
         "bingroup": "x",
         "hovertemplate": "brand=D1Y3<br>final_selling_price=%{x}<br>count=%{y}<extra></extra>",
         "legendgroup": "D1Y3",
         "marker": {
          "color": "rgb(129,114,179)",
          "pattern": {
           "shape": ""
          }
         },
         "name": "D1Y3",
         "nbinsx": 10,
         "offsetgroup": "D1Y3",
         "orientation": "v",
         "showlegend": true,
         "type": "histogram",
         "x": [
          296,
          296,
          449,
          287,
          298
         ],
         "xaxis": "x",
         "yaxis": "y"
        },
        {
         "alignmentgroup": "True",
         "bingroup": "x",
         "hovertemplate": "brand=TECHFIRE<br>final_selling_price=%{x}<br>count=%{y}<extra></extra>",
         "legendgroup": "TECHFIRE",
         "marker": {
          "color": "rgb(147,120,96)",
          "pattern": {
           "shape": ""
          }
         },
         "name": "TECHFIRE",
         "nbinsx": 10,
         "offsetgroup": "TECHFIRE",
         "orientation": "v",
         "showlegend": true,
         "type": "histogram",
         "x": [
          499,
          349,
          379,
          449,
          399,
          349,
          449,
          379,
          379,
          379,
          399,
          379,
          371
         ],
         "xaxis": "x",
         "yaxis": "y"
        },
        {
         "alignmentgroup": "True",
         "bingroup": "x",
         "hovertemplate": "brand=KZ<br>final_selling_price=%{x}<br>count=%{y}<extra></extra>",
         "legendgroup": "KZ",
         "marker": {
          "color": "rgb(218,139,195)",
          "pattern": {
           "shape": ""
          }
         },
         "name": "KZ",
         "nbinsx": 10,
         "offsetgroup": "KZ",
         "orientation": "v",
         "showlegend": true,
         "type": "histogram",
         "x": [
          2025,
          1149,
          1752,
          1149,
          2025,
          1099
         ],
         "xaxis": "x",
         "yaxis": "y"
        },
        {
         "alignmentgroup": "True",
         "bingroup": "x",
         "hovertemplate": "brand=boAt<br>final_selling_price=%{x}<br>count=%{y}<extra></extra>",
         "legendgroup": "boAt",
         "marker": {
          "color": "rgb(140,140,140)",
          "pattern": {
           "shape": ""
          }
         },
         "name": "boAt",
         "nbinsx": 10,
         "offsetgroup": "boAt",
         "orientation": "v",
         "showlegend": true,
         "type": "histogram",
         "x": [
          449,
          1199,
          1499,
          1099,
          1299,
          1299,
          999,
          999,
          1199,
          2499,
          1099,
          1199,
          999,
          1099,
          1299,
          1499,
          1099,
          1499,
          1199,
          1299,
          1199,
          1399,
          2599,
          1599,
          899,
          1399,
          899,
          1099,
          1499,
          899,
          999,
          2599,
          1099,
          1699,
          1399,
          1399,
          1399,
          1499,
          999,
          1399,
          1249,
          1299,
          1299,
          1399,
          1199,
          1799,
          1099,
          1199,
          1299,
          999,
          599,
          1299,
          699,
          449,
          999,
          1399,
          1099,
          1199,
          899,
          1499,
          1099,
          1699,
          999,
          1699,
          1099,
          1199,
          999,
          349,
          2599,
          1199,
          1499,
          1499,
          1099,
          999,
          499,
          1999,
          1799,
          1799,
          599,
          1099,
          1099,
          1099,
          899,
          2499,
          1049,
          1099,
          1199,
          1499
         ],
         "xaxis": "x",
         "yaxis": "y"
        },
        {
         "alignmentgroup": "True",
         "bingroup": "x",
         "hovertemplate": "brand=Concept<br>final_selling_price=%{x}<br>count=%{y}<extra></extra>",
         "legendgroup": "Concept",
         "marker": {
          "color": "rgb(204,185,116)",
          "pattern": {
           "shape": ""
          }
         },
         "name": "Concept",
         "nbinsx": 10,
         "offsetgroup": "Concept",
         "orientation": "v",
         "showlegend": true,
         "type": "histogram",
         "x": [
          2379,
          2381,
          2099,
          679,
          2379,
          2199,
          2056,
          2199,
          2076,
          2177,
          7499
         ],
         "xaxis": "x",
         "yaxis": "y"
        },
        {
         "alignmentgroup": "True",
         "bingroup": "x",
         "hovertemplate": "brand=LELISU<br>final_selling_price=%{x}<br>count=%{y}<extra></extra>",
         "legendgroup": "LELISU",
         "marker": {
          "color": "rgb(100,181,205)",
          "pattern": {
           "shape": ""
          }
         },
         "name": "LELISU",
         "nbinsx": 10,
         "offsetgroup": "LELISU",
         "orientation": "v",
         "showlegend": true,
         "type": "histogram",
         "x": [
          799,
          799,
          799,
          799,
          799,
          799,
          799,
          799,
          799,
          799,
          799,
          799,
          799,
          799,
          799,
          799,
          799,
          799,
          799,
          799,
          799,
          799,
          799,
          799,
          799,
          799,
          799,
          799,
          799,
          799,
          799,
          799,
          799,
          799,
          799,
          799,
          799,
          799,
          799,
          799,
          799,
          799,
          799,
          799,
          799,
          799,
          799,
          799,
          799,
          799,
          799
         ],
         "xaxis": "x",
         "yaxis": "y"
        },
        {
         "alignmentgroup": "True",
         "bingroup": "x",
         "hovertemplate": "brand=HOPPUP<br>final_selling_price=%{x}<br>count=%{y}<extra></extra>",
         "legendgroup": "HOPPUP",
         "marker": {
          "color": "rgb(76,114,176)",
          "pattern": {
           "shape": ""
          }
         },
         "name": "HOPPUP",
         "nbinsx": 10,
         "offsetgroup": "HOPPUP",
         "orientation": "v",
         "showlegend": true,
         "type": "histogram",
         "x": [
          799,
          699,
          799,
          599,
          999,
          799,
          899,
          799,
          599,
          799,
          799,
          698,
          799,
          699,
          999,
          699,
          699,
          799,
          699
         ],
         "xaxis": "x",
         "yaxis": "y"
        },
        {
         "alignmentgroup": "True",
         "bingroup": "x",
         "hovertemplate": "brand=FUTURESTARRKK<br>final_selling_price=%{x}<br>count=%{y}<extra></extra>",
         "legendgroup": "FUTURESTARRKK",
         "marker": {
          "color": "rgb(221,132,82)",
          "pattern": {
           "shape": ""
          }
         },
         "name": "FUTURESTARRKK",
         "nbinsx": 10,
         "offsetgroup": "FUTURESTARRKK",
         "orientation": "v",
         "showlegend": true,
         "type": "histogram",
         "x": [
          599
         ],
         "xaxis": "x",
         "yaxis": "y"
        },
        {
         "alignmentgroup": "True",
         "bingroup": "x",
         "hovertemplate": "brand=Rueqn<br>final_selling_price=%{x}<br>count=%{y}<extra></extra>",
         "legendgroup": "Rueqn",
         "marker": {
          "color": "rgb(85,168,104)",
          "pattern": {
           "shape": ""
          }
         },
         "name": "Rueqn",
         "nbinsx": 10,
         "offsetgroup": "Rueqn",
         "orientation": "v",
         "showlegend": true,
         "type": "histogram",
         "x": [
          522,
          509,
          505,
          505,
          507,
          505
         ],
         "xaxis": "x",
         "yaxis": "y"
        },
        {
         "alignmentgroup": "True",
         "bingroup": "x",
         "hovertemplate": "brand=Portronics<br>final_selling_price=%{x}<br>count=%{y}<extra></extra>",
         "legendgroup": "Portronics",
         "marker": {
          "color": "rgb(196,78,82)",
          "pattern": {
           "shape": ""
          }
         },
         "name": "Portronics",
         "nbinsx": 10,
         "offsetgroup": "Portronics",
         "orientation": "v",
         "showlegend": true,
         "type": "histogram",
         "x": [
          849,
          299,
          399,
          399,
          749,
          299,
          399,
          379,
          784,
          699,
          829,
          649,
          1149,
          699,
          699,
          379,
          379,
          829,
          849,
          799,
          749
         ],
         "xaxis": "x",
         "yaxis": "y"
        },
        {
         "alignmentgroup": "True",
         "bingroup": "x",
         "hovertemplate": "brand=Noise<br>final_selling_price=%{x}<br>count=%{y}<extra></extra>",
         "legendgroup": "Noise",
         "marker": {
          "color": "rgb(129,114,179)",
          "pattern": {
           "shape": ""
          }
         },
         "name": "Noise",
         "nbinsx": 10,
         "offsetgroup": "Noise",
         "orientation": "v",
         "showlegend": true,
         "type": "histogram",
         "x": [
          899,
          1399,
          1499,
          1199,
          1099,
          1399,
          999,
          999,
          999,
          1299,
          1099,
          1299,
          999,
          1399,
          1599,
          1399,
          1299,
          1599,
          1399,
          1799,
          999,
          899,
          1799,
          1199,
          1299,
          1299,
          1499,
          1799,
          1799,
          1799,
          2999,
          1799,
          1399,
          2999,
          1599,
          1399,
          1799,
          1599,
          999,
          1299,
          899,
          1299,
          1399,
          1399,
          899,
          999,
          1299
         ],
         "xaxis": "x",
         "yaxis": "y"
        },
        {
         "alignmentgroup": "True",
         "bingroup": "x",
         "hovertemplate": "brand=truke<br>final_selling_price=%{x}<br>count=%{y}<extra></extra>",
         "legendgroup": "truke",
         "marker": {
          "color": "rgb(147,120,96)",
          "pattern": {
           "shape": ""
          }
         },
         "name": "truke",
         "nbinsx": 10,
         "offsetgroup": "truke",
         "orientation": "v",
         "showlegend": true,
         "type": "histogram",
         "x": [
          799,
          1799,
          699,
          799,
          999,
          799,
          1799,
          799,
          799,
          999,
          999,
          699,
          799,
          754,
          999,
          1099,
          899,
          999,
          899,
          1399
         ],
         "xaxis": "x",
         "yaxis": "y"
        },
        {
         "alignmentgroup": "True",
         "bingroup": "x",
         "hovertemplate": "brand=IAIR<br>final_selling_price=%{x}<br>count=%{y}<extra></extra>",
         "legendgroup": "IAIR",
         "marker": {
          "color": "rgb(218,139,195)",
          "pattern": {
           "shape": ""
          }
         },
         "name": "IAIR",
         "nbinsx": 10,
         "offsetgroup": "IAIR",
         "orientation": "v",
         "showlegend": true,
         "type": "histogram",
         "x": [
          399,
          186,
          405,
          230
         ],
         "xaxis": "x",
         "yaxis": "y"
        },
        {
         "alignmentgroup": "True",
         "bingroup": "x",
         "hovertemplate": "brand=JBL<br>final_selling_price=%{x}<br>count=%{y}<extra></extra>",
         "legendgroup": "JBL",
         "marker": {
          "color": "rgb(140,140,140)",
          "pattern": {
           "shape": ""
          }
         },
         "name": "JBL",
         "nbinsx": 10,
         "offsetgroup": "JBL",
         "orientation": "v",
         "showlegend": true,
         "type": "histogram",
         "x": [
          2499,
          2499,
          7499,
          2999,
          5499,
          5499,
          499,
          2499,
          3499,
          1499,
          4999,
          599,
          499,
          2239,
          5499,
          2999,
          2999,
          7499,
          8499,
          5499,
          3099,
          9999
         ],
         "xaxis": "x",
         "yaxis": "y"
        },
        {
         "alignmentgroup": "True",
         "bingroup": "x",
         "hovertemplate": "brand=jedi<br>final_selling_price=%{x}<br>count=%{y}<extra></extra>",
         "legendgroup": "jedi",
         "marker": {
          "color": "rgb(204,185,116)",
          "pattern": {
           "shape": ""
          }
         },
         "name": "jedi",
         "nbinsx": 10,
         "offsetgroup": "jedi",
         "orientation": "v",
         "showlegend": true,
         "type": "histogram",
         "x": [
          572,
          389,
          572,
          379,
          379,
          379
         ],
         "xaxis": "x",
         "yaxis": "y"
        },
        {
         "alignmentgroup": "True",
         "bingroup": "x",
         "hovertemplate": "brand=SONY<br>final_selling_price=%{x}<br>count=%{y}<extra></extra>",
         "legendgroup": "SONY",
         "marker": {
          "color": "rgb(100,181,205)",
          "pattern": {
           "shape": ""
          }
         },
         "name": "SONY",
         "nbinsx": 10,
         "offsetgroup": "SONY",
         "orientation": "v",
         "showlegend": true,
         "type": "histogram",
         "x": [
          5439,
          5490,
          13990,
          7990,
          699,
          5977,
          13990,
          1699,
          8990,
          12990,
          1699,
          22990,
          2199,
          1690,
          14990,
          2199
         ],
         "xaxis": "x",
         "yaxis": "y"
        },
        {
         "alignmentgroup": "True",
         "bingroup": "x",
         "hovertemplate": "brand=MSNR<br>final_selling_price=%{x}<br>count=%{y}<extra></extra>",
         "legendgroup": "MSNR",
         "marker": {
          "color": "rgb(76,114,176)",
          "pattern": {
           "shape": ""
          }
         },
         "name": "MSNR",
         "nbinsx": 10,
         "offsetgroup": "MSNR",
         "orientation": "v",
         "showlegend": true,
         "type": "histogram",
         "x": [
          379,
          369,
          421,
          379,
          379,
          379,
          379,
          379,
          377,
          379,
          379,
          379,
          399,
          450,
          689,
          379,
          399,
          379,
          379,
          379,
          379,
          369,
          379,
          474,
          379,
          474,
          379,
          379,
          362,
          379,
          499,
          379,
          379,
          399,
          658,
          379,
          379
         ],
         "xaxis": "x",
         "yaxis": "y"
        },
        {
         "alignmentgroup": "True",
         "bingroup": "x",
         "hovertemplate": "brand=Blaupunkt<br>final_selling_price=%{x}<br>count=%{y}<extra></extra>",
         "legendgroup": "Blaupunkt",
         "marker": {
          "color": "rgb(221,132,82)",
          "pattern": {
           "shape": ""
          }
         },
         "name": "Blaupunkt",
         "nbinsx": 10,
         "offsetgroup": "Blaupunkt",
         "orientation": "v",
         "showlegend": true,
         "type": "histogram",
         "x": [
          1499,
          1299,
          949,
          549
         ],
         "xaxis": "x",
         "yaxis": "y"
        },
        {
         "alignmentgroup": "True",
         "bingroup": "x",
         "hovertemplate": "brand=Vntex<br>final_selling_price=%{x}<br>count=%{y}<extra></extra>",
         "legendgroup": "Vntex",
         "marker": {
          "color": "rgb(85,168,104)",
          "pattern": {
           "shape": ""
          }
         },
         "name": "Vntex",
         "nbinsx": 10,
         "offsetgroup": "Vntex",
         "orientation": "v",
         "showlegend": true,
         "type": "histogram",
         "x": [
          1002,
          999,
          948,
          1044,
          999,
          1099,
          927,
          934,
          999,
          1099,
          999,
          992
         ],
         "xaxis": "x",
         "yaxis": "y"
        },
        {
         "alignmentgroup": "True",
         "bingroup": "x",
         "hovertemplate": "brand=Stybits<br>final_selling_price=%{x}<br>count=%{y}<extra></extra>",
         "legendgroup": "Stybits",
         "marker": {
          "color": "rgb(196,78,82)",
          "pattern": {
           "shape": ""
          }
         },
         "name": "Stybits",
         "nbinsx": 10,
         "offsetgroup": "Stybits",
         "orientation": "v",
         "showlegend": true,
         "type": "histogram",
         "x": [
          424,
          424
         ],
         "xaxis": "x",
         "yaxis": "y"
        },
        {
         "alignmentgroup": "True",
         "bingroup": "x",
         "hovertemplate": "brand=REDMI<br>final_selling_price=%{x}<br>count=%{y}<extra></extra>",
         "legendgroup": "REDMI",
         "marker": {
          "color": "rgb(129,114,179)",
          "pattern": {
           "shape": ""
          }
         },
         "name": "REDMI",
         "nbinsx": 10,
         "offsetgroup": "REDMI",
         "orientation": "v",
         "showlegend": true,
         "type": "histogram",
         "x": [
          1299,
          2699,
          1099,
          1299
         ],
         "xaxis": "x",
         "yaxis": "y"
        },
        {
         "alignmentgroup": "True",
         "bingroup": "x",
         "hovertemplate": "brand=Walta<br>final_selling_price=%{x}<br>count=%{y}<extra></extra>",
         "legendgroup": "Walta",
         "marker": {
          "color": "rgb(147,120,96)",
          "pattern": {
           "shape": ""
          }
         },
         "name": "Walta",
         "nbinsx": 10,
         "offsetgroup": "Walta",
         "orientation": "v",
         "showlegend": true,
         "type": "histogram",
         "x": [
          206,
          287
         ],
         "xaxis": "x",
         "yaxis": "y"
        },
        {
         "alignmentgroup": "True",
         "bingroup": "x",
         "hovertemplate": "brand=TecSox<br>final_selling_price=%{x}<br>count=%{y}<extra></extra>",
         "legendgroup": "TecSox",
         "marker": {
          "color": "rgb(218,139,195)",
          "pattern": {
           "shape": ""
          }
         },
         "name": "TecSox",
         "nbinsx": 10,
         "offsetgroup": "TecSox",
         "orientation": "v",
         "showlegend": true,
         "type": "histogram",
         "x": [
          499,
          299,
          549
         ],
         "xaxis": "x",
         "yaxis": "y"
        },
        {
         "alignmentgroup": "True",
         "bingroup": "x",
         "hovertemplate": "brand=Boult<br>final_selling_price=%{x}<br>count=%{y}<extra></extra>",
         "legendgroup": "Boult",
         "marker": {
          "color": "rgb(140,140,140)",
          "pattern": {
           "shape": ""
          }
         },
         "name": "Boult",
         "nbinsx": 10,
         "offsetgroup": "Boult",
         "orientation": "v",
         "showlegend": true,
         "type": "histogram",
         "x": [
          1499,
          699,
          699,
          899,
          1299,
          1099,
          999,
          1499,
          899,
          899,
          1499,
          1099,
          1299,
          999,
          1099,
          699,
          899,
          899,
          1299,
          799,
          899,
          1499,
          1299,
          1299,
          1299,
          699,
          1299,
          1499,
          1499,
          1199,
          1299,
          1799,
          1499,
          1299,
          899,
          1199,
          349,
          1299,
          349,
          799,
          1299,
          899,
          1799,
          1599,
          1299,
          799,
          1199,
          1299,
          899,
          899,
          899,
          1099,
          1299,
          1299,
          1299,
          899,
          899,
          1499,
          1299,
          899,
          899,
          899,
          899
         ],
         "xaxis": "x",
         "yaxis": "y"
        },
        {
         "alignmentgroup": "True",
         "bingroup": "x",
         "hovertemplate": "brand=NOYMI<br>final_selling_price=%{x}<br>count=%{y}<extra></extra>",
         "legendgroup": "NOYMI",
         "marker": {
          "color": "rgb(204,185,116)",
          "pattern": {
           "shape": ""
          }
         },
         "name": "NOYMI",
         "nbinsx": 10,
         "offsetgroup": "NOYMI",
         "orientation": "v",
         "showlegend": true,
         "type": "histogram",
         "x": [
          449,
          588
         ],
         "xaxis": "x",
         "yaxis": "y"
        },
        {
         "alignmentgroup": "True",
         "bingroup": "x",
         "hovertemplate": "brand=PROWARP<br>final_selling_price=%{x}<br>count=%{y}<extra></extra>",
         "legendgroup": "PROWARP",
         "marker": {
          "color": "rgb(100,181,205)",
          "pattern": {
           "shape": ""
          }
         },
         "name": "PROWARP",
         "nbinsx": 10,
         "offsetgroup": "PROWARP",
         "orientation": "v",
         "showlegend": true,
         "type": "histogram",
         "x": [
          224,
          224,
          224,
          224,
          224,
          224
         ],
         "xaxis": "x",
         "yaxis": "y"
        },
        {
         "alignmentgroup": "True",
         "bingroup": "x",
         "hovertemplate": "brand=Mivi<br>final_selling_price=%{x}<br>count=%{y}<extra></extra>",
         "legendgroup": "Mivi",
         "marker": {
          "color": "rgb(76,114,176)",
          "pattern": {
           "shape": ""
          }
         },
         "name": "Mivi",
         "nbinsx": 10,
         "offsetgroup": "Mivi",
         "orientation": "v",
         "showlegend": true,
         "type": "histogram",
         "x": [
          1999,
          1199,
          899,
          699,
          999,
          1499,
          899,
          999,
          899,
          699,
          1499,
          999,
          1999,
          1499,
          1999,
          1999,
          1299,
          699,
          1499,
          999,
          1199,
          1499,
          799,
          1399,
          1199,
          1199,
          1999,
          1199,
          1499,
          1499
         ],
         "xaxis": "x",
         "yaxis": "y"
        },
        {
         "alignmentgroup": "True",
         "bingroup": "x",
         "hovertemplate": "brand=ODIO<br>final_selling_price=%{x}<br>count=%{y}<extra></extra>",
         "legendgroup": "ODIO",
         "marker": {
          "color": "rgb(221,132,82)",
          "pattern": {
           "shape": ""
          }
         },
         "name": "ODIO",
         "nbinsx": 10,
         "offsetgroup": "ODIO",
         "orientation": "v",
         "showlegend": true,
         "type": "histogram",
         "x": [
          187
         ],
         "xaxis": "x",
         "yaxis": "y"
        },
        {
         "alignmentgroup": "True",
         "bingroup": "x",
         "hovertemplate": "brand=ONYZE<br>final_selling_price=%{x}<br>count=%{y}<extra></extra>",
         "legendgroup": "ONYZE",
         "marker": {
          "color": "rgb(85,168,104)",
          "pattern": {
           "shape": ""
          }
         },
         "name": "ONYZE",
         "nbinsx": 10,
         "offsetgroup": "ONYZE",
         "orientation": "v",
         "showlegend": true,
         "type": "histogram",
         "x": [
          979
         ],
         "xaxis": "x",
         "yaxis": "y"
        },
        {
         "alignmentgroup": "True",
         "bingroup": "x",
         "hovertemplate": "brand=Nilesawar<br>final_selling_price=%{x}<br>count=%{y}<extra></extra>",
         "legendgroup": "Nilesawar",
         "marker": {
          "color": "rgb(196,78,82)",
          "pattern": {
           "shape": ""
          }
         },
         "name": "Nilesawar",
         "nbinsx": 10,
         "offsetgroup": "Nilesawar",
         "orientation": "v",
         "showlegend": true,
         "type": "histogram",
         "x": [
          428,
          499,
          428,
          428,
          428,
          499,
          428
         ],
         "xaxis": "x",
         "yaxis": "y"
        },
        {
         "alignmentgroup": "True",
         "bingroup": "x",
         "hovertemplate": "brand=Aroma<br>final_selling_price=%{x}<br>count=%{y}<extra></extra>",
         "legendgroup": "Aroma",
         "marker": {
          "color": "rgb(129,114,179)",
          "pattern": {
           "shape": ""
          }
         },
         "name": "Aroma",
         "nbinsx": 10,
         "offsetgroup": "Aroma",
         "orientation": "v",
         "showlegend": true,
         "type": "histogram",
         "x": [
          399,
          446,
          449,
          399,
          689,
          479,
          449,
          448,
          496,
          479,
          448,
          496,
          445,
          496,
          449,
          499,
          499,
          448,
          349,
          401,
          447,
          746,
          499,
          448,
          499,
          496,
          498,
          496,
          498,
          447,
          499,
          499,
          499,
          497,
          449,
          499,
          449,
          281,
          399,
          499,
          449,
          479,
          499,
          449,
          629,
          623
         ],
         "xaxis": "x",
         "yaxis": "y"
        },
        {
         "alignmentgroup": "True",
         "bingroup": "x",
         "hovertemplate": "brand=TXOR<br>final_selling_price=%{x}<br>count=%{y}<extra></extra>",
         "legendgroup": "TXOR",
         "marker": {
          "color": "rgb(147,120,96)",
          "pattern": {
           "shape": ""
          }
         },
         "name": "TXOR",
         "nbinsx": 10,
         "offsetgroup": "TXOR",
         "orientation": "v",
         "showlegend": true,
         "type": "histogram",
         "x": [
          699,
          699,
          699,
          638,
          638
         ],
         "xaxis": "x",
         "yaxis": "y"
        },
        {
         "alignmentgroup": "True",
         "bingroup": "x",
         "hovertemplate": "brand=UNIGEN<br>final_selling_price=%{x}<br>count=%{y}<extra></extra>",
         "legendgroup": "UNIGEN",
         "marker": {
          "color": "rgb(218,139,195)",
          "pattern": {
           "shape": ""
          }
         },
         "name": "UNIGEN",
         "nbinsx": 10,
         "offsetgroup": "UNIGEN",
         "orientation": "v",
         "showlegend": true,
         "type": "histogram",
         "x": [
          584
         ],
         "xaxis": "x",
         "yaxis": "y"
        },
        {
         "alignmentgroup": "True",
         "bingroup": "x",
         "hovertemplate": "brand=Fire-Boltt<br>final_selling_price=%{x}<br>count=%{y}<extra></extra>",
         "legendgroup": "Fire-Boltt",
         "marker": {
          "color": "rgb(140,140,140)",
          "pattern": {
           "shape": ""
          }
         },
         "name": "Fire-Boltt",
         "nbinsx": 10,
         "offsetgroup": "Fire-Boltt",
         "orientation": "v",
         "showlegend": true,
         "type": "histogram",
         "x": [
          1299,
          1099,
          999,
          1299,
          1199,
          1099,
          1299,
          1299,
          1199,
          1299
         ],
         "xaxis": "x",
         "yaxis": "y"
        },
        {
         "alignmentgroup": "True",
         "bingroup": "x",
         "hovertemplate": "brand=Mozu<br>final_selling_price=%{x}<br>count=%{y}<extra></extra>",
         "legendgroup": "Mozu",
         "marker": {
          "color": "rgb(204,185,116)",
          "pattern": {
           "shape": ""
          }
         },
         "name": "Mozu",
         "nbinsx": 10,
         "offsetgroup": "Mozu",
         "orientation": "v",
         "showlegend": true,
         "type": "histogram",
         "x": [
          296,
          342,
          296,
          849,
          359
         ],
         "xaxis": "x",
         "yaxis": "y"
        },
        {
         "alignmentgroup": "True",
         "bingroup": "x",
         "hovertemplate": "brand=SAMING<br>final_selling_price=%{x}<br>count=%{y}<extra></extra>",
         "legendgroup": "SAMING",
         "marker": {
          "color": "rgb(100,181,205)",
          "pattern": {
           "shape": ""
          }
         },
         "name": "SAMING",
         "nbinsx": 10,
         "offsetgroup": "SAMING",
         "orientation": "v",
         "showlegend": true,
         "type": "histogram",
         "x": [
          318,
          334,
          318,
          318
         ],
         "xaxis": "x",
         "yaxis": "y"
        },
        {
         "alignmentgroup": "True",
         "bingroup": "x",
         "hovertemplate": "brand=Bashaam<br>final_selling_price=%{x}<br>count=%{y}<extra></extra>",
         "legendgroup": "Bashaam",
         "marker": {
          "color": "rgb(76,114,176)",
          "pattern": {
           "shape": ""
          }
         },
         "name": "Bashaam",
         "nbinsx": 10,
         "offsetgroup": "Bashaam",
         "orientation": "v",
         "showlegend": true,
         "type": "histogram",
         "x": [
          429,
          429,
          419,
          419,
          429,
          424,
          499
         ],
         "xaxis": "x",
         "yaxis": "y"
        },
        {
         "alignmentgroup": "True",
         "bingroup": "x",
         "hovertemplate": "brand=GENWARP<br>final_selling_price=%{x}<br>count=%{y}<extra></extra>",
         "legendgroup": "GENWARP",
         "marker": {
          "color": "rgb(221,132,82)",
          "pattern": {
           "shape": ""
          }
         },
         "name": "GENWARP",
         "nbinsx": 10,
         "offsetgroup": "GENWARP",
         "orientation": "v",
         "showlegend": true,
         "type": "histogram",
         "x": [
          224,
          224,
          224,
          224,
          204,
          224,
          224,
          224,
          224
         ],
         "xaxis": "x",
         "yaxis": "y"
        },
        {
         "alignmentgroup": "True",
         "bingroup": "x",
         "hovertemplate": "brand=AXL<br>final_selling_price=%{x}<br>count=%{y}<extra></extra>",
         "legendgroup": "AXL",
         "marker": {
          "color": "rgb(85,168,104)",
          "pattern": {
           "shape": ""
          }
         },
         "name": "AXL",
         "nbinsx": 10,
         "offsetgroup": "AXL",
         "orientation": "v",
         "showlegend": true,
         "type": "histogram",
         "x": [
          399,
          703
         ],
         "xaxis": "x",
         "yaxis": "y"
        },
        {
         "alignmentgroup": "True",
         "bingroup": "x",
         "hovertemplate": "brand=Microflash<br>final_selling_price=%{x}<br>count=%{y}<extra></extra>",
         "legendgroup": "Microflash",
         "marker": {
          "color": "rgb(196,78,82)",
          "pattern": {
           "shape": ""
          }
         },
         "name": "Microflash",
         "nbinsx": 10,
         "offsetgroup": "Microflash",
         "orientation": "v",
         "showlegend": true,
         "type": "histogram",
         "x": [
          596,
          692,
          659,
          249,
          639,
          659,
          249
         ],
         "xaxis": "x",
         "yaxis": "y"
        },
        {
         "alignmentgroup": "True",
         "bingroup": "x",
         "hovertemplate": "brand=BUNAS<br>final_selling_price=%{x}<br>count=%{y}<extra></extra>",
         "legendgroup": "BUNAS",
         "marker": {
          "color": "rgb(129,114,179)",
          "pattern": {
           "shape": ""
          }
         },
         "name": "BUNAS",
         "nbinsx": 10,
         "offsetgroup": "BUNAS",
         "orientation": "v",
         "showlegend": true,
         "type": "histogram",
         "x": [
          237,
          269,
          237,
          237,
          237,
          237,
          237,
          269,
          237
         ],
         "xaxis": "x",
         "yaxis": "y"
        },
        {
         "alignmentgroup": "True",
         "bingroup": "x",
         "hovertemplate": "brand=ZEBRONICS<br>final_selling_price=%{x}<br>count=%{y}<extra></extra>",
         "legendgroup": "ZEBRONICS",
         "marker": {
          "color": "rgb(147,120,96)",
          "pattern": {
           "shape": ""
          }
         },
         "name": "ZEBRONICS",
         "nbinsx": 10,
         "offsetgroup": "ZEBRONICS",
         "orientation": "v",
         "showlegend": true,
         "type": "histogram",
         "x": [
          444,
          449,
          489,
          290,
          499,
          275,
          276,
          599,
          399,
          299,
          899,
          398,
          302
         ],
         "xaxis": "x",
         "yaxis": "y"
        },
        {
         "alignmentgroup": "True",
         "bingroup": "x",
         "hovertemplate": "brand=Razer<br>final_selling_price=%{x}<br>count=%{y}<extra></extra>",
         "legendgroup": "Razer",
         "marker": {
          "color": "rgb(218,139,195)",
          "pattern": {
           "shape": ""
          }
         },
         "name": "Razer",
         "nbinsx": 10,
         "offsetgroup": "Razer",
         "orientation": "v",
         "showlegend": true,
         "type": "histogram",
         "x": [
          3999
         ],
         "xaxis": "x",
         "yaxis": "y"
        },
        {
         "alignmentgroup": "True",
         "bingroup": "x",
         "hovertemplate": "brand=vivo<br>final_selling_price=%{x}<br>count=%{y}<extra></extra>",
         "legendgroup": "vivo",
         "marker": {
          "color": "rgb(140,140,140)",
          "pattern": {
           "shape": ""
          }
         },
         "name": "vivo",
         "nbinsx": 10,
         "offsetgroup": "vivo",
         "orientation": "v",
         "showlegend": true,
         "type": "histogram",
         "x": [
          549,
          599
         ],
         "xaxis": "x",
         "yaxis": "y"
        },
        {
         "alignmentgroup": "True",
         "bingroup": "x",
         "hovertemplate": "brand=CrossBeats<br>final_selling_price=%{x}<br>count=%{y}<extra></extra>",
         "legendgroup": "CrossBeats",
         "marker": {
          "color": "rgb(204,185,116)",
          "pattern": {
           "shape": ""
          }
         },
         "name": "CrossBeats",
         "nbinsx": 10,
         "offsetgroup": "CrossBeats",
         "orientation": "v",
         "showlegend": true,
         "type": "histogram",
         "x": [
          2099
         ],
         "xaxis": "x",
         "yaxis": "y"
        },
        {
         "alignmentgroup": "True",
         "bingroup": "x",
         "hovertemplate": "brand=OnePlus<br>final_selling_price=%{x}<br>count=%{y}<extra></extra>",
         "legendgroup": "OnePlus",
         "marker": {
          "color": "rgb(100,181,205)",
          "pattern": {
           "shape": ""
          }
         },
         "name": "OnePlus",
         "nbinsx": 10,
         "offsetgroup": "OnePlus",
         "orientation": "v",
         "showlegend": true,
         "type": "histogram",
         "x": [
          1799,
          2298,
          2999,
          5499,
          1998,
          799,
          8390,
          2999,
          1799,
          3999,
          1799,
          5499,
          4999,
          1899,
          1799,
          1998
         ],
         "xaxis": "x",
         "yaxis": "y"
        },
        {
         "alignmentgroup": "True",
         "bingroup": "x",
         "hovertemplate": "brand=XEWISS<br>final_selling_price=%{x}<br>count=%{y}<extra></extra>",
         "legendgroup": "XEWISS",
         "marker": {
          "color": "rgb(76,114,176)",
          "pattern": {
           "shape": ""
          }
         },
         "name": "XEWISS",
         "nbinsx": 10,
         "offsetgroup": "XEWISS",
         "orientation": "v",
         "showlegend": true,
         "type": "histogram",
         "x": [
          372,
          342,
          322,
          486,
          349,
          308,
          408,
          314,
          499,
          423,
          349,
          349,
          349,
          349,
          349,
          423,
          499,
          349
         ],
         "xaxis": "x",
         "yaxis": "y"
        },
        {
         "alignmentgroup": "True",
         "bingroup": "x",
         "hovertemplate": "brand=Ycom<br>final_selling_price=%{x}<br>count=%{y}<extra></extra>",
         "legendgroup": "Ycom",
         "marker": {
          "color": "rgb(221,132,82)",
          "pattern": {
           "shape": ""
          }
         },
         "name": "Ycom",
         "nbinsx": 10,
         "offsetgroup": "Ycom",
         "orientation": "v",
         "showlegend": true,
         "type": "histogram",
         "x": [
          795,
          869,
          513,
          795,
          351,
          370,
          869,
          795,
          779,
          360
         ],
         "xaxis": "x",
         "yaxis": "y"
        },
        {
         "alignmentgroup": "True",
         "bingroup": "x",
         "hovertemplate": "brand=realme<br>final_selling_price=%{x}<br>count=%{y}<extra></extra>",
         "legendgroup": "realme",
         "marker": {
          "color": "rgb(85,168,104)",
          "pattern": {
           "shape": ""
          }
         },
         "name": "realme",
         "nbinsx": 10,
         "offsetgroup": "realme",
         "orientation": "v",
         "showlegend": true,
         "type": "histogram",
         "x": [
          1499,
          4999,
          1299,
          4999,
          2299,
          1499,
          1299,
          1799,
          1299,
          3199,
          599,
          3199,
          599,
          1799,
          499,
          1499,
          1299,
          1799,
          2299,
          2299,
          1299
         ],
         "xaxis": "x",
         "yaxis": "y"
        },
        {
         "alignmentgroup": "True",
         "bingroup": "x",
         "hovertemplate": "brand=AIElectro<br>final_selling_price=%{x}<br>count=%{y}<extra></extra>",
         "legendgroup": "AIElectro",
         "marker": {
          "color": "rgb(196,78,82)",
          "pattern": {
           "shape": ""
          }
         },
         "name": "AIElectro",
         "nbinsx": 10,
         "offsetgroup": "AIElectro",
         "orientation": "v",
         "showlegend": true,
         "type": "histogram",
         "x": [
          864
         ],
         "xaxis": "x",
         "yaxis": "y"
        },
        {
         "alignmentgroup": "True",
         "bingroup": "x",
         "hovertemplate": "brand=Ucool<br>final_selling_price=%{x}<br>count=%{y}<extra></extra>",
         "legendgroup": "Ucool",
         "marker": {
          "color": "rgb(129,114,179)",
          "pattern": {
           "shape": ""
          }
         },
         "name": "Ucool",
         "nbinsx": 10,
         "offsetgroup": "Ucool",
         "orientation": "v",
         "showlegend": true,
         "type": "histogram",
         "x": [
          499,
          479,
          479,
          459,
          489,
          488,
          489,
          449
         ],
         "xaxis": "x",
         "yaxis": "y"
        },
        {
         "alignmentgroup": "True",
         "bingroup": "x",
         "hovertemplate": "brand=beatXP<br>final_selling_price=%{x}<br>count=%{y}<extra></extra>",
         "legendgroup": "beatXP",
         "marker": {
          "color": "rgb(147,120,96)",
          "pattern": {
           "shape": ""
          }
         },
         "name": "beatXP",
         "nbinsx": 10,
         "offsetgroup": "beatXP",
         "orientation": "v",
         "showlegend": true,
         "type": "histogram",
         "x": [
          899,
          899,
          799
         ],
         "xaxis": "x",
         "yaxis": "y"
        },
        {
         "alignmentgroup": "True",
         "bingroup": "x",
         "hovertemplate": "brand=Explorer<br>final_selling_price=%{x}<br>count=%{y}<extra></extra>",
         "legendgroup": "Explorer",
         "marker": {
          "color": "rgb(218,139,195)",
          "pattern": {
           "shape": ""
          }
         },
         "name": "Explorer",
         "nbinsx": 10,
         "offsetgroup": "Explorer",
         "orientation": "v",
         "showlegend": true,
         "type": "histogram",
         "x": [
          399
         ],
         "xaxis": "x",
         "yaxis": "y"
        },
        {
         "alignmentgroup": "True",
         "bingroup": "x",
         "hovertemplate": "brand=MZ<br>final_selling_price=%{x}<br>count=%{y}<extra></extra>",
         "legendgroup": "MZ",
         "marker": {
          "color": "rgb(140,140,140)",
          "pattern": {
           "shape": ""
          }
         },
         "name": "MZ",
         "nbinsx": 10,
         "offsetgroup": "MZ",
         "orientation": "v",
         "showlegend": true,
         "type": "histogram",
         "x": [
          299,
          329
         ],
         "xaxis": "x",
         "yaxis": "y"
        },
        {
         "alignmentgroup": "True",
         "bingroup": "x",
         "hovertemplate": "brand=Nothing<br>final_selling_price=%{x}<br>count=%{y}<extra></extra>",
         "legendgroup": "Nothing",
         "marker": {
          "color": "rgb(204,185,116)",
          "pattern": {
           "shape": ""
          }
         },
         "name": "Nothing",
         "nbinsx": 10,
         "offsetgroup": "Nothing",
         "orientation": "v",
         "showlegend": true,
         "type": "histogram",
         "x": [
          8999,
          7999,
          11999,
          11999,
          5499
         ],
         "xaxis": "x",
         "yaxis": "y"
        },
        {
         "alignmentgroup": "True",
         "bingroup": "x",
         "hovertemplate": "brand=Fastrack<br>final_selling_price=%{x}<br>count=%{y}<extra></extra>",
         "legendgroup": "Fastrack",
         "marker": {
          "color": "rgb(100,181,205)",
          "pattern": {
           "shape": ""
          }
         },
         "name": "Fastrack",
         "nbinsx": 10,
         "offsetgroup": "Fastrack",
         "orientation": "v",
         "showlegend": true,
         "type": "histogram",
         "x": [
          1395,
          1695
         ],
         "xaxis": "x",
         "yaxis": "y"
        },
        {
         "alignmentgroup": "True",
         "bingroup": "x",
         "hovertemplate": "brand=TCL<br>final_selling_price=%{x}<br>count=%{y}<extra></extra>",
         "legendgroup": "TCL",
         "marker": {
          "color": "rgb(76,114,176)",
          "pattern": {
           "shape": ""
          }
         },
         "name": "TCL",
         "nbinsx": 10,
         "offsetgroup": "TCL",
         "orientation": "v",
         "showlegend": true,
         "type": "histogram",
         "x": [
          399,
          499
         ],
         "xaxis": "x",
         "yaxis": "y"
        },
        {
         "alignmentgroup": "True",
         "bingroup": "x",
         "hovertemplate": "brand=MI-STS<br>final_selling_price=%{x}<br>count=%{y}<extra></extra>",
         "legendgroup": "MI-STS",
         "marker": {
          "color": "rgb(221,132,82)",
          "pattern": {
           "shape": ""
          }
         },
         "name": "MI-STS",
         "nbinsx": 10,
         "offsetgroup": "MI-STS",
         "orientation": "v",
         "showlegend": true,
         "type": "histogram",
         "x": [
          289,
          295
         ],
         "xaxis": "x",
         "yaxis": "y"
        },
        {
         "alignmentgroup": "True",
         "bingroup": "x",
         "hovertemplate": "brand=WINGS<br>final_selling_price=%{x}<br>count=%{y}<extra></extra>",
         "legendgroup": "WINGS",
         "marker": {
          "color": "rgb(85,168,104)",
          "pattern": {
           "shape": ""
          }
         },
         "name": "WINGS",
         "nbinsx": 10,
         "offsetgroup": "WINGS",
         "orientation": "v",
         "showlegend": true,
         "type": "histogram",
         "x": [
          1099,
          899,
          799,
          999,
          899,
          999
         ],
         "xaxis": "x",
         "yaxis": "y"
        },
        {
         "alignmentgroup": "True",
         "bingroup": "x",
         "hovertemplate": "brand=Jabra<br>final_selling_price=%{x}<br>count=%{y}<extra></extra>",
         "legendgroup": "Jabra",
         "marker": {
          "color": "rgb(196,78,82)",
          "pattern": {
           "shape": ""
          }
         },
         "name": "Jabra",
         "nbinsx": 10,
         "offsetgroup": "Jabra",
         "orientation": "v",
         "showlegend": true,
         "type": "histogram",
         "x": [
          6499
         ],
         "xaxis": "x",
         "yaxis": "y"
        },
        {
         "alignmentgroup": "True",
         "bingroup": "x",
         "hovertemplate": "brand=Number<br>final_selling_price=%{x}<br>count=%{y}<extra></extra>",
         "legendgroup": "Number",
         "marker": {
          "color": "rgb(129,114,179)",
          "pattern": {
           "shape": ""
          }
         },
         "name": "Number",
         "nbinsx": 10,
         "offsetgroup": "Number",
         "orientation": "v",
         "showlegend": true,
         "type": "histogram",
         "x": [
          1399,
          949,
          1399,
          949,
          1399,
          949,
          1249
         ],
         "xaxis": "x",
         "yaxis": "y"
        },
        {
         "alignmentgroup": "True",
         "bingroup": "x",
         "hovertemplate": "brand=TRIGGR<br>final_selling_price=%{x}<br>count=%{y}<extra></extra>",
         "legendgroup": "TRIGGR",
         "marker": {
          "color": "rgb(147,120,96)",
          "pattern": {
           "shape": ""
          }
         },
         "name": "TRIGGR",
         "nbinsx": 10,
         "offsetgroup": "TRIGGR",
         "orientation": "v",
         "showlegend": true,
         "type": "histogram",
         "x": [
          899,
          699,
          1299,
          699,
          3999,
          1099,
          1299
         ],
         "xaxis": "x",
         "yaxis": "y"
        },
        {
         "alignmentgroup": "True",
         "bingroup": "x",
         "hovertemplate": "brand=OPPO<br>final_selling_price=%{x}<br>count=%{y}<extra></extra>",
         "legendgroup": "OPPO",
         "marker": {
          "color": "rgb(218,139,195)",
          "pattern": {
           "shape": ""
          }
         },
         "name": "OPPO",
         "nbinsx": 10,
         "offsetgroup": "OPPO",
         "orientation": "v",
         "showlegend": true,
         "type": "histogram",
         "x": [
          2999,
          4299,
          1799,
          4299,
          2199,
          2999
         ],
         "xaxis": "x",
         "yaxis": "y"
        },
        {
         "alignmentgroup": "True",
         "bingroup": "x",
         "hovertemplate": "brand=Varitas<br>final_selling_price=%{x}<br>count=%{y}<extra></extra>",
         "legendgroup": "Varitas",
         "marker": {
          "color": "rgb(140,140,140)",
          "pattern": {
           "shape": ""
          }
         },
         "name": "Varitas",
         "nbinsx": 10,
         "offsetgroup": "Varitas",
         "orientation": "v",
         "showlegend": true,
         "type": "histogram",
         "x": [
          366,
          279,
          350,
          331,
          400
         ],
         "xaxis": "x",
         "yaxis": "y"
        },
        {
         "alignmentgroup": "True",
         "bingroup": "x",
         "hovertemplate": "brand=Sagaft<br>final_selling_price=%{x}<br>count=%{y}<extra></extra>",
         "legendgroup": "Sagaft",
         "marker": {
          "color": "rgb(204,185,116)",
          "pattern": {
           "shape": ""
          }
         },
         "name": "Sagaft",
         "nbinsx": 10,
         "offsetgroup": "Sagaft",
         "orientation": "v",
         "showlegend": true,
         "type": "histogram",
         "x": [
          429,
          439,
          429,
          429,
          439
         ],
         "xaxis": "x",
         "yaxis": "y"
        },
        {
         "alignmentgroup": "True",
         "bingroup": "x",
         "hovertemplate": "brand=Bluei<br>final_selling_price=%{x}<br>count=%{y}<extra></extra>",
         "legendgroup": "Bluei",
         "marker": {
          "color": "rgb(100,181,205)",
          "pattern": {
           "shape": ""
          }
         },
         "name": "Bluei",
         "nbinsx": 10,
         "offsetgroup": "Bluei",
         "orientation": "v",
         "showlegend": true,
         "type": "histogram",
         "x": [
          449,
          449,
          301,
          445,
          332,
          449,
          449,
          349,
          449,
          449
         ],
         "xaxis": "x",
         "yaxis": "y"
        },
        {
         "alignmentgroup": "True",
         "bingroup": "x",
         "hovertemplate": "brand=Apple<br>final_selling_price=%{x}<br>count=%{y}<extra></extra>",
         "legendgroup": "Apple",
         "marker": {
          "color": "rgb(76,114,176)",
          "pattern": {
           "shape": ""
          }
         },
         "name": "Apple",
         "nbinsx": 10,
         "offsetgroup": "Apple",
         "orientation": "v",
         "showlegend": true,
         "type": "histogram",
         "x": [
          2000,
          1699,
          19100,
          19600,
          10999,
          19990,
          1799
         ],
         "xaxis": "x",
         "yaxis": "y"
        },
        {
         "alignmentgroup": "True",
         "bingroup": "x",
         "hovertemplate": "brand=jkg<br>final_selling_price=%{x}<br>count=%{y}<extra></extra>",
         "legendgroup": "jkg",
         "marker": {
          "color": "rgb(221,132,82)",
          "pattern": {
           "shape": ""
          }
         },
         "name": "jkg",
         "nbinsx": 10,
         "offsetgroup": "jkg",
         "orientation": "v",
         "showlegend": true,
         "type": "histogram",
         "x": [
          299,
          246,
          234,
          245,
          232,
          255,
          223,
          247,
          231,
          234
         ],
         "xaxis": "x",
         "yaxis": "y"
        },
        {
         "alignmentgroup": "True",
         "bingroup": "x",
         "hovertemplate": "brand=CMF<br>final_selling_price=%{x}<br>count=%{y}<extra></extra>",
         "legendgroup": "CMF",
         "marker": {
          "color": "rgb(85,168,104)",
          "pattern": {
           "shape": ""
          }
         },
         "name": "CMF",
         "nbinsx": 10,
         "offsetgroup": "CMF",
         "orientation": "v",
         "showlegend": true,
         "type": "histogram",
         "x": [
          2999,
          2999,
          2499,
          2499,
          2499
         ],
         "xaxis": "x",
         "yaxis": "y"
        },
        {
         "alignmentgroup": "True",
         "bingroup": "x",
         "hovertemplate": "brand=HASRU<br>final_selling_price=%{x}<br>count=%{y}<extra></extra>",
         "legendgroup": "HASRU",
         "marker": {
          "color": "rgb(196,78,82)",
          "pattern": {
           "shape": ""
          }
         },
         "name": "HASRU",
         "nbinsx": 10,
         "offsetgroup": "HASRU",
         "orientation": "v",
         "showlegend": true,
         "type": "histogram",
         "x": [
          510,
          316
         ],
         "xaxis": "x",
         "yaxis": "y"
        },
        {
         "alignmentgroup": "True",
         "bingroup": "x",
         "hovertemplate": "brand=Uneek<br>final_selling_price=%{x}<br>count=%{y}<extra></extra>",
         "legendgroup": "Uneek",
         "marker": {
          "color": "rgb(129,114,179)",
          "pattern": {
           "shape": ""
          }
         },
         "name": "Uneek",
         "nbinsx": 10,
         "offsetgroup": "Uneek",
         "orientation": "v",
         "showlegend": true,
         "type": "histogram",
         "x": [
          215,
          220,
          201
         ],
         "xaxis": "x",
         "yaxis": "y"
        },
        {
         "alignmentgroup": "True",
         "bingroup": "x",
         "hovertemplate": "brand=NEXWARP<br>final_selling_price=%{x}<br>count=%{y}<extra></extra>",
         "legendgroup": "NEXWARP",
         "marker": {
          "color": "rgb(147,120,96)",
          "pattern": {
           "shape": ""
          }
         },
         "name": "NEXWARP",
         "nbinsx": 10,
         "offsetgroup": "NEXWARP",
         "orientation": "v",
         "showlegend": true,
         "type": "histogram",
         "x": [
          221,
          230,
          230,
          236,
          221,
          230
         ],
         "xaxis": "x",
         "yaxis": "y"
        },
        {
         "alignmentgroup": "True",
         "bingroup": "x",
         "hovertemplate": "brand=ACBSP<br>final_selling_price=%{x}<br>count=%{y}<extra></extra>",
         "legendgroup": "ACBSP",
         "marker": {
          "color": "rgb(218,139,195)",
          "pattern": {
           "shape": ""
          }
         },
         "name": "ACBSP",
         "nbinsx": 10,
         "offsetgroup": "ACBSP",
         "orientation": "v",
         "showlegend": true,
         "type": "histogram",
         "x": [
          350
         ],
         "xaxis": "x",
         "yaxis": "y"
        },
        {
         "alignmentgroup": "True",
         "bingroup": "x",
         "hovertemplate": "brand=MEGABAR<br>final_selling_price=%{x}<br>count=%{y}<extra></extra>",
         "legendgroup": "MEGABAR",
         "marker": {
          "color": "rgb(140,140,140)",
          "pattern": {
           "shape": ""
          }
         },
         "name": "MEGABAR",
         "nbinsx": 10,
         "offsetgroup": "MEGABAR",
         "orientation": "v",
         "showlegend": true,
         "type": "histogram",
         "x": [
          421
         ],
         "xaxis": "x",
         "yaxis": "y"
        },
        {
         "alignmentgroup": "True",
         "bingroup": "x",
         "hovertemplate": "brand=Fitty<br>final_selling_price=%{x}<br>count=%{y}<extra></extra>",
         "legendgroup": "Fitty",
         "marker": {
          "color": "rgb(204,185,116)",
          "pattern": {
           "shape": ""
          }
         },
         "name": "Fitty",
         "nbinsx": 10,
         "offsetgroup": "Fitty",
         "orientation": "v",
         "showlegend": true,
         "type": "histogram",
         "x": [
          385,
          377,
          385,
          339
         ],
         "xaxis": "x",
         "yaxis": "y"
        },
        {
         "alignmentgroup": "True",
         "bingroup": "x",
         "hovertemplate": "brand=NOPE<br>final_selling_price=%{x}<br>count=%{y}<extra></extra>",
         "legendgroup": "NOPE",
         "marker": {
          "color": "rgb(100,181,205)",
          "pattern": {
           "shape": ""
          }
         },
         "name": "NOPE",
         "nbinsx": 10,
         "offsetgroup": "NOPE",
         "orientation": "v",
         "showlegend": true,
         "type": "histogram",
         "x": [
          449,
          499,
          499,
          499
         ],
         "xaxis": "x",
         "yaxis": "y"
        },
        {
         "alignmentgroup": "True",
         "bingroup": "x",
         "hovertemplate": "brand=Boston<br>final_selling_price=%{x}<br>count=%{y}<extra></extra>",
         "legendgroup": "Boston",
         "marker": {
          "color": "rgb(76,114,176)",
          "pattern": {
           "shape": ""
          }
         },
         "name": "Boston",
         "nbinsx": 10,
         "offsetgroup": "Boston",
         "orientation": "v",
         "showlegend": true,
         "type": "histogram",
         "x": [
          999,
          1049,
          1149,
          999
         ],
         "xaxis": "x",
         "yaxis": "y"
        },
        {
         "alignmentgroup": "True",
         "bingroup": "x",
         "hovertemplate": "brand=CIHLEX<br>final_selling_price=%{x}<br>count=%{y}<extra></extra>",
         "legendgroup": "CIHLEX",
         "marker": {
          "color": "rgb(221,132,82)",
          "pattern": {
           "shape": ""
          }
         },
         "name": "CIHLEX",
         "nbinsx": 10,
         "offsetgroup": "CIHLEX",
         "orientation": "v",
         "showlegend": true,
         "type": "histogram",
         "x": [
          263,
          243
         ],
         "xaxis": "x",
         "yaxis": "y"
        },
        {
         "alignmentgroup": "True",
         "bingroup": "x",
         "hovertemplate": "brand=asep<br>final_selling_price=%{x}<br>count=%{y}<extra></extra>",
         "legendgroup": "asep",
         "marker": {
          "color": "rgb(85,168,104)",
          "pattern": {
           "shape": ""
          }
         },
         "name": "asep",
         "nbinsx": 10,
         "offsetgroup": "asep",
         "orientation": "v",
         "showlegend": true,
         "type": "histogram",
         "x": [
          200,
          200
         ],
         "xaxis": "x",
         "yaxis": "y"
        },
        {
         "alignmentgroup": "True",
         "bingroup": "x",
         "hovertemplate": "brand=PRODART<br>final_selling_price=%{x}<br>count=%{y}<extra></extra>",
         "legendgroup": "PRODART",
         "marker": {
          "color": "rgb(196,78,82)",
          "pattern": {
           "shape": ""
          }
         },
         "name": "PRODART",
         "nbinsx": 10,
         "offsetgroup": "PRODART",
         "orientation": "v",
         "showlegend": true,
         "type": "histogram",
         "x": [
          224,
          224,
          224,
          224,
          224
         ],
         "xaxis": "x",
         "yaxis": "y"
        },
        {
         "alignmentgroup": "True",
         "bingroup": "x",
         "hovertemplate": "brand=Sennheiser<br>final_selling_price=%{x}<br>count=%{y}<extra></extra>",
         "legendgroup": "Sennheiser",
         "marker": {
          "color": "rgb(129,114,179)",
          "pattern": {
           "shape": ""
          }
         },
         "name": "Sennheiser",
         "nbinsx": 10,
         "offsetgroup": "Sennheiser",
         "orientation": "v",
         "showlegend": true,
         "type": "histogram",
         "x": [
          9990,
          49990,
          1590
         ],
         "xaxis": "x",
         "yaxis": "y"
        },
        {
         "alignmentgroup": "True",
         "bingroup": "x",
         "hovertemplate": "brand=JVMART<br>final_selling_price=%{x}<br>count=%{y}<extra></extra>",
         "legendgroup": "JVMART",
         "marker": {
          "color": "rgb(147,120,96)",
          "pattern": {
           "shape": ""
          }
         },
         "name": "JVMART",
         "nbinsx": 10,
         "offsetgroup": "JVMART",
         "orientation": "v",
         "showlegend": true,
         "type": "histogram",
         "x": [
          497,
          455,
          455,
          414
         ],
         "xaxis": "x",
         "yaxis": "y"
        },
        {
         "alignmentgroup": "True",
         "bingroup": "x",
         "hovertemplate": "brand=Mikart<br>final_selling_price=%{x}<br>count=%{y}<extra></extra>",
         "legendgroup": "Mikart",
         "marker": {
          "color": "rgb(218,139,195)",
          "pattern": {
           "shape": ""
          }
         },
         "name": "Mikart",
         "nbinsx": 10,
         "offsetgroup": "Mikart",
         "orientation": "v",
         "showlegend": true,
         "type": "histogram",
         "x": [
          299,
          277
         ],
         "xaxis": "x",
         "yaxis": "y"
        },
        {
         "alignmentgroup": "True",
         "bingroup": "x",
         "hovertemplate": "brand=Kanget<br>final_selling_price=%{x}<br>count=%{y}<extra></extra>",
         "legendgroup": "Kanget",
         "marker": {
          "color": "rgb(140,140,140)",
          "pattern": {
           "shape": ""
          }
         },
         "name": "Kanget",
         "nbinsx": 10,
         "offsetgroup": "Kanget",
         "orientation": "v",
         "showlegend": true,
         "type": "histogram",
         "x": [
          299
         ],
         "xaxis": "x",
         "yaxis": "y"
        },
        {
         "alignmentgroup": "True",
         "bingroup": "x",
         "hovertemplate": "brand=HRX<br>final_selling_price=%{x}<br>count=%{y}<extra></extra>",
         "legendgroup": "HRX",
         "marker": {
          "color": "rgb(204,185,116)",
          "pattern": {
           "shape": ""
          }
         },
         "name": "HRX",
         "nbinsx": 10,
         "offsetgroup": "HRX",
         "orientation": "v",
         "showlegend": true,
         "type": "histogram",
         "x": [
          1799
         ],
         "xaxis": "x",
         "yaxis": "y"
        },
        {
         "alignmentgroup": "True",
         "bingroup": "x",
         "hovertemplate": "brand=makbot<br>final_selling_price=%{x}<br>count=%{y}<extra></extra>",
         "legendgroup": "makbot",
         "marker": {
          "color": "rgb(100,181,205)",
          "pattern": {
           "shape": ""
          }
         },
         "name": "makbot",
         "nbinsx": 10,
         "offsetgroup": "makbot",
         "orientation": "v",
         "showlegend": true,
         "type": "histogram",
         "x": [
          221,
          221
         ],
         "xaxis": "x",
         "yaxis": "y"
        },
        {
         "alignmentgroup": "True",
         "bingroup": "x",
         "hovertemplate": "brand=wazny<br>final_selling_price=%{x}<br>count=%{y}<extra></extra>",
         "legendgroup": "wazny",
         "marker": {
          "color": "rgb(76,114,176)",
          "pattern": {
           "shape": ""
          }
         },
         "name": "wazny",
         "nbinsx": 10,
         "offsetgroup": "wazny",
         "orientation": "v",
         "showlegend": true,
         "type": "histogram",
         "x": [
          906,
          1234
         ],
         "xaxis": "x",
         "yaxis": "y"
        },
        {
         "alignmentgroup": "True",
         "bingroup": "x",
         "hovertemplate": "brand=DETEL<br>final_selling_price=%{x}<br>count=%{y}<extra></extra>",
         "legendgroup": "DETEL",
         "marker": {
          "color": "rgb(221,132,82)",
          "pattern": {
           "shape": ""
          }
         },
         "name": "DETEL",
         "nbinsx": 10,
         "offsetgroup": "DETEL",
         "orientation": "v",
         "showlegend": true,
         "type": "histogram",
         "x": [
          269,
          231
         ],
         "xaxis": "x",
         "yaxis": "y"
        },
        {
         "alignmentgroup": "True",
         "bingroup": "x",
         "hovertemplate": "brand=Rasta<br>final_selling_price=%{x}<br>count=%{y}<extra></extra>",
         "legendgroup": "Rasta",
         "marker": {
          "color": "rgb(85,168,104)",
          "pattern": {
           "shape": ""
          }
         },
         "name": "Rasta",
         "nbinsx": 10,
         "offsetgroup": "Rasta",
         "orientation": "v",
         "showlegend": true,
         "type": "histogram",
         "x": [
          1049
         ],
         "xaxis": "x",
         "yaxis": "y"
        },
        {
         "alignmentgroup": "True",
         "bingroup": "x",
         "hovertemplate": "brand=MR.NOBODY<br>final_selling_price=%{x}<br>count=%{y}<extra></extra>",
         "legendgroup": "MR.NOBODY",
         "marker": {
          "color": "rgb(196,78,82)",
          "pattern": {
           "shape": ""
          }
         },
         "name": "MR.NOBODY",
         "nbinsx": 10,
         "offsetgroup": "MR.NOBODY",
         "orientation": "v",
         "showlegend": true,
         "type": "histogram",
         "x": [
          529
         ],
         "xaxis": "x",
         "yaxis": "y"
        },
        {
         "alignmentgroup": "True",
         "bingroup": "x",
         "hovertemplate": "brand=GPQ<br>final_selling_price=%{x}<br>count=%{y}<extra></extra>",
         "legendgroup": "GPQ",
         "marker": {
          "color": "rgb(129,114,179)",
          "pattern": {
           "shape": ""
          }
         },
         "name": "GPQ",
         "nbinsx": 10,
         "offsetgroup": "GPQ",
         "orientation": "v",
         "showlegend": true,
         "type": "histogram",
         "x": [
          899,
          343,
          328
         ],
         "xaxis": "x",
         "yaxis": "y"
        },
        {
         "alignmentgroup": "True",
         "bingroup": "x",
         "hovertemplate": "brand=ROKAVO<br>final_selling_price=%{x}<br>count=%{y}<extra></extra>",
         "legendgroup": "ROKAVO",
         "marker": {
          "color": "rgb(147,120,96)",
          "pattern": {
           "shape": ""
          }
         },
         "name": "ROKAVO",
         "nbinsx": 10,
         "offsetgroup": "ROKAVO",
         "orientation": "v",
         "showlegend": true,
         "type": "histogram",
         "x": [
          449,
          449,
          674,
          699
         ],
         "xaxis": "x",
         "yaxis": "y"
        },
        {
         "alignmentgroup": "True",
         "bingroup": "x",
         "hovertemplate": "brand=TEMPT<br>final_selling_price=%{x}<br>count=%{y}<extra></extra>",
         "legendgroup": "TEMPT",
         "marker": {
          "color": "rgb(218,139,195)",
          "pattern": {
           "shape": ""
          }
         },
         "name": "TEMPT",
         "nbinsx": 10,
         "offsetgroup": "TEMPT",
         "orientation": "v",
         "showlegend": true,
         "type": "histogram",
         "x": [
          999,
          649,
          367,
          1365,
          785
         ],
         "xaxis": "x",
         "yaxis": "y"
        },
        {
         "alignmentgroup": "True",
         "bingroup": "x",
         "hovertemplate": "brand=Aethon<br>final_selling_price=%{x}<br>count=%{y}<extra></extra>",
         "legendgroup": "Aethon",
         "marker": {
          "color": "rgb(140,140,140)",
          "pattern": {
           "shape": ""
          }
         },
         "name": "Aethon",
         "nbinsx": 10,
         "offsetgroup": "Aethon",
         "orientation": "v",
         "showlegend": true,
         "type": "histogram",
         "x": [
          436
         ],
         "xaxis": "x",
         "yaxis": "y"
        },
        {
         "alignmentgroup": "True",
         "bingroup": "x",
         "hovertemplate": "brand=Ridamic<br>final_selling_price=%{x}<br>count=%{y}<extra></extra>",
         "legendgroup": "Ridamic",
         "marker": {
          "color": "rgb(204,185,116)",
          "pattern": {
           "shape": ""
          }
         },
         "name": "Ridamic",
         "nbinsx": 10,
         "offsetgroup": "Ridamic",
         "orientation": "v",
         "showlegend": true,
         "type": "histogram",
         "x": [
          565,
          449,
          499
         ],
         "xaxis": "x",
         "yaxis": "y"
        },
        {
         "alignmentgroup": "True",
         "bingroup": "x",
         "hovertemplate": "brand=Costar<br>final_selling_price=%{x}<br>count=%{y}<extra></extra>",
         "legendgroup": "Costar",
         "marker": {
          "color": "rgb(100,181,205)",
          "pattern": {
           "shape": ""
          }
         },
         "name": "Costar",
         "nbinsx": 10,
         "offsetgroup": "Costar",
         "orientation": "v",
         "showlegend": true,
         "type": "histogram",
         "x": [
          599,
          548
         ],
         "xaxis": "x",
         "yaxis": "y"
        },
        {
         "alignmentgroup": "True",
         "bingroup": "x",
         "hovertemplate": "brand=Digiwins<br>final_selling_price=%{x}<br>count=%{y}<extra></extra>",
         "legendgroup": "Digiwins",
         "marker": {
          "color": "rgb(76,114,176)",
          "pattern": {
           "shape": ""
          }
         },
         "name": "Digiwins",
         "nbinsx": 10,
         "offsetgroup": "Digiwins",
         "orientation": "v",
         "showlegend": true,
         "type": "histogram",
         "x": [
          849,
          399,
          399
         ],
         "xaxis": "x",
         "yaxis": "y"
        },
        {
         "alignmentgroup": "True",
         "bingroup": "x",
         "hovertemplate": "brand=LAVA<br>final_selling_price=%{x}<br>count=%{y}<extra></extra>",
         "legendgroup": "LAVA",
         "marker": {
          "color": "rgb(221,132,82)",
          "pattern": {
           "shape": ""
          }
         },
         "name": "LAVA",
         "nbinsx": 10,
         "offsetgroup": "LAVA",
         "orientation": "v",
         "showlegend": true,
         "type": "histogram",
         "x": [
          349
         ],
         "xaxis": "x",
         "yaxis": "y"
        },
        {
         "alignmentgroup": "True",
         "bingroup": "x",
         "hovertemplate": "brand=Grooves<br>final_selling_price=%{x}<br>count=%{y}<extra></extra>",
         "legendgroup": "Grooves",
         "marker": {
          "color": "rgb(85,168,104)",
          "pattern": {
           "shape": ""
          }
         },
         "name": "Grooves",
         "nbinsx": 10,
         "offsetgroup": "Grooves",
         "orientation": "v",
         "showlegend": true,
         "type": "histogram",
         "x": [
          1399,
          1099,
          1499,
          1677,
          1424,
          1099,
          1199,
          1499
         ],
         "xaxis": "x",
         "yaxis": "y"
        },
        {
         "alignmentgroup": "True",
         "bingroup": "x",
         "hovertemplate": "brand=YARNIK<br>final_selling_price=%{x}<br>count=%{y}<extra></extra>",
         "legendgroup": "YARNIK",
         "marker": {
          "color": "rgb(196,78,82)",
          "pattern": {
           "shape": ""
          }
         },
         "name": "YARNIK",
         "nbinsx": 10,
         "offsetgroup": "YARNIK",
         "orientation": "v",
         "showlegend": true,
         "type": "histogram",
         "x": [
          439
         ],
         "xaxis": "x",
         "yaxis": "y"
        },
        {
         "alignmentgroup": "True",
         "bingroup": "x",
         "hovertemplate": "brand=iBAss<br>final_selling_price=%{x}<br>count=%{y}<extra></extra>",
         "legendgroup": "iBAss",
         "marker": {
          "color": "rgb(129,114,179)",
          "pattern": {
           "shape": ""
          }
         },
         "name": "iBAss",
         "nbinsx": 10,
         "offsetgroup": "iBAss",
         "orientation": "v",
         "showlegend": true,
         "type": "histogram",
         "x": [
          299,
          267
         ],
         "xaxis": "x",
         "yaxis": "y"
        },
        {
         "alignmentgroup": "True",
         "bingroup": "x",
         "hovertemplate": "brand=Qeikim<br>final_selling_price=%{x}<br>count=%{y}<extra></extra>",
         "legendgroup": "Qeikim",
         "marker": {
          "color": "rgb(147,120,96)",
          "pattern": {
           "shape": ""
          }
         },
         "name": "Qeikim",
         "nbinsx": 10,
         "offsetgroup": "Qeikim",
         "orientation": "v",
         "showlegend": true,
         "type": "histogram",
         "x": [
          395
         ],
         "xaxis": "x",
         "yaxis": "y"
        },
        {
         "alignmentgroup": "True",
         "bingroup": "x",
         "hovertemplate": "brand=Harmano<br>final_selling_price=%{x}<br>count=%{y}<extra></extra>",
         "legendgroup": "Harmano",
         "marker": {
          "color": "rgb(218,139,195)",
          "pattern": {
           "shape": ""
          }
         },
         "name": "Harmano",
         "nbinsx": 10,
         "offsetgroup": "Harmano",
         "orientation": "v",
         "showlegend": true,
         "type": "histogram",
         "x": [
          795,
          449
         ],
         "xaxis": "x",
         "yaxis": "y"
        },
        {
         "alignmentgroup": "True",
         "bingroup": "x",
         "hovertemplate": "brand=MIFKRT<br>final_selling_price=%{x}<br>count=%{y}<extra></extra>",
         "legendgroup": "MIFKRT",
         "marker": {
          "color": "rgb(140,140,140)",
          "pattern": {
           "shape": ""
          }
         },
         "name": "MIFKRT",
         "nbinsx": 10,
         "offsetgroup": "MIFKRT",
         "orientation": "v",
         "showlegend": true,
         "type": "histogram",
         "x": [
          299,
          899
         ],
         "xaxis": "x",
         "yaxis": "y"
        },
        {
         "alignmentgroup": "True",
         "bingroup": "x",
         "hovertemplate": "brand=itel<br>final_selling_price=%{x}<br>count=%{y}<extra></extra>",
         "legendgroup": "itel",
         "marker": {
          "color": "rgb(204,185,116)",
          "pattern": {
           "shape": ""
          }
         },
         "name": "itel",
         "nbinsx": 10,
         "offsetgroup": "itel",
         "orientation": "v",
         "showlegend": true,
         "type": "histogram",
         "x": [
          199,
          2064
         ],
         "xaxis": "x",
         "yaxis": "y"
        },
        {
         "alignmentgroup": "True",
         "bingroup": "x",
         "hovertemplate": "brand=Grostar<br>final_selling_price=%{x}<br>count=%{y}<extra></extra>",
         "legendgroup": "Grostar",
         "marker": {
          "color": "rgb(100,181,205)",
          "pattern": {
           "shape": ""
          }
         },
         "name": "Grostar",
         "nbinsx": 10,
         "offsetgroup": "Grostar",
         "orientation": "v",
         "showlegend": true,
         "type": "histogram",
         "x": [
          449
         ],
         "xaxis": "x",
         "yaxis": "y"
        },
        {
         "alignmentgroup": "True",
         "bingroup": "x",
         "hovertemplate": "brand=CIHYARD<br>final_selling_price=%{x}<br>count=%{y}<extra></extra>",
         "legendgroup": "CIHYARD",
         "marker": {
          "color": "rgb(76,114,176)",
          "pattern": {
           "shape": ""
          }
         },
         "name": "CIHYARD",
         "nbinsx": 10,
         "offsetgroup": "CIHYARD",
         "orientation": "v",
         "showlegend": true,
         "type": "histogram",
         "x": [
          248,
          244,
          258,
          252,
          201,
          195
         ],
         "xaxis": "x",
         "yaxis": "y"
        },
        {
         "alignmentgroup": "True",
         "bingroup": "x",
         "hovertemplate": "brand=Tunifi<br>final_selling_price=%{x}<br>count=%{y}<extra></extra>",
         "legendgroup": "Tunifi",
         "marker": {
          "color": "rgb(221,132,82)",
          "pattern": {
           "shape": ""
          }
         },
         "name": "Tunifi",
         "nbinsx": 10,
         "offsetgroup": "Tunifi",
         "orientation": "v",
         "showlegend": true,
         "type": "histogram",
         "x": [
          1999,
          1299,
          499,
          764
         ],
         "xaxis": "x",
         "yaxis": "y"
        },
        {
         "alignmentgroup": "True",
         "bingroup": "x",
         "hovertemplate": "brand=ozrik<br>final_selling_price=%{x}<br>count=%{y}<extra></extra>",
         "legendgroup": "ozrik",
         "marker": {
          "color": "rgb(85,168,104)",
          "pattern": {
           "shape": ""
          }
         },
         "name": "ozrik",
         "nbinsx": 10,
         "offsetgroup": "ozrik",
         "orientation": "v",
         "showlegend": true,
         "type": "histogram",
         "x": [
          299,
          299
         ],
         "xaxis": "x",
         "yaxis": "y"
        },
        {
         "alignmentgroup": "True",
         "bingroup": "x",
         "hovertemplate": "brand=Hippo<br>final_selling_price=%{x}<br>count=%{y}<extra></extra>",
         "legendgroup": "Hippo",
         "marker": {
          "color": "rgb(196,78,82)",
          "pattern": {
           "shape": ""
          }
         },
         "name": "Hippo",
         "nbinsx": 10,
         "offsetgroup": "Hippo",
         "orientation": "v",
         "showlegend": true,
         "type": "histogram",
         "x": [
          399,
          349,
          499
         ],
         "xaxis": "x",
         "yaxis": "y"
        },
        {
         "alignmentgroup": "True",
         "bingroup": "x",
         "hovertemplate": "brand=flix<br>final_selling_price=%{x}<br>count=%{y}<extra></extra>",
         "legendgroup": "flix",
         "marker": {
          "color": "rgb(129,114,179)",
          "pattern": {
           "shape": ""
          }
         },
         "name": "flix",
         "nbinsx": 10,
         "offsetgroup": "flix",
         "orientation": "v",
         "showlegend": true,
         "type": "histogram",
         "x": [
          299
         ],
         "xaxis": "x",
         "yaxis": "y"
        },
        {
         "alignmentgroup": "True",
         "bingroup": "x",
         "hovertemplate": "brand=YCNEX<br>final_selling_price=%{x}<br>count=%{y}<extra></extra>",
         "legendgroup": "YCNEX",
         "marker": {
          "color": "rgb(147,120,96)",
          "pattern": {
           "shape": ""
          }
         },
         "name": "YCNEX",
         "nbinsx": 10,
         "offsetgroup": "YCNEX",
         "orientation": "v",
         "showlegend": true,
         "type": "histogram",
         "x": [
          979
         ],
         "xaxis": "x",
         "yaxis": "y"
        },
        {
         "alignmentgroup": "True",
         "bingroup": "x",
         "hovertemplate": "brand=Earboss<br>final_selling_price=%{x}<br>count=%{y}<extra></extra>",
         "legendgroup": "Earboss",
         "marker": {
          "color": "rgb(218,139,195)",
          "pattern": {
           "shape": ""
          }
         },
         "name": "Earboss",
         "nbinsx": 10,
         "offsetgroup": "Earboss",
         "orientation": "v",
         "showlegend": true,
         "type": "histogram",
         "x": [
          454,
          450,
          674
         ],
         "xaxis": "x",
         "yaxis": "y"
        },
        {
         "alignmentgroup": "True",
         "bingroup": "x",
         "hovertemplate": "brand=Ant<br>final_selling_price=%{x}<br>count=%{y}<extra></extra>",
         "legendgroup": "Ant",
         "marker": {
          "color": "rgb(140,140,140)",
          "pattern": {
           "shape": ""
          }
         },
         "name": "Ant",
         "nbinsx": 10,
         "offsetgroup": "Ant",
         "orientation": "v",
         "showlegend": true,
         "type": "histogram",
         "x": [
          4045
         ],
         "xaxis": "x",
         "yaxis": "y"
        },
        {
         "alignmentgroup": "True",
         "bingroup": "x",
         "hovertemplate": "brand=DIGIBUDS<br>final_selling_price=%{x}<br>count=%{y}<extra></extra>",
         "legendgroup": "DIGIBUDS",
         "marker": {
          "color": "rgb(204,185,116)",
          "pattern": {
           "shape": ""
          }
         },
         "name": "DIGIBUDS",
         "nbinsx": 10,
         "offsetgroup": "DIGIBUDS",
         "orientation": "v",
         "showlegend": true,
         "type": "histogram",
         "x": [
          501
         ],
         "xaxis": "x",
         "yaxis": "y"
        },
        {
         "alignmentgroup": "True",
         "bingroup": "x",
         "hovertemplate": "brand=Skullcandy<br>final_selling_price=%{x}<br>count=%{y}<extra></extra>",
         "legendgroup": "Skullcandy",
         "marker": {
          "color": "rgb(100,181,205)",
          "pattern": {
           "shape": ""
          }
         },
         "name": "Skullcandy",
         "nbinsx": 10,
         "offsetgroup": "Skullcandy",
         "orientation": "v",
         "showlegend": true,
         "type": "histogram",
         "x": [
          1099,
          629,
          549
         ],
         "xaxis": "x",
         "yaxis": "y"
        },
        {
         "alignmentgroup": "True",
         "bingroup": "x",
         "hovertemplate": "brand=PTron<br>final_selling_price=%{x}<br>count=%{y}<extra></extra>",
         "legendgroup": "PTron",
         "marker": {
          "color": "rgb(76,114,176)",
          "pattern": {
           "shape": ""
          }
         },
         "name": "PTron",
         "nbinsx": 10,
         "offsetgroup": "PTron",
         "orientation": "v",
         "showlegend": true,
         "type": "histogram",
         "x": [
          999,
          999
         ],
         "xaxis": "x",
         "yaxis": "y"
        },
        {
         "alignmentgroup": "True",
         "bingroup": "x",
         "hovertemplate": "brand=DATIVE<br>final_selling_price=%{x}<br>count=%{y}<extra></extra>",
         "legendgroup": "DATIVE",
         "marker": {
          "color": "rgb(221,132,82)",
          "pattern": {
           "shape": ""
          }
         },
         "name": "DATIVE",
         "nbinsx": 10,
         "offsetgroup": "DATIVE",
         "orientation": "v",
         "showlegend": true,
         "type": "histogram",
         "x": [
          590,
          469
         ],
         "xaxis": "x",
         "yaxis": "y"
        },
        {
         "alignmentgroup": "True",
         "bingroup": "x",
         "hovertemplate": "brand=TIMBRESONIC<br>final_selling_price=%{x}<br>count=%{y}<extra></extra>",
         "legendgroup": "TIMBRESONIC",
         "marker": {
          "color": "rgb(85,168,104)",
          "pattern": {
           "shape": ""
          }
         },
         "name": "TIMBRESONIC",
         "nbinsx": 10,
         "offsetgroup": "TIMBRESONIC",
         "orientation": "v",
         "showlegend": true,
         "type": "histogram",
         "x": [
          599,
          599,
          599,
          599,
          599
         ],
         "xaxis": "x",
         "yaxis": "y"
        },
        {
         "alignmentgroup": "True",
         "bingroup": "x",
         "hovertemplate": "brand=IZWI<br>final_selling_price=%{x}<br>count=%{y}<extra></extra>",
         "legendgroup": "IZWI",
         "marker": {
          "color": "rgb(196,78,82)",
          "pattern": {
           "shape": ""
          }
         },
         "name": "IZWI",
         "nbinsx": 10,
         "offsetgroup": "IZWI",
         "orientation": "v",
         "showlegend": true,
         "type": "histogram",
         "x": [
          449,
          424,
          399,
          399,
          299
         ],
         "xaxis": "x",
         "yaxis": "y"
        },
        {
         "alignmentgroup": "True",
         "bingroup": "x",
         "hovertemplate": "brand=Toreto<br>final_selling_price=%{x}<br>count=%{y}<extra></extra>",
         "legendgroup": "Toreto",
         "marker": {
          "color": "rgb(129,114,179)",
          "pattern": {
           "shape": ""
          }
         },
         "name": "Toreto",
         "nbinsx": 10,
         "offsetgroup": "Toreto",
         "orientation": "v",
         "showlegend": true,
         "type": "histogram",
         "x": [
          1346
         ],
         "xaxis": "x",
         "yaxis": "y"
        },
        {
         "alignmentgroup": "True",
         "bingroup": "x",
         "hovertemplate": "brand=Seashot<br>final_selling_price=%{x}<br>count=%{y}<extra></extra>",
         "legendgroup": "Seashot",
         "marker": {
          "color": "rgb(147,120,96)",
          "pattern": {
           "shape": ""
          }
         },
         "name": "Seashot",
         "nbinsx": 10,
         "offsetgroup": "Seashot",
         "orientation": "v",
         "showlegend": true,
         "type": "histogram",
         "x": [
          688,
          388
         ],
         "xaxis": "x",
         "yaxis": "y"
        },
        {
         "alignmentgroup": "True",
         "bingroup": "x",
         "hovertemplate": "brand=Baani<br>final_selling_price=%{x}<br>count=%{y}<extra></extra>",
         "legendgroup": "Baani",
         "marker": {
          "color": "rgb(218,139,195)",
          "pattern": {
           "shape": ""
          }
         },
         "name": "Baani",
         "nbinsx": 10,
         "offsetgroup": "Baani",
         "orientation": "v",
         "showlegend": true,
         "type": "histogram",
         "x": [
          1151
         ],
         "xaxis": "x",
         "yaxis": "y"
        },
        {
         "alignmentgroup": "True",
         "bingroup": "x",
         "hovertemplate": "brand=Gearplay<br>final_selling_price=%{x}<br>count=%{y}<extra></extra>",
         "legendgroup": "Gearplay",
         "marker": {
          "color": "rgb(140,140,140)",
          "pattern": {
           "shape": ""
          }
         },
         "name": "Gearplay",
         "nbinsx": 10,
         "offsetgroup": "Gearplay",
         "orientation": "v",
         "showlegend": true,
         "type": "histogram",
         "x": [
          659
         ],
         "xaxis": "x",
         "yaxis": "y"
        },
        {
         "alignmentgroup": "True",
         "bingroup": "x",
         "hovertemplate": "brand=CROSSLOOP<br>final_selling_price=%{x}<br>count=%{y}<extra></extra>",
         "legendgroup": "CROSSLOOP",
         "marker": {
          "color": "rgb(204,185,116)",
          "pattern": {
           "shape": ""
          }
         },
         "name": "CROSSLOOP",
         "nbinsx": 10,
         "offsetgroup": "CROSSLOOP",
         "orientation": "v",
         "showlegend": true,
         "type": "histogram",
         "x": [
          749,
          799,
          749,
          699,
          699,
          699,
          699
         ],
         "xaxis": "x",
         "yaxis": "y"
        },
        {
         "alignmentgroup": "True",
         "bingroup": "x",
         "hovertemplate": "brand=RARIBO<br>final_selling_price=%{x}<br>count=%{y}<extra></extra>",
         "legendgroup": "RARIBO",
         "marker": {
          "color": "rgb(100,181,205)",
          "pattern": {
           "shape": ""
          }
         },
         "name": "RARIBO",
         "nbinsx": 10,
         "offsetgroup": "RARIBO",
         "orientation": "v",
         "showlegend": true,
         "type": "histogram",
         "x": [
          1256,
          1088,
          1004,
          951
         ],
         "xaxis": "x",
         "yaxis": "y"
        },
        {
         "alignmentgroup": "True",
         "bingroup": "x",
         "hovertemplate": "brand=bAot<br>final_selling_price=%{x}<br>count=%{y}<extra></extra>",
         "legendgroup": "bAot",
         "marker": {
          "color": "rgb(76,114,176)",
          "pattern": {
           "shape": ""
          }
         },
         "name": "bAot",
         "nbinsx": 10,
         "offsetgroup": "bAot",
         "orientation": "v",
         "showlegend": true,
         "type": "histogram",
         "x": [
          599,
          599,
          600
         ],
         "xaxis": "x",
         "yaxis": "y"
        },
        {
         "alignmentgroup": "True",
         "bingroup": "x",
         "hovertemplate": "brand=Inbase<br>final_selling_price=%{x}<br>count=%{y}<extra></extra>",
         "legendgroup": "Inbase",
         "marker": {
          "color": "rgb(221,132,82)",
          "pattern": {
           "shape": ""
          }
         },
         "name": "Inbase",
         "nbinsx": 10,
         "offsetgroup": "Inbase",
         "orientation": "v",
         "showlegend": true,
         "type": "histogram",
         "x": [
          699,
          699
         ],
         "xaxis": "x",
         "yaxis": "y"
        },
        {
         "alignmentgroup": "True",
         "bingroup": "x",
         "hovertemplate": "brand=POCO<br>final_selling_price=%{x}<br>count=%{y}<extra></extra>",
         "legendgroup": "POCO",
         "marker": {
          "color": "rgb(85,168,104)",
          "pattern": {
           "shape": ""
          }
         },
         "name": "POCO",
         "nbinsx": 10,
         "offsetgroup": "POCO",
         "orientation": "v",
         "showlegend": true,
         "type": "histogram",
         "x": [
          1199
         ],
         "xaxis": "x",
         "yaxis": "y"
        },
        {
         "alignmentgroup": "True",
         "bingroup": "x",
         "hovertemplate": "brand=Hammer<br>final_selling_price=%{x}<br>count=%{y}<extra></extra>",
         "legendgroup": "Hammer",
         "marker": {
          "color": "rgb(196,78,82)",
          "pattern": {
           "shape": ""
          }
         },
         "name": "Hammer",
         "nbinsx": 10,
         "offsetgroup": "Hammer",
         "orientation": "v",
         "showlegend": true,
         "type": "histogram",
         "x": [
          2999
         ],
         "xaxis": "x",
         "yaxis": "y"
        },
        {
         "alignmentgroup": "True",
         "bingroup": "x",
         "hovertemplate": "brand=BULLSTORM<br>final_selling_price=%{x}<br>count=%{y}<extra></extra>",
         "legendgroup": "BULLSTORM",
         "marker": {
          "color": "rgb(129,114,179)",
          "pattern": {
           "shape": ""
          }
         },
         "name": "BULLSTORM",
         "nbinsx": 10,
         "offsetgroup": "BULLSTORM",
         "orientation": "v",
         "showlegend": true,
         "type": "histogram",
         "x": [
          405,
          559,
          399,
          399,
          439
         ],
         "xaxis": "x",
         "yaxis": "y"
        },
        {
         "alignmentgroup": "True",
         "bingroup": "x",
         "hovertemplate": "brand=Urban<br>final_selling_price=%{x}<br>count=%{y}<extra></extra>",
         "legendgroup": "Urban",
         "marker": {
          "color": "rgb(147,120,96)",
          "pattern": {
           "shape": ""
          }
         },
         "name": "Urban",
         "nbinsx": 10,
         "offsetgroup": "Urban",
         "orientation": "v",
         "showlegend": true,
         "type": "histogram",
         "x": [
          998
         ],
         "xaxis": "x",
         "yaxis": "y"
        },
        {
         "alignmentgroup": "True",
         "bingroup": "x",
         "hovertemplate": "brand=GROOK<br>final_selling_price=%{x}<br>count=%{y}<extra></extra>",
         "legendgroup": "GROOK",
         "marker": {
          "color": "rgb(218,139,195)",
          "pattern": {
           "shape": ""
          }
         },
         "name": "GROOK",
         "nbinsx": 10,
         "offsetgroup": "GROOK",
         "orientation": "v",
         "showlegend": true,
         "type": "histogram",
         "x": [
          233,
          207
         ],
         "xaxis": "x",
         "yaxis": "y"
        },
        {
         "alignmentgroup": "True",
         "bingroup": "x",
         "hovertemplate": "brand=Lorikeet<br>final_selling_price=%{x}<br>count=%{y}<extra></extra>",
         "legendgroup": "Lorikeet",
         "marker": {
          "color": "rgb(140,140,140)",
          "pattern": {
           "shape": ""
          }
         },
         "name": "Lorikeet",
         "nbinsx": 10,
         "offsetgroup": "Lorikeet",
         "orientation": "v",
         "showlegend": true,
         "type": "histogram",
         "x": [
          499
         ],
         "xaxis": "x",
         "yaxis": "y"
        },
        {
         "alignmentgroup": "True",
         "bingroup": "x",
         "hovertemplate": "brand=NECKTECH<br>final_selling_price=%{x}<br>count=%{y}<extra></extra>",
         "legendgroup": "NECKTECH",
         "marker": {
          "color": "rgb(204,185,116)",
          "pattern": {
           "shape": ""
          }
         },
         "name": "NECKTECH",
         "nbinsx": 10,
         "offsetgroup": "NECKTECH",
         "orientation": "v",
         "showlegend": true,
         "type": "histogram",
         "x": [
          424
         ],
         "xaxis": "x",
         "yaxis": "y"
        },
        {
         "alignmentgroup": "True",
         "bingroup": "x",
         "hovertemplate": "brand=ZSIV<br>final_selling_price=%{x}<br>count=%{y}<extra></extra>",
         "legendgroup": "ZSIV",
         "marker": {
          "color": "rgb(100,181,205)",
          "pattern": {
           "shape": ""
          }
         },
         "name": "ZSIV",
         "nbinsx": 10,
         "offsetgroup": "ZSIV",
         "orientation": "v",
         "showlegend": true,
         "type": "histogram",
         "x": [
          448
         ],
         "xaxis": "x",
         "yaxis": "y"
        },
        {
         "alignmentgroup": "True",
         "bingroup": "x",
         "hovertemplate": "brand=GLAMPANDA<br>final_selling_price=%{x}<br>count=%{y}<extra></extra>",
         "legendgroup": "GLAMPANDA",
         "marker": {
          "color": "rgb(76,114,176)",
          "pattern": {
           "shape": ""
          }
         },
         "name": "GLAMPANDA",
         "nbinsx": 10,
         "offsetgroup": "GLAMPANDA",
         "orientation": "v",
         "showlegend": true,
         "type": "histogram",
         "x": [
          259
         ],
         "xaxis": "x",
         "yaxis": "y"
        },
        {
         "alignmentgroup": "True",
         "bingroup": "x",
         "hovertemplate": "brand=Jeevan<br>final_selling_price=%{x}<br>count=%{y}<extra></extra>",
         "legendgroup": "Jeevan",
         "marker": {
          "color": "rgb(221,132,82)",
          "pattern": {
           "shape": ""
          }
         },
         "name": "Jeevan",
         "nbinsx": 10,
         "offsetgroup": "Jeevan",
         "orientation": "v",
         "showlegend": true,
         "type": "histogram",
         "x": [
          456
         ],
         "xaxis": "x",
         "yaxis": "y"
        },
        {
         "alignmentgroup": "True",
         "bingroup": "x",
         "hovertemplate": "brand=SHKOD<br>final_selling_price=%{x}<br>count=%{y}<extra></extra>",
         "legendgroup": "SHKOD",
         "marker": {
          "color": "rgb(85,168,104)",
          "pattern": {
           "shape": ""
          }
         },
         "name": "SHKOD",
         "nbinsx": 10,
         "offsetgroup": "SHKOD",
         "orientation": "v",
         "showlegend": true,
         "type": "histogram",
         "x": [
          899,
          1146,
          1029
         ],
         "xaxis": "x",
         "yaxis": "y"
        },
        {
         "alignmentgroup": "True",
         "bingroup": "x",
         "hovertemplate": "brand=Clairbell<br>final_selling_price=%{x}<br>count=%{y}<extra></extra>",
         "legendgroup": "Clairbell",
         "marker": {
          "color": "rgb(196,78,82)",
          "pattern": {
           "shape": ""
          }
         },
         "name": "Clairbell",
         "nbinsx": 10,
         "offsetgroup": "Clairbell",
         "orientation": "v",
         "showlegend": true,
         "type": "histogram",
         "x": [
          449,
          449
         ],
         "xaxis": "x",
         "yaxis": "y"
        },
        {
         "alignmentgroup": "True",
         "bingroup": "x",
         "hovertemplate": "brand=AMS<br>final_selling_price=%{x}<br>count=%{y}<extra></extra>",
         "legendgroup": "AMS",
         "marker": {
          "color": "rgb(129,114,179)",
          "pattern": {
           "shape": ""
          }
         },
         "name": "AMS",
         "nbinsx": 10,
         "offsetgroup": "AMS",
         "orientation": "v",
         "showlegend": true,
         "type": "histogram",
         "x": [
          282
         ],
         "xaxis": "x",
         "yaxis": "y"
        },
        {
         "alignmentgroup": "True",
         "bingroup": "x",
         "hovertemplate": "brand=Pebble<br>final_selling_price=%{x}<br>count=%{y}<extra></extra>",
         "legendgroup": "Pebble",
         "marker": {
          "color": "rgb(147,120,96)",
          "pattern": {
           "shape": ""
          }
         },
         "name": "Pebble",
         "nbinsx": 10,
         "offsetgroup": "Pebble",
         "orientation": "v",
         "showlegend": true,
         "type": "histogram",
         "x": [
          1439
         ],
         "xaxis": "x",
         "yaxis": "y"
        },
        {
         "alignmentgroup": "True",
         "bingroup": "x",
         "hovertemplate": "brand=JSF<br>final_selling_price=%{x}<br>count=%{y}<extra></extra>",
         "legendgroup": "JSF",
         "marker": {
          "color": "rgb(218,139,195)",
          "pattern": {
           "shape": ""
          }
         },
         "name": "JSF",
         "nbinsx": 10,
         "offsetgroup": "JSF",
         "orientation": "v",
         "showlegend": true,
         "type": "histogram",
         "x": [
          319,
          649,
          429
         ],
         "xaxis": "x",
         "yaxis": "y"
        },
        {
         "alignmentgroup": "True",
         "bingroup": "x",
         "hovertemplate": "brand=FuelBox<br>final_selling_price=%{x}<br>count=%{y}<extra></extra>",
         "legendgroup": "FuelBox",
         "marker": {
          "color": "rgb(140,140,140)",
          "pattern": {
           "shape": ""
          }
         },
         "name": "FuelBox",
         "nbinsx": 10,
         "offsetgroup": "FuelBox",
         "orientation": "v",
         "showlegend": true,
         "type": "histogram",
         "x": [
          499,
          499
         ],
         "xaxis": "x",
         "yaxis": "y"
        },
        {
         "alignmentgroup": "True",
         "bingroup": "x",
         "hovertemplate": "brand=WineWood<br>final_selling_price=%{x}<br>count=%{y}<extra></extra>",
         "legendgroup": "WineWood",
         "marker": {
          "color": "rgb(204,185,116)",
          "pattern": {
           "shape": ""
          }
         },
         "name": "WineWood",
         "nbinsx": 10,
         "offsetgroup": "WineWood",
         "orientation": "v",
         "showlegend": true,
         "type": "histogram",
         "x": [
          297
         ],
         "xaxis": "x",
         "yaxis": "y"
        },
        {
         "alignmentgroup": "True",
         "bingroup": "x",
         "hovertemplate": "brand=Zusix<br>final_selling_price=%{x}<br>count=%{y}<extra></extra>",
         "legendgroup": "Zusix",
         "marker": {
          "color": "rgb(100,181,205)",
          "pattern": {
           "shape": ""
          }
         },
         "name": "Zusix",
         "nbinsx": 10,
         "offsetgroup": "Zusix",
         "orientation": "v",
         "showlegend": true,
         "type": "histogram",
         "x": [
          549
         ],
         "xaxis": "x",
         "yaxis": "y"
        },
        {
         "alignmentgroup": "True",
         "bingroup": "x",
         "hovertemplate": "brand=DHAN<br>final_selling_price=%{x}<br>count=%{y}<extra></extra>",
         "legendgroup": "DHAN",
         "marker": {
          "color": "rgb(76,114,176)",
          "pattern": {
           "shape": ""
          }
         },
         "name": "DHAN",
         "nbinsx": 10,
         "offsetgroup": "DHAN",
         "orientation": "v",
         "showlegend": true,
         "type": "histogram",
         "x": [
          699
         ],
         "xaxis": "x",
         "yaxis": "y"
        },
        {
         "alignmentgroup": "True",
         "bingroup": "x",
         "hovertemplate": "brand=Onikuma<br>final_selling_price=%{x}<br>count=%{y}<extra></extra>",
         "legendgroup": "Onikuma",
         "marker": {
          "color": "rgb(221,132,82)",
          "pattern": {
           "shape": ""
          }
         },
         "name": "Onikuma",
         "nbinsx": 10,
         "offsetgroup": "Onikuma",
         "orientation": "v",
         "showlegend": true,
         "type": "histogram",
         "x": [
          699,
          699
         ],
         "xaxis": "x",
         "yaxis": "y"
        },
        {
         "alignmentgroup": "True",
         "bingroup": "x",
         "hovertemplate": "brand=selloria<br>final_selling_price=%{x}<br>count=%{y}<extra></extra>",
         "legendgroup": "selloria",
         "marker": {
          "color": "rgb(85,168,104)",
          "pattern": {
           "shape": ""
          }
         },
         "name": "selloria",
         "nbinsx": 10,
         "offsetgroup": "selloria",
         "orientation": "v",
         "showlegend": true,
         "type": "histogram",
         "x": [
          279,
          349,
          299,
          279
         ],
         "xaxis": "x",
         "yaxis": "y"
        },
        {
         "alignmentgroup": "True",
         "bingroup": "x",
         "hovertemplate": "brand=DADO<br>final_selling_price=%{x}<br>count=%{y}<extra></extra>",
         "legendgroup": "DADO",
         "marker": {
          "color": "rgb(196,78,82)",
          "pattern": {
           "shape": ""
          }
         },
         "name": "DADO",
         "nbinsx": 10,
         "offsetgroup": "DADO",
         "orientation": "v",
         "showlegend": true,
         "type": "histogram",
         "x": [
          599
         ],
         "xaxis": "x",
         "yaxis": "y"
        },
        {
         "alignmentgroup": "True",
         "bingroup": "x",
         "hovertemplate": "brand=MAGICMART<br>final_selling_price=%{x}<br>count=%{y}<extra></extra>",
         "legendgroup": "MAGICMART",
         "marker": {
          "color": "rgb(129,114,179)",
          "pattern": {
           "shape": ""
          }
         },
         "name": "MAGICMART",
         "nbinsx": 10,
         "offsetgroup": "MAGICMART",
         "orientation": "v",
         "showlegend": true,
         "type": "histogram",
         "x": [
          489
         ],
         "xaxis": "x",
         "yaxis": "y"
        },
        {
         "alignmentgroup": "True",
         "bingroup": "x",
         "hovertemplate": "brand=NEXTGEN<br>final_selling_price=%{x}<br>count=%{y}<extra></extra>",
         "legendgroup": "NEXTGEN",
         "marker": {
          "color": "rgb(147,120,96)",
          "pattern": {
           "shape": ""
          }
         },
         "name": "NEXTGEN",
         "nbinsx": 10,
         "offsetgroup": "NEXTGEN",
         "orientation": "v",
         "showlegend": true,
         "type": "histogram",
         "x": [
          299
         ],
         "xaxis": "x",
         "yaxis": "y"
        },
        {
         "alignmentgroup": "True",
         "bingroup": "x",
         "hovertemplate": "brand=BAYEEN<br>final_selling_price=%{x}<br>count=%{y}<extra></extra>",
         "legendgroup": "BAYEEN",
         "marker": {
          "color": "rgb(218,139,195)",
          "pattern": {
           "shape": ""
          }
         },
         "name": "BAYEEN",
         "nbinsx": 10,
         "offsetgroup": "BAYEEN",
         "orientation": "v",
         "showlegend": true,
         "type": "histogram",
         "x": [
          428
         ],
         "xaxis": "x",
         "yaxis": "y"
        },
        {
         "alignmentgroup": "True",
         "bingroup": "x",
         "hovertemplate": "brand=Para<br>final_selling_price=%{x}<br>count=%{y}<extra></extra>",
         "legendgroup": "Para",
         "marker": {
          "color": "rgb(140,140,140)",
          "pattern": {
           "shape": ""
          }
         },
         "name": "Para",
         "nbinsx": 10,
         "offsetgroup": "Para",
         "orientation": "v",
         "showlegend": true,
         "type": "histogram",
         "x": [
          306
         ],
         "xaxis": "x",
         "yaxis": "y"
        },
        {
         "alignmentgroup": "True",
         "bingroup": "x",
         "hovertemplate": "brand=moto<br>final_selling_price=%{x}<br>count=%{y}<extra></extra>",
         "legendgroup": "moto",
         "marker": {
          "color": "rgb(204,185,116)",
          "pattern": {
           "shape": ""
          }
         },
         "name": "moto",
         "nbinsx": 10,
         "offsetgroup": "moto",
         "orientation": "v",
         "showlegend": true,
         "type": "histogram",
         "x": [
          3499,
          9999,
          9999,
          3499
         ],
         "xaxis": "x",
         "yaxis": "y"
        },
        {
         "alignmentgroup": "True",
         "bingroup": "x",
         "hovertemplate": "brand=Koyonix<br>final_selling_price=%{x}<br>count=%{y}<extra></extra>",
         "legendgroup": "Koyonix",
         "marker": {
          "color": "rgb(100,181,205)",
          "pattern": {
           "shape": ""
          }
         },
         "name": "Koyonix",
         "nbinsx": 10,
         "offsetgroup": "Koyonix",
         "orientation": "v",
         "showlegend": true,
         "type": "histogram",
         "x": [
          297
         ],
         "xaxis": "x",
         "yaxis": "y"
        },
        {
         "alignmentgroup": "True",
         "bingroup": "x",
         "hovertemplate": "brand=Klikk<br>final_selling_price=%{x}<br>count=%{y}<extra></extra>",
         "legendgroup": "Klikk",
         "marker": {
          "color": "rgb(76,114,176)",
          "pattern": {
           "shape": ""
          }
         },
         "name": "Klikk",
         "nbinsx": 10,
         "offsetgroup": "Klikk",
         "orientation": "v",
         "showlegend": true,
         "type": "histogram",
         "x": [
          789
         ],
         "xaxis": "x",
         "yaxis": "y"
        },
        {
         "alignmentgroup": "True",
         "bingroup": "x",
         "hovertemplate": "brand=HR<br>final_selling_price=%{x}<br>count=%{y}<extra></extra>",
         "legendgroup": "HR",
         "marker": {
          "color": "rgb(221,132,82)",
          "pattern": {
           "shape": ""
          }
         },
         "name": "HR",
         "nbinsx": 10,
         "offsetgroup": "HR",
         "orientation": "v",
         "showlegend": true,
         "type": "histogram",
         "x": [
          564
         ],
         "xaxis": "x",
         "yaxis": "y"
        },
        {
         "alignmentgroup": "True",
         "bingroup": "x",
         "hovertemplate": "brand=Envent<br>final_selling_price=%{x}<br>count=%{y}<extra></extra>",
         "legendgroup": "Envent",
         "marker": {
          "color": "rgb(85,168,104)",
          "pattern": {
           "shape": ""
          }
         },
         "name": "Envent",
         "nbinsx": 10,
         "offsetgroup": "Envent",
         "orientation": "v",
         "showlegend": true,
         "type": "histogram",
         "x": [
          699
         ],
         "xaxis": "x",
         "yaxis": "y"
        },
        {
         "alignmentgroup": "True",
         "bingroup": "x",
         "hovertemplate": "brand=Bxeno<br>final_selling_price=%{x}<br>count=%{y}<extra></extra>",
         "legendgroup": "Bxeno",
         "marker": {
          "color": "rgb(196,78,82)",
          "pattern": {
           "shape": ""
          }
         },
         "name": "Bxeno",
         "nbinsx": 10,
         "offsetgroup": "Bxeno",
         "orientation": "v",
         "showlegend": true,
         "type": "histogram",
         "x": [
          439,
          439
         ],
         "xaxis": "x",
         "yaxis": "y"
        },
        {
         "alignmentgroup": "True",
         "bingroup": "x",
         "hovertemplate": "brand=Mi<br>final_selling_price=%{x}<br>count=%{y}<extra></extra>",
         "legendgroup": "Mi",
         "marker": {
          "color": "rgb(129,114,179)",
          "pattern": {
           "shape": ""
          }
         },
         "name": "Mi",
         "nbinsx": 10,
         "offsetgroup": "Mi",
         "orientation": "v",
         "showlegend": true,
         "type": "histogram",
         "x": [
          499,
          499
         ],
         "xaxis": "x",
         "yaxis": "y"
        },
        {
         "alignmentgroup": "True",
         "bingroup": "x",
         "hovertemplate": "brand=tutus<br>final_selling_price=%{x}<br>count=%{y}<extra></extra>",
         "legendgroup": "tutus",
         "marker": {
          "color": "rgb(147,120,96)",
          "pattern": {
           "shape": ""
          }
         },
         "name": "tutus",
         "nbinsx": 10,
         "offsetgroup": "tutus",
         "orientation": "v",
         "showlegend": true,
         "type": "histogram",
         "x": [
          659
         ],
         "xaxis": "x",
         "yaxis": "y"
        },
        {
         "alignmentgroup": "True",
         "bingroup": "x",
         "hovertemplate": "brand=SpinBot<br>final_selling_price=%{x}<br>count=%{y}<extra></extra>",
         "legendgroup": "SpinBot",
         "marker": {
          "color": "rgb(218,139,195)",
          "pattern": {
           "shape": ""
          }
         },
         "name": "SpinBot",
         "nbinsx": 10,
         "offsetgroup": "SpinBot",
         "orientation": "v",
         "showlegend": true,
         "type": "histogram",
         "x": [
          756,
          632,
          651
         ],
         "xaxis": "x",
         "yaxis": "y"
        },
        {
         "alignmentgroup": "True",
         "bingroup": "x",
         "hovertemplate": "brand=Inext<br>final_selling_price=%{x}<br>count=%{y}<extra></extra>",
         "legendgroup": "Inext",
         "marker": {
          "color": "rgb(140,140,140)",
          "pattern": {
           "shape": ""
          }
         },
         "name": "Inext",
         "nbinsx": 10,
         "offsetgroup": "Inext",
         "orientation": "v",
         "showlegend": true,
         "type": "histogram",
         "x": [
          2499
         ],
         "xaxis": "x",
         "yaxis": "y"
        },
        {
         "alignmentgroup": "True",
         "bingroup": "x",
         "hovertemplate": "brand=electmart<br>final_selling_price=%{x}<br>count=%{y}<extra></extra>",
         "legendgroup": "electmart",
         "marker": {
          "color": "rgb(204,185,116)",
          "pattern": {
           "shape": ""
          }
         },
         "name": "electmart",
         "nbinsx": 10,
         "offsetgroup": "electmart",
         "orientation": "v",
         "showlegend": true,
         "type": "histogram",
         "x": [
          325,
          348
         ],
         "xaxis": "x",
         "yaxis": "y"
        },
        {
         "alignmentgroup": "True",
         "bingroup": "x",
         "hovertemplate": "brand=3BAAN<br>final_selling_price=%{x}<br>count=%{y}<extra></extra>",
         "legendgroup": "3BAAN",
         "marker": {
          "color": "rgb(100,181,205)",
          "pattern": {
           "shape": ""
          }
         },
         "name": "3BAAN",
         "nbinsx": 10,
         "offsetgroup": "3BAAN",
         "orientation": "v",
         "showlegend": true,
         "type": "histogram",
         "x": [
          424,
          424
         ],
         "xaxis": "x",
         "yaxis": "y"
        },
        {
         "alignmentgroup": "True",
         "bingroup": "x",
         "hovertemplate": "brand=haiidra<br>final_selling_price=%{x}<br>count=%{y}<extra></extra>",
         "legendgroup": "haiidra",
         "marker": {
          "color": "rgb(76,114,176)",
          "pattern": {
           "shape": ""
          }
         },
         "name": "haiidra",
         "nbinsx": 10,
         "offsetgroup": "haiidra",
         "orientation": "v",
         "showlegend": true,
         "type": "histogram",
         "x": [
          399
         ],
         "xaxis": "x",
         "yaxis": "y"
        },
        {
         "alignmentgroup": "True",
         "bingroup": "x",
         "hovertemplate": "brand=YTLP<br>final_selling_price=%{x}<br>count=%{y}<extra></extra>",
         "legendgroup": "YTLP",
         "marker": {
          "color": "rgb(221,132,82)",
          "pattern": {
           "shape": ""
          }
         },
         "name": "YTLP",
         "nbinsx": 10,
         "offsetgroup": "YTLP",
         "orientation": "v",
         "showlegend": true,
         "type": "histogram",
         "x": [
          246
         ],
         "xaxis": "x",
         "yaxis": "y"
        },
        {
         "alignmentgroup": "True",
         "bingroup": "x",
         "hovertemplate": "brand=Cellecor<br>final_selling_price=%{x}<br>count=%{y}<extra></extra>",
         "legendgroup": "Cellecor",
         "marker": {
          "color": "rgb(85,168,104)",
          "pattern": {
           "shape": ""
          }
         },
         "name": "Cellecor",
         "nbinsx": 10,
         "offsetgroup": "Cellecor",
         "orientation": "v",
         "showlegend": true,
         "type": "histogram",
         "x": [
          548
         ],
         "xaxis": "x",
         "yaxis": "y"
        },
        {
         "alignmentgroup": "True",
         "bingroup": "x",
         "hovertemplate": "brand=SAMSUNG<br>final_selling_price=%{x}<br>count=%{y}<extra></extra>",
         "legendgroup": "SAMSUNG",
         "marker": {
          "color": "rgb(196,78,82)",
          "pattern": {
           "shape": ""
          }
         },
         "name": "SAMSUNG",
         "nbinsx": 10,
         "offsetgroup": "SAMSUNG",
         "orientation": "v",
         "showlegend": true,
         "type": "histogram",
         "x": [
          1949
         ],
         "xaxis": "x",
         "yaxis": "y"
        },
        {
         "alignmentgroup": "True",
         "bingroup": "x",
         "hovertemplate": "brand=Kworld<br>final_selling_price=%{x}<br>count=%{y}<extra></extra>",
         "legendgroup": "Kworld",
         "marker": {
          "color": "rgb(129,114,179)",
          "pattern": {
           "shape": ""
          }
         },
         "name": "Kworld",
         "nbinsx": 10,
         "offsetgroup": "Kworld",
         "orientation": "v",
         "showlegend": true,
         "type": "histogram",
         "x": [
          1401,
          1399
         ],
         "xaxis": "x",
         "yaxis": "y"
        },
        {
         "alignmentgroup": "True",
         "bingroup": "x",
         "hovertemplate": "brand=SharpDart<br>final_selling_price=%{x}<br>count=%{y}<extra></extra>",
         "legendgroup": "SharpDart",
         "marker": {
          "color": "rgb(147,120,96)",
          "pattern": {
           "shape": ""
          }
         },
         "name": "SharpDart",
         "nbinsx": 10,
         "offsetgroup": "SharpDart",
         "orientation": "v",
         "showlegend": true,
         "type": "histogram",
         "x": [
          224,
          224
         ],
         "xaxis": "x",
         "yaxis": "y"
        },
        {
         "alignmentgroup": "True",
         "bingroup": "x",
         "hovertemplate": "brand=Optima<br>final_selling_price=%{x}<br>count=%{y}<extra></extra>",
         "legendgroup": "Optima",
         "marker": {
          "color": "rgb(218,139,195)",
          "pattern": {
           "shape": ""
          }
         },
         "name": "Optima",
         "nbinsx": 10,
         "offsetgroup": "Optima",
         "orientation": "v",
         "showlegend": true,
         "type": "histogram",
         "x": [
          308
         ],
         "xaxis": "x",
         "yaxis": "y"
        },
        {
         "alignmentgroup": "True",
         "bingroup": "x",
         "hovertemplate": "brand=ATARC<br>final_selling_price=%{x}<br>count=%{y}<extra></extra>",
         "legendgroup": "ATARC",
         "marker": {
          "color": "rgb(140,140,140)",
          "pattern": {
           "shape": ""
          }
         },
         "name": "ATARC",
         "nbinsx": 10,
         "offsetgroup": "ATARC",
         "orientation": "v",
         "showlegend": true,
         "type": "histogram",
         "x": [
          489
         ],
         "xaxis": "x",
         "yaxis": "y"
        },
        {
         "alignmentgroup": "True",
         "bingroup": "x",
         "hovertemplate": "brand=Royalrich<br>final_selling_price=%{x}<br>count=%{y}<extra></extra>",
         "legendgroup": "Royalrich",
         "marker": {
          "color": "rgb(204,185,116)",
          "pattern": {
           "shape": ""
          }
         },
         "name": "Royalrich",
         "nbinsx": 10,
         "offsetgroup": "Royalrich",
         "orientation": "v",
         "showlegend": true,
         "type": "histogram",
         "x": [
          512
         ],
         "xaxis": "x",
         "yaxis": "y"
        },
        {
         "alignmentgroup": "True",
         "bingroup": "x",
         "hovertemplate": "brand=GENTLEMOB<br>final_selling_price=%{x}<br>count=%{y}<extra></extra>",
         "legendgroup": "GENTLEMOB",
         "marker": {
          "color": "rgb(100,181,205)",
          "pattern": {
           "shape": ""
          }
         },
         "name": "GENTLEMOB",
         "nbinsx": 10,
         "offsetgroup": "GENTLEMOB",
         "orientation": "v",
         "showlegend": true,
         "type": "histogram",
         "x": [
          473
         ],
         "xaxis": "x",
         "yaxis": "y"
        },
        {
         "alignmentgroup": "True",
         "bingroup": "x",
         "hovertemplate": "brand=The<br>final_selling_price=%{x}<br>count=%{y}<extra></extra>",
         "legendgroup": "The",
         "marker": {
          "color": "rgb(76,114,176)",
          "pattern": {
           "shape": ""
          }
         },
         "name": "The",
         "nbinsx": 10,
         "offsetgroup": "The",
         "orientation": "v",
         "showlegend": true,
         "type": "histogram",
         "x": [
          349
         ],
         "xaxis": "x",
         "yaxis": "y"
        },
        {
         "alignmentgroup": "True",
         "bingroup": "x",
         "hovertemplate": "brand=Khatusha<br>final_selling_price=%{x}<br>count=%{y}<extra></extra>",
         "legendgroup": "Khatusha",
         "marker": {
          "color": "rgb(221,132,82)",
          "pattern": {
           "shape": ""
          }
         },
         "name": "Khatusha",
         "nbinsx": 10,
         "offsetgroup": "Khatusha",
         "orientation": "v",
         "showlegend": true,
         "type": "histogram",
         "x": [
          435
         ],
         "xaxis": "x",
         "yaxis": "y"
        },
        {
         "alignmentgroup": "True",
         "bingroup": "x",
         "hovertemplate": "brand=Elver<br>final_selling_price=%{x}<br>count=%{y}<extra></extra>",
         "legendgroup": "Elver",
         "marker": {
          "color": "rgb(85,168,104)",
          "pattern": {
           "shape": ""
          }
         },
         "name": "Elver",
         "nbinsx": 10,
         "offsetgroup": "Elver",
         "orientation": "v",
         "showlegend": true,
         "type": "histogram",
         "x": [
          1349,
          1529
         ],
         "xaxis": "x",
         "yaxis": "y"
        },
        {
         "alignmentgroup": "True",
         "bingroup": "x",
         "hovertemplate": "brand=Google<br>final_selling_price=%{x}<br>count=%{y}<extra></extra>",
         "legendgroup": "Google",
         "marker": {
          "color": "rgb(196,78,82)",
          "pattern": {
           "shape": ""
          }
         },
         "name": "Google",
         "nbinsx": 10,
         "offsetgroup": "Google",
         "orientation": "v",
         "showlegend": true,
         "type": "histogram",
         "x": [
          4999,
          9999
         ],
         "xaxis": "x",
         "yaxis": "y"
        },
        {
         "alignmentgroup": "True",
         "bingroup": "x",
         "hovertemplate": "brand=ORAIMO<br>final_selling_price=%{x}<br>count=%{y}<extra></extra>",
         "legendgroup": "ORAIMO",
         "marker": {
          "color": "rgb(129,114,179)",
          "pattern": {
           "shape": ""
          }
         },
         "name": "ORAIMO",
         "nbinsx": 10,
         "offsetgroup": "ORAIMO",
         "orientation": "v",
         "showlegend": true,
         "type": "histogram",
         "x": [
          999,
          999
         ],
         "xaxis": "x",
         "yaxis": "y"
        },
        {
         "alignmentgroup": "True",
         "bingroup": "x",
         "hovertemplate": "brand=SHANOK<br>final_selling_price=%{x}<br>count=%{y}<extra></extra>",
         "legendgroup": "SHANOK",
         "marker": {
          "color": "rgb(147,120,96)",
          "pattern": {
           "shape": ""
          }
         },
         "name": "SHANOK",
         "nbinsx": 10,
         "offsetgroup": "SHANOK",
         "orientation": "v",
         "showlegend": true,
         "type": "histogram",
         "x": [
          233
         ],
         "xaxis": "x",
         "yaxis": "y"
        },
        {
         "alignmentgroup": "True",
         "bingroup": "x",
         "hovertemplate": "brand=Alchiko<br>final_selling_price=%{x}<br>count=%{y}<extra></extra>",
         "legendgroup": "Alchiko",
         "marker": {
          "color": "rgb(218,139,195)",
          "pattern": {
           "shape": ""
          }
         },
         "name": "Alchiko",
         "nbinsx": 10,
         "offsetgroup": "Alchiko",
         "orientation": "v",
         "showlegend": true,
         "type": "histogram",
         "x": [
          299
         ],
         "xaxis": "x",
         "yaxis": "y"
        },
        {
         "alignmentgroup": "True",
         "bingroup": "x",
         "hovertemplate": "brand=SSVOCATIONPOINT<br>final_selling_price=%{x}<br>count=%{y}<extra></extra>",
         "legendgroup": "SSVOCATIONPOINT",
         "marker": {
          "color": "rgb(140,140,140)",
          "pattern": {
           "shape": ""
          }
         },
         "name": "SSVOCATIONPOINT",
         "nbinsx": 10,
         "offsetgroup": "SSVOCATIONPOINT",
         "orientation": "v",
         "showlegend": true,
         "type": "histogram",
         "x": [
          299
         ],
         "xaxis": "x",
         "yaxis": "y"
        },
        {
         "alignmentgroup": "True",
         "bingroup": "x",
         "hovertemplate": "brand=Gabbar<br>final_selling_price=%{x}<br>count=%{y}<extra></extra>",
         "legendgroup": "Gabbar",
         "marker": {
          "color": "rgb(204,185,116)",
          "pattern": {
           "shape": ""
          }
         },
         "name": "Gabbar",
         "nbinsx": 10,
         "offsetgroup": "Gabbar",
         "orientation": "v",
         "showlegend": true,
         "type": "histogram",
         "x": [
          365
         ],
         "xaxis": "x",
         "yaxis": "y"
        },
        {
         "alignmentgroup": "True",
         "bingroup": "x",
         "hovertemplate": "brand=ULTRADART<br>final_selling_price=%{x}<br>count=%{y}<extra></extra>",
         "legendgroup": "ULTRADART",
         "marker": {
          "color": "rgb(100,181,205)",
          "pattern": {
           "shape": ""
          }
         },
         "name": "ULTRADART",
         "nbinsx": 10,
         "offsetgroup": "ULTRADART",
         "orientation": "v",
         "showlegend": true,
         "type": "histogram",
         "x": [
          218
         ],
         "xaxis": "x",
         "yaxis": "y"
        },
        {
         "alignmentgroup": "True",
         "bingroup": "x",
         "hovertemplate": "brand=DEFY<br>final_selling_price=%{x}<br>count=%{y}<extra></extra>",
         "legendgroup": "DEFY",
         "marker": {
          "color": "rgb(76,114,176)",
          "pattern": {
           "shape": ""
          }
         },
         "name": "DEFY",
         "nbinsx": 10,
         "offsetgroup": "DEFY",
         "orientation": "v",
         "showlegend": true,
         "type": "histogram",
         "x": [
          699
         ],
         "xaxis": "x",
         "yaxis": "y"
        },
        {
         "alignmentgroup": "True",
         "bingroup": "x",
         "hovertemplate": "brand=NYC<br>final_selling_price=%{x}<br>count=%{y}<extra></extra>",
         "legendgroup": "NYC",
         "marker": {
          "color": "rgb(221,132,82)",
          "pattern": {
           "shape": ""
          }
         },
         "name": "NYC",
         "nbinsx": 10,
         "offsetgroup": "NYC",
         "orientation": "v",
         "showlegend": true,
         "type": "histogram",
         "x": [
          199
         ],
         "xaxis": "x",
         "yaxis": "y"
        },
        {
         "alignmentgroup": "True",
         "bingroup": "x",
         "hovertemplate": "brand=jpTron<br>final_selling_price=%{x}<br>count=%{y}<extra></extra>",
         "legendgroup": "jpTron",
         "marker": {
          "color": "rgb(85,168,104)",
          "pattern": {
           "shape": ""
          }
         },
         "name": "jpTron",
         "nbinsx": 10,
         "offsetgroup": "jpTron",
         "orientation": "v",
         "showlegend": true,
         "type": "histogram",
         "x": [
          221
         ],
         "xaxis": "x",
         "yaxis": "y"
        },
        {
         "alignmentgroup": "True",
         "bingroup": "x",
         "hovertemplate": "brand=Unix<br>final_selling_price=%{x}<br>count=%{y}<extra></extra>",
         "legendgroup": "Unix",
         "marker": {
          "color": "rgb(196,78,82)",
          "pattern": {
           "shape": ""
          }
         },
         "name": "Unix",
         "nbinsx": 10,
         "offsetgroup": "Unix",
         "orientation": "v",
         "showlegend": true,
         "type": "histogram",
         "x": [
          299
         ],
         "xaxis": "x",
         "yaxis": "y"
        },
        {
         "alignmentgroup": "True",
         "bingroup": "x",
         "hovertemplate": "brand=retold<br>final_selling_price=%{x}<br>count=%{y}<extra></extra>",
         "legendgroup": "retold",
         "marker": {
          "color": "rgb(129,114,179)",
          "pattern": {
           "shape": ""
          }
         },
         "name": "retold",
         "nbinsx": 10,
         "offsetgroup": "retold",
         "orientation": "v",
         "showlegend": true,
         "type": "histogram",
         "x": [
          1424
         ],
         "xaxis": "x",
         "yaxis": "y"
        },
        {
         "alignmentgroup": "True",
         "bingroup": "x",
         "hovertemplate": "brand=NICK<br>final_selling_price=%{x}<br>count=%{y}<extra></extra>",
         "legendgroup": "NICK",
         "marker": {
          "color": "rgb(147,120,96)",
          "pattern": {
           "shape": ""
          }
         },
         "name": "NICK",
         "nbinsx": 10,
         "offsetgroup": "NICK",
         "orientation": "v",
         "showlegend": true,
         "type": "histogram",
         "x": [
          419,
          499
         ],
         "xaxis": "x",
         "yaxis": "y"
        },
        {
         "alignmentgroup": "True",
         "bingroup": "x",
         "hovertemplate": "brand=OSREEN<br>final_selling_price=%{x}<br>count=%{y}<extra></extra>",
         "legendgroup": "OSREEN",
         "marker": {
          "color": "rgb(218,139,195)",
          "pattern": {
           "shape": ""
          }
         },
         "name": "OSREEN",
         "nbinsx": 10,
         "offsetgroup": "OSREEN",
         "orientation": "v",
         "showlegend": true,
         "type": "histogram",
         "x": [
          230
         ],
         "xaxis": "x",
         "yaxis": "y"
        },
        {
         "alignmentgroup": "True",
         "bingroup": "x",
         "hovertemplate": "brand=Bullfrog<br>final_selling_price=%{x}<br>count=%{y}<extra></extra>",
         "legendgroup": "Bullfrog",
         "marker": {
          "color": "rgb(140,140,140)",
          "pattern": {
           "shape": ""
          }
         },
         "name": "Bullfrog",
         "nbinsx": 10,
         "offsetgroup": "Bullfrog",
         "orientation": "v",
         "showlegend": true,
         "type": "histogram",
         "x": [
          209
         ],
         "xaxis": "x",
         "yaxis": "y"
        },
        {
         "alignmentgroup": "True",
         "bingroup": "x",
         "hovertemplate": "brand=DRX<br>final_selling_price=%{x}<br>count=%{y}<extra></extra>",
         "legendgroup": "DRX",
         "marker": {
          "color": "rgb(204,185,116)",
          "pattern": {
           "shape": ""
          }
         },
         "name": "DRX",
         "nbinsx": 10,
         "offsetgroup": "DRX",
         "orientation": "v",
         "showlegend": true,
         "type": "histogram",
         "x": [
          409
         ],
         "xaxis": "x",
         "yaxis": "y"
        },
        {
         "alignmentgroup": "True",
         "bingroup": "x",
         "hovertemplate": "brand=AUDONIC<br>final_selling_price=%{x}<br>count=%{y}<extra></extra>",
         "legendgroup": "AUDONIC",
         "marker": {
          "color": "rgb(100,181,205)",
          "pattern": {
           "shape": ""
          }
         },
         "name": "AUDONIC",
         "nbinsx": 10,
         "offsetgroup": "AUDONIC",
         "orientation": "v",
         "showlegend": true,
         "type": "histogram",
         "x": [
          265
         ],
         "xaxis": "x",
         "yaxis": "y"
        },
        {
         "alignmentgroup": "True",
         "bingroup": "x",
         "hovertemplate": "brand=SPN<br>final_selling_price=%{x}<br>count=%{y}<extra></extra>",
         "legendgroup": "SPN",
         "marker": {
          "color": "rgb(76,114,176)",
          "pattern": {
           "shape": ""
          }
         },
         "name": "SPN",
         "nbinsx": 10,
         "offsetgroup": "SPN",
         "orientation": "v",
         "showlegend": true,
         "type": "histogram",
         "x": [
          459
         ],
         "xaxis": "x",
         "yaxis": "y"
        },
        {
         "alignmentgroup": "True",
         "bingroup": "x",
         "hovertemplate": "brand=OTAGO<br>final_selling_price=%{x}<br>count=%{y}<extra></extra>",
         "legendgroup": "OTAGO",
         "marker": {
          "color": "rgb(221,132,82)",
          "pattern": {
           "shape": ""
          }
         },
         "name": "OTAGO",
         "nbinsx": 10,
         "offsetgroup": "OTAGO",
         "orientation": "v",
         "showlegend": true,
         "type": "histogram",
         "x": [
          694
         ],
         "xaxis": "x",
         "yaxis": "y"
        },
        {
         "alignmentgroup": "True",
         "bingroup": "x",
         "hovertemplate": "brand=dead<br>final_selling_price=%{x}<br>count=%{y}<extra></extra>",
         "legendgroup": "dead",
         "marker": {
          "color": "rgb(85,168,104)",
          "pattern": {
           "shape": ""
          }
         },
         "name": "dead",
         "nbinsx": 10,
         "offsetgroup": "dead",
         "orientation": "v",
         "showlegend": true,
         "type": "histogram",
         "x": [
          498
         ],
         "xaxis": "x",
         "yaxis": "y"
        },
        {
         "alignmentgroup": "True",
         "bingroup": "x",
         "hovertemplate": "brand=FRONY<br>final_selling_price=%{x}<br>count=%{y}<extra></extra>",
         "legendgroup": "FRONY",
         "marker": {
          "color": "rgb(196,78,82)",
          "pattern": {
           "shape": ""
          }
         },
         "name": "FRONY",
         "nbinsx": 10,
         "offsetgroup": "FRONY",
         "orientation": "v",
         "showlegend": true,
         "type": "histogram",
         "x": [
          449
         ],
         "xaxis": "x",
         "yaxis": "y"
        },
        {
         "alignmentgroup": "True",
         "bingroup": "x",
         "hovertemplate": "brand=Landmark<br>final_selling_price=%{x}<br>count=%{y}<extra></extra>",
         "legendgroup": "Landmark",
         "marker": {
          "color": "rgb(129,114,179)",
          "pattern": {
           "shape": ""
          }
         },
         "name": "Landmark",
         "nbinsx": 10,
         "offsetgroup": "Landmark",
         "orientation": "v",
         "showlegend": true,
         "type": "histogram",
         "x": [
          1299
         ],
         "xaxis": "x",
         "yaxis": "y"
        },
        {
         "alignmentgroup": "True",
         "bingroup": "x",
         "hovertemplate": "brand=Ziddjeet<br>final_selling_price=%{x}<br>count=%{y}<extra></extra>",
         "legendgroup": "Ziddjeet",
         "marker": {
          "color": "rgb(147,120,96)",
          "pattern": {
           "shape": ""
          }
         },
         "name": "Ziddjeet",
         "nbinsx": 10,
         "offsetgroup": "Ziddjeet",
         "orientation": "v",
         "showlegend": true,
         "type": "histogram",
         "x": [
          439
         ],
         "xaxis": "x",
         "yaxis": "y"
        },
        {
         "alignmentgroup": "True",
         "bingroup": "x",
         "hovertemplate": "brand=Wifton<br>final_selling_price=%{x}<br>count=%{y}<extra></extra>",
         "legendgroup": "Wifton",
         "marker": {
          "color": "rgb(218,139,195)",
          "pattern": {
           "shape": ""
          }
         },
         "name": "Wifton",
         "nbinsx": 10,
         "offsetgroup": "Wifton",
         "orientation": "v",
         "showlegend": true,
         "type": "histogram",
         "x": [
          512
         ],
         "xaxis": "x",
         "yaxis": "y"
        },
        {
         "alignmentgroup": "True",
         "bingroup": "x",
         "hovertemplate": "brand=Ambitlink<br>final_selling_price=%{x}<br>count=%{y}<extra></extra>",
         "legendgroup": "Ambitlink",
         "marker": {
          "color": "rgb(140,140,140)",
          "pattern": {
           "shape": ""
          }
         },
         "name": "Ambitlink",
         "nbinsx": 10,
         "offsetgroup": "Ambitlink",
         "orientation": "v",
         "showlegend": true,
         "type": "histogram",
         "x": [
          494
         ],
         "xaxis": "x",
         "yaxis": "y"
        },
        {
         "alignmentgroup": "True",
         "bingroup": "x",
         "hovertemplate": "brand=Chronorex<br>final_selling_price=%{x}<br>count=%{y}<extra></extra>",
         "legendgroup": "Chronorex",
         "marker": {
          "color": "rgb(204,185,116)",
          "pattern": {
           "shape": ""
          }
         },
         "name": "Chronorex",
         "nbinsx": 10,
         "offsetgroup": "Chronorex",
         "orientation": "v",
         "showlegend": true,
         "type": "histogram",
         "x": [
          350
         ],
         "xaxis": "x",
         "yaxis": "y"
        },
        {
         "alignmentgroup": "True",
         "bingroup": "x",
         "hovertemplate": "brand=Ubon<br>final_selling_price=%{x}<br>count=%{y}<extra></extra>",
         "legendgroup": "Ubon",
         "marker": {
          "color": "rgb(100,181,205)",
          "pattern": {
           "shape": ""
          }
         },
         "name": "Ubon",
         "nbinsx": 10,
         "offsetgroup": "Ubon",
         "orientation": "v",
         "showlegend": true,
         "type": "histogram",
         "x": [
          241
         ],
         "xaxis": "x",
         "yaxis": "y"
        },
        {
         "alignmentgroup": "True",
         "bingroup": "x",
         "hovertemplate": "brand=CHARMWOOD<br>final_selling_price=%{x}<br>count=%{y}<extra></extra>",
         "legendgroup": "CHARMWOOD",
         "marker": {
          "color": "rgb(76,114,176)",
          "pattern": {
           "shape": ""
          }
         },
         "name": "CHARMWOOD",
         "nbinsx": 10,
         "offsetgroup": "CHARMWOOD",
         "orientation": "v",
         "showlegend": true,
         "type": "histogram",
         "x": [
          299
         ],
         "xaxis": "x",
         "yaxis": "y"
        },
        {
         "alignmentgroup": "True",
         "bingroup": "x",
         "hovertemplate": "brand=ZWOLLEX<br>final_selling_price=%{x}<br>count=%{y}<extra></extra>",
         "legendgroup": "ZWOLLEX",
         "marker": {
          "color": "rgb(221,132,82)",
          "pattern": {
           "shape": ""
          }
         },
         "name": "ZWOLLEX",
         "nbinsx": 10,
         "offsetgroup": "ZWOLLEX",
         "orientation": "v",
         "showlegend": true,
         "type": "histogram",
         "x": [
          289
         ],
         "xaxis": "x",
         "yaxis": "y"
        },
        {
         "alignmentgroup": "True",
         "bingroup": "x",
         "hovertemplate": "brand=Happy<br>final_selling_price=%{x}<br>count=%{y}<extra></extra>",
         "legendgroup": "Happy",
         "marker": {
          "color": "rgb(85,168,104)",
          "pattern": {
           "shape": ""
          }
         },
         "name": "Happy",
         "nbinsx": 10,
         "offsetgroup": "Happy",
         "orientation": "v",
         "showlegend": true,
         "type": "histogram",
         "x": [
          689
         ],
         "xaxis": "x",
         "yaxis": "y"
        },
        {
         "alignmentgroup": "True",
         "bingroup": "x",
         "hovertemplate": "brand=SNOKOR<br>final_selling_price=%{x}<br>count=%{y}<extra></extra>",
         "legendgroup": "SNOKOR",
         "marker": {
          "color": "rgb(196,78,82)",
          "pattern": {
           "shape": ""
          }
         },
         "name": "SNOKOR",
         "nbinsx": 10,
         "offsetgroup": "SNOKOR",
         "orientation": "v",
         "showlegend": true,
         "type": "histogram",
         "x": [
          399
         ],
         "xaxis": "x",
         "yaxis": "y"
        },
        {
         "alignmentgroup": "True",
         "bingroup": "x",
         "hovertemplate": "brand=Kiwi<br>final_selling_price=%{x}<br>count=%{y}<extra></extra>",
         "legendgroup": "Kiwi",
         "marker": {
          "color": "rgb(129,114,179)",
          "pattern": {
           "shape": ""
          }
         },
         "name": "Kiwi",
         "nbinsx": 10,
         "offsetgroup": "Kiwi",
         "orientation": "v",
         "showlegend": true,
         "type": "histogram",
         "x": [
          585
         ],
         "xaxis": "x",
         "yaxis": "y"
        },
        {
         "alignmentgroup": "True",
         "bingroup": "x",
         "hovertemplate": "brand=Hitage<br>final_selling_price=%{x}<br>count=%{y}<extra></extra>",
         "legendgroup": "Hitage",
         "marker": {
          "color": "rgb(147,120,96)",
          "pattern": {
           "shape": ""
          }
         },
         "name": "Hitage",
         "nbinsx": 10,
         "offsetgroup": "Hitage",
         "orientation": "v",
         "showlegend": true,
         "type": "histogram",
         "x": [
          399
         ],
         "xaxis": "x",
         "yaxis": "y"
        },
        {
         "alignmentgroup": "True",
         "bingroup": "x",
         "hovertemplate": "brand=ASUS<br>final_selling_price=%{x}<br>count=%{y}<extra></extra>",
         "legendgroup": "ASUS",
         "marker": {
          "color": "rgb(218,139,195)",
          "pattern": {
           "shape": ""
          }
         },
         "name": "ASUS",
         "nbinsx": 10,
         "offsetgroup": "ASUS",
         "orientation": "v",
         "showlegend": true,
         "type": "histogram",
         "x": [
          8299
         ],
         "xaxis": "x",
         "yaxis": "y"
        }
       ],
       "layout": {
        "barmode": "relative",
        "height": 800,
        "legend": {
         "title": {
          "text": "brand"
         },
         "tracegroupgap": 0
        },
        "template": {
         "data": {
          "bar": [
           {
            "error_x": {
             "color": "rgb(36,36,36)"
            },
            "error_y": {
             "color": "rgb(36,36,36)"
            },
            "marker": {
             "line": {
              "color": "rgb(234,234,242)",
              "width": 0.5
             },
             "pattern": {
              "fillmode": "overlay",
              "size": 10,
              "solidity": 0.2
             }
            },
            "type": "bar"
           }
          ],
          "barpolar": [
           {
            "marker": {
             "line": {
              "color": "rgb(234,234,242)",
              "width": 0.5
             },
             "pattern": {
              "fillmode": "overlay",
              "size": 10,
              "solidity": 0.2
             }
            },
            "type": "barpolar"
           }
          ],
          "carpet": [
           {
            "aaxis": {
             "endlinecolor": "rgb(36,36,36)",
             "gridcolor": "white",
             "linecolor": "white",
             "minorgridcolor": "white",
             "startlinecolor": "rgb(36,36,36)"
            },
            "baxis": {
             "endlinecolor": "rgb(36,36,36)",
             "gridcolor": "white",
             "linecolor": "white",
             "minorgridcolor": "white",
             "startlinecolor": "rgb(36,36,36)"
            },
            "type": "carpet"
           }
          ],
          "choropleth": [
           {
            "colorbar": {
             "outlinewidth": 0,
             "tickcolor": "rgb(36,36,36)",
             "ticklen": 8,
             "ticks": "outside",
             "tickwidth": 2
            },
            "type": "choropleth"
           }
          ],
          "contour": [
           {
            "colorbar": {
             "outlinewidth": 0,
             "tickcolor": "rgb(36,36,36)",
             "ticklen": 8,
             "ticks": "outside",
             "tickwidth": 2
            },
            "colorscale": [
             [
              0,
              "rgb(2,4,25)"
             ],
             [
              0.06274509803921569,
              "rgb(24,15,41)"
             ],
             [
              0.12549019607843137,
              "rgb(47,23,57)"
             ],
             [
              0.18823529411764706,
              "rgb(71,28,72)"
             ],
             [
              0.25098039215686274,
              "rgb(97,30,82)"
             ],
             [
              0.3137254901960784,
              "rgb(123,30,89)"
             ],
             [
              0.3764705882352941,
              "rgb(150,27,91)"
             ],
             [
              0.4392156862745098,
              "rgb(177,22,88)"
             ],
             [
              0.5019607843137255,
              "rgb(203,26,79)"
             ],
             [
              0.5647058823529412,
              "rgb(223,47,67)"
             ],
             [
              0.6274509803921569,
              "rgb(236,76,61)"
             ],
             [
              0.6901960784313725,
              "rgb(242,107,73)"
             ],
             [
              0.7529411764705882,
              "rgb(244,135,95)"
             ],
             [
              0.8156862745098039,
              "rgb(245,162,122)"
             ],
             [
              0.8784313725490196,
              "rgb(246,188,153)"
             ],
             [
              0.9411764705882353,
              "rgb(247,212,187)"
             ],
             [
              1,
              "rgb(250,234,220)"
             ]
            ],
            "type": "contour"
           }
          ],
          "contourcarpet": [
           {
            "colorbar": {
             "outlinewidth": 0,
             "tickcolor": "rgb(36,36,36)",
             "ticklen": 8,
             "ticks": "outside",
             "tickwidth": 2
            },
            "type": "contourcarpet"
           }
          ],
          "heatmap": [
           {
            "colorbar": {
             "outlinewidth": 0,
             "tickcolor": "rgb(36,36,36)",
             "ticklen": 8,
             "ticks": "outside",
             "tickwidth": 2
            },
            "colorscale": [
             [
              0,
              "rgb(2,4,25)"
             ],
             [
              0.06274509803921569,
              "rgb(24,15,41)"
             ],
             [
              0.12549019607843137,
              "rgb(47,23,57)"
             ],
             [
              0.18823529411764706,
              "rgb(71,28,72)"
             ],
             [
              0.25098039215686274,
              "rgb(97,30,82)"
             ],
             [
              0.3137254901960784,
              "rgb(123,30,89)"
             ],
             [
              0.3764705882352941,
              "rgb(150,27,91)"
             ],
             [
              0.4392156862745098,
              "rgb(177,22,88)"
             ],
             [
              0.5019607843137255,
              "rgb(203,26,79)"
             ],
             [
              0.5647058823529412,
              "rgb(223,47,67)"
             ],
             [
              0.6274509803921569,
              "rgb(236,76,61)"
             ],
             [
              0.6901960784313725,
              "rgb(242,107,73)"
             ],
             [
              0.7529411764705882,
              "rgb(244,135,95)"
             ],
             [
              0.8156862745098039,
              "rgb(245,162,122)"
             ],
             [
              0.8784313725490196,
              "rgb(246,188,153)"
             ],
             [
              0.9411764705882353,
              "rgb(247,212,187)"
             ],
             [
              1,
              "rgb(250,234,220)"
             ]
            ],
            "type": "heatmap"
           }
          ],
          "heatmapgl": [
           {
            "colorbar": {
             "outlinewidth": 0,
             "tickcolor": "rgb(36,36,36)",
             "ticklen": 8,
             "ticks": "outside",
             "tickwidth": 2
            },
            "colorscale": [
             [
              0,
              "rgb(2,4,25)"
             ],
             [
              0.06274509803921569,
              "rgb(24,15,41)"
             ],
             [
              0.12549019607843137,
              "rgb(47,23,57)"
             ],
             [
              0.18823529411764706,
              "rgb(71,28,72)"
             ],
             [
              0.25098039215686274,
              "rgb(97,30,82)"
             ],
             [
              0.3137254901960784,
              "rgb(123,30,89)"
             ],
             [
              0.3764705882352941,
              "rgb(150,27,91)"
             ],
             [
              0.4392156862745098,
              "rgb(177,22,88)"
             ],
             [
              0.5019607843137255,
              "rgb(203,26,79)"
             ],
             [
              0.5647058823529412,
              "rgb(223,47,67)"
             ],
             [
              0.6274509803921569,
              "rgb(236,76,61)"
             ],
             [
              0.6901960784313725,
              "rgb(242,107,73)"
             ],
             [
              0.7529411764705882,
              "rgb(244,135,95)"
             ],
             [
              0.8156862745098039,
              "rgb(245,162,122)"
             ],
             [
              0.8784313725490196,
              "rgb(246,188,153)"
             ],
             [
              0.9411764705882353,
              "rgb(247,212,187)"
             ],
             [
              1,
              "rgb(250,234,220)"
             ]
            ],
            "type": "heatmapgl"
           }
          ],
          "histogram": [
           {
            "marker": {
             "pattern": {
              "fillmode": "overlay",
              "size": 10,
              "solidity": 0.2
             }
            },
            "type": "histogram"
           }
          ],
          "histogram2d": [
           {
            "colorbar": {
             "outlinewidth": 0,
             "tickcolor": "rgb(36,36,36)",
             "ticklen": 8,
             "ticks": "outside",
             "tickwidth": 2
            },
            "colorscale": [
             [
              0,
              "rgb(2,4,25)"
             ],
             [
              0.06274509803921569,
              "rgb(24,15,41)"
             ],
             [
              0.12549019607843137,
              "rgb(47,23,57)"
             ],
             [
              0.18823529411764706,
              "rgb(71,28,72)"
             ],
             [
              0.25098039215686274,
              "rgb(97,30,82)"
             ],
             [
              0.3137254901960784,
              "rgb(123,30,89)"
             ],
             [
              0.3764705882352941,
              "rgb(150,27,91)"
             ],
             [
              0.4392156862745098,
              "rgb(177,22,88)"
             ],
             [
              0.5019607843137255,
              "rgb(203,26,79)"
             ],
             [
              0.5647058823529412,
              "rgb(223,47,67)"
             ],
             [
              0.6274509803921569,
              "rgb(236,76,61)"
             ],
             [
              0.6901960784313725,
              "rgb(242,107,73)"
             ],
             [
              0.7529411764705882,
              "rgb(244,135,95)"
             ],
             [
              0.8156862745098039,
              "rgb(245,162,122)"
             ],
             [
              0.8784313725490196,
              "rgb(246,188,153)"
             ],
             [
              0.9411764705882353,
              "rgb(247,212,187)"
             ],
             [
              1,
              "rgb(250,234,220)"
             ]
            ],
            "type": "histogram2d"
           }
          ],
          "histogram2dcontour": [
           {
            "colorbar": {
             "outlinewidth": 0,
             "tickcolor": "rgb(36,36,36)",
             "ticklen": 8,
             "ticks": "outside",
             "tickwidth": 2
            },
            "colorscale": [
             [
              0,
              "rgb(2,4,25)"
             ],
             [
              0.06274509803921569,
              "rgb(24,15,41)"
             ],
             [
              0.12549019607843137,
              "rgb(47,23,57)"
             ],
             [
              0.18823529411764706,
              "rgb(71,28,72)"
             ],
             [
              0.25098039215686274,
              "rgb(97,30,82)"
             ],
             [
              0.3137254901960784,
              "rgb(123,30,89)"
             ],
             [
              0.3764705882352941,
              "rgb(150,27,91)"
             ],
             [
              0.4392156862745098,
              "rgb(177,22,88)"
             ],
             [
              0.5019607843137255,
              "rgb(203,26,79)"
             ],
             [
              0.5647058823529412,
              "rgb(223,47,67)"
             ],
             [
              0.6274509803921569,
              "rgb(236,76,61)"
             ],
             [
              0.6901960784313725,
              "rgb(242,107,73)"
             ],
             [
              0.7529411764705882,
              "rgb(244,135,95)"
             ],
             [
              0.8156862745098039,
              "rgb(245,162,122)"
             ],
             [
              0.8784313725490196,
              "rgb(246,188,153)"
             ],
             [
              0.9411764705882353,
              "rgb(247,212,187)"
             ],
             [
              1,
              "rgb(250,234,220)"
             ]
            ],
            "type": "histogram2dcontour"
           }
          ],
          "mesh3d": [
           {
            "colorbar": {
             "outlinewidth": 0,
             "tickcolor": "rgb(36,36,36)",
             "ticklen": 8,
             "ticks": "outside",
             "tickwidth": 2
            },
            "type": "mesh3d"
           }
          ],
          "parcoords": [
           {
            "line": {
             "colorbar": {
              "outlinewidth": 0,
              "tickcolor": "rgb(36,36,36)",
              "ticklen": 8,
              "ticks": "outside",
              "tickwidth": 2
             }
            },
            "type": "parcoords"
           }
          ],
          "pie": [
           {
            "automargin": true,
            "type": "pie"
           }
          ],
          "scatter": [
           {
            "fillpattern": {
             "fillmode": "overlay",
             "size": 10,
             "solidity": 0.2
            },
            "type": "scatter"
           }
          ],
          "scatter3d": [
           {
            "line": {
             "colorbar": {
              "outlinewidth": 0,
              "tickcolor": "rgb(36,36,36)",
              "ticklen": 8,
              "ticks": "outside",
              "tickwidth": 2
             }
            },
            "marker": {
             "colorbar": {
              "outlinewidth": 0,
              "tickcolor": "rgb(36,36,36)",
              "ticklen": 8,
              "ticks": "outside",
              "tickwidth": 2
             }
            },
            "type": "scatter3d"
           }
          ],
          "scattercarpet": [
           {
            "marker": {
             "colorbar": {
              "outlinewidth": 0,
              "tickcolor": "rgb(36,36,36)",
              "ticklen": 8,
              "ticks": "outside",
              "tickwidth": 2
             }
            },
            "type": "scattercarpet"
           }
          ],
          "scattergeo": [
           {
            "marker": {
             "colorbar": {
              "outlinewidth": 0,
              "tickcolor": "rgb(36,36,36)",
              "ticklen": 8,
              "ticks": "outside",
              "tickwidth": 2
             }
            },
            "type": "scattergeo"
           }
          ],
          "scattergl": [
           {
            "marker": {
             "colorbar": {
              "outlinewidth": 0,
              "tickcolor": "rgb(36,36,36)",
              "ticklen": 8,
              "ticks": "outside",
              "tickwidth": 2
             }
            },
            "type": "scattergl"
           }
          ],
          "scattermapbox": [
           {
            "marker": {
             "colorbar": {
              "outlinewidth": 0,
              "tickcolor": "rgb(36,36,36)",
              "ticklen": 8,
              "ticks": "outside",
              "tickwidth": 2
             }
            },
            "type": "scattermapbox"
           }
          ],
          "scatterpolar": [
           {
            "marker": {
             "colorbar": {
              "outlinewidth": 0,
              "tickcolor": "rgb(36,36,36)",
              "ticklen": 8,
              "ticks": "outside",
              "tickwidth": 2
             }
            },
            "type": "scatterpolar"
           }
          ],
          "scatterpolargl": [
           {
            "marker": {
             "colorbar": {
              "outlinewidth": 0,
              "tickcolor": "rgb(36,36,36)",
              "ticklen": 8,
              "ticks": "outside",
              "tickwidth": 2
             }
            },
            "type": "scatterpolargl"
           }
          ],
          "scatterternary": [
           {
            "marker": {
             "colorbar": {
              "outlinewidth": 0,
              "tickcolor": "rgb(36,36,36)",
              "ticklen": 8,
              "ticks": "outside",
              "tickwidth": 2
             }
            },
            "type": "scatterternary"
           }
          ],
          "surface": [
           {
            "colorbar": {
             "outlinewidth": 0,
             "tickcolor": "rgb(36,36,36)",
             "ticklen": 8,
             "ticks": "outside",
             "tickwidth": 2
            },
            "colorscale": [
             [
              0,
              "rgb(2,4,25)"
             ],
             [
              0.06274509803921569,
              "rgb(24,15,41)"
             ],
             [
              0.12549019607843137,
              "rgb(47,23,57)"
             ],
             [
              0.18823529411764706,
              "rgb(71,28,72)"
             ],
             [
              0.25098039215686274,
              "rgb(97,30,82)"
             ],
             [
              0.3137254901960784,
              "rgb(123,30,89)"
             ],
             [
              0.3764705882352941,
              "rgb(150,27,91)"
             ],
             [
              0.4392156862745098,
              "rgb(177,22,88)"
             ],
             [
              0.5019607843137255,
              "rgb(203,26,79)"
             ],
             [
              0.5647058823529412,
              "rgb(223,47,67)"
             ],
             [
              0.6274509803921569,
              "rgb(236,76,61)"
             ],
             [
              0.6901960784313725,
              "rgb(242,107,73)"
             ],
             [
              0.7529411764705882,
              "rgb(244,135,95)"
             ],
             [
              0.8156862745098039,
              "rgb(245,162,122)"
             ],
             [
              0.8784313725490196,
              "rgb(246,188,153)"
             ],
             [
              0.9411764705882353,
              "rgb(247,212,187)"
             ],
             [
              1,
              "rgb(250,234,220)"
             ]
            ],
            "type": "surface"
           }
          ],
          "table": [
           {
            "cells": {
             "fill": {
              "color": "rgb(231,231,240)"
             },
             "line": {
              "color": "white"
             }
            },
            "header": {
             "fill": {
              "color": "rgb(183,183,191)"
             },
             "line": {
              "color": "white"
             }
            },
            "type": "table"
           }
          ]
         },
         "layout": {
          "annotationdefaults": {
           "arrowcolor": "rgb(67,103,167)"
          },
          "autotypenumbers": "strict",
          "coloraxis": {
           "colorbar": {
            "outlinewidth": 0,
            "tickcolor": "rgb(36,36,36)",
            "ticklen": 8,
            "ticks": "outside",
            "tickwidth": 2
           }
          },
          "colorscale": {
           "sequential": [
            [
             0,
             "rgb(2,4,25)"
            ],
            [
             0.06274509803921569,
             "rgb(24,15,41)"
            ],
            [
             0.12549019607843137,
             "rgb(47,23,57)"
            ],
            [
             0.18823529411764706,
             "rgb(71,28,72)"
            ],
            [
             0.25098039215686274,
             "rgb(97,30,82)"
            ],
            [
             0.3137254901960784,
             "rgb(123,30,89)"
            ],
            [
             0.3764705882352941,
             "rgb(150,27,91)"
            ],
            [
             0.4392156862745098,
             "rgb(177,22,88)"
            ],
            [
             0.5019607843137255,
             "rgb(203,26,79)"
            ],
            [
             0.5647058823529412,
             "rgb(223,47,67)"
            ],
            [
             0.6274509803921569,
             "rgb(236,76,61)"
            ],
            [
             0.6901960784313725,
             "rgb(242,107,73)"
            ],
            [
             0.7529411764705882,
             "rgb(244,135,95)"
            ],
            [
             0.8156862745098039,
             "rgb(245,162,122)"
            ],
            [
             0.8784313725490196,
             "rgb(246,188,153)"
            ],
            [
             0.9411764705882353,
             "rgb(247,212,187)"
            ],
            [
             1,
             "rgb(250,234,220)"
            ]
           ],
           "sequentialminus": [
            [
             0,
             "rgb(2,4,25)"
            ],
            [
             0.06274509803921569,
             "rgb(24,15,41)"
            ],
            [
             0.12549019607843137,
             "rgb(47,23,57)"
            ],
            [
             0.18823529411764706,
             "rgb(71,28,72)"
            ],
            [
             0.25098039215686274,
             "rgb(97,30,82)"
            ],
            [
             0.3137254901960784,
             "rgb(123,30,89)"
            ],
            [
             0.3764705882352941,
             "rgb(150,27,91)"
            ],
            [
             0.4392156862745098,
             "rgb(177,22,88)"
            ],
            [
             0.5019607843137255,
             "rgb(203,26,79)"
            ],
            [
             0.5647058823529412,
             "rgb(223,47,67)"
            ],
            [
             0.6274509803921569,
             "rgb(236,76,61)"
            ],
            [
             0.6901960784313725,
             "rgb(242,107,73)"
            ],
            [
             0.7529411764705882,
             "rgb(244,135,95)"
            ],
            [
             0.8156862745098039,
             "rgb(245,162,122)"
            ],
            [
             0.8784313725490196,
             "rgb(246,188,153)"
            ],
            [
             0.9411764705882353,
             "rgb(247,212,187)"
            ],
            [
             1,
             "rgb(250,234,220)"
            ]
           ]
          },
          "colorway": [
           "rgb(76,114,176)",
           "rgb(221,132,82)",
           "rgb(85,168,104)",
           "rgb(196,78,82)",
           "rgb(129,114,179)",
           "rgb(147,120,96)",
           "rgb(218,139,195)",
           "rgb(140,140,140)",
           "rgb(204,185,116)",
           "rgb(100,181,205)"
          ],
          "font": {
           "color": "rgb(36,36,36)"
          },
          "geo": {
           "bgcolor": "white",
           "lakecolor": "white",
           "landcolor": "rgb(234,234,242)",
           "showlakes": true,
           "showland": true,
           "subunitcolor": "white"
          },
          "hoverlabel": {
           "align": "left"
          },
          "hovermode": "closest",
          "paper_bgcolor": "white",
          "plot_bgcolor": "rgb(234,234,242)",
          "polar": {
           "angularaxis": {
            "gridcolor": "white",
            "linecolor": "white",
            "showgrid": true,
            "ticks": ""
           },
           "bgcolor": "rgb(234,234,242)",
           "radialaxis": {
            "gridcolor": "white",
            "linecolor": "white",
            "showgrid": true,
            "ticks": ""
           }
          },
          "scene": {
           "xaxis": {
            "backgroundcolor": "rgb(234,234,242)",
            "gridcolor": "white",
            "gridwidth": 2,
            "linecolor": "white",
            "showbackground": true,
            "showgrid": true,
            "ticks": "",
            "zerolinecolor": "white"
           },
           "yaxis": {
            "backgroundcolor": "rgb(234,234,242)",
            "gridcolor": "white",
            "gridwidth": 2,
            "linecolor": "white",
            "showbackground": true,
            "showgrid": true,
            "ticks": "",
            "zerolinecolor": "white"
           },
           "zaxis": {
            "backgroundcolor": "rgb(234,234,242)",
            "gridcolor": "white",
            "gridwidth": 2,
            "linecolor": "white",
            "showbackground": true,
            "showgrid": true,
            "ticks": "",
            "zerolinecolor": "white"
           }
          },
          "shapedefaults": {
           "fillcolor": "rgb(67,103,167)",
           "line": {
            "width": 0
           },
           "opacity": 0.5
          },
          "ternary": {
           "aaxis": {
            "gridcolor": "white",
            "linecolor": "white",
            "showgrid": true,
            "ticks": ""
           },
           "baxis": {
            "gridcolor": "white",
            "linecolor": "white",
            "showgrid": true,
            "ticks": ""
           },
           "bgcolor": "rgb(234,234,242)",
           "caxis": {
            "gridcolor": "white",
            "linecolor": "white",
            "showgrid": true,
            "ticks": ""
           }
          },
          "xaxis": {
           "automargin": true,
           "gridcolor": "white",
           "linecolor": "white",
           "showgrid": true,
           "ticks": "",
           "title": {
            "standoff": 15
           },
           "zerolinecolor": "white"
          },
          "yaxis": {
           "automargin": true,
           "gridcolor": "white",
           "linecolor": "white",
           "showgrid": true,
           "ticks": "",
           "title": {
            "standoff": 15
           },
           "zerolinecolor": "white"
          }
         }
        },
        "title": {
         "text": "Distribution of Final Selling Prices"
        },
        "width": 1000,
        "xaxis": {
         "anchor": "y",
         "domain": [
          0,
          1
         ],
         "title": {
          "text": "final_selling_price"
         }
        },
        "yaxis": {
         "anchor": "x",
         "domain": [
          0,
          1
         ],
         "title": {
          "text": "count"
         }
        }
       }
      }
     },
     "metadata": {},
     "output_type": "display_data"
    }
   ],
   "source": [
    "px.histogram(final_scrapped_data, x='final_selling_price', nbins=10,height=800,width=1000, title='Distribution of Final Selling Prices',color='brand'\n",
    "             ,template='seaborn')\n"
   ]
  },
  {
   "cell_type": "code",
   "execution_count": 14,
   "metadata": {},
   "outputs": [
    {
     "name": "stderr",
     "output_type": "stream",
     "text": [
      "2024-07-06 08:51:12.783 \n",
      "Warning: the config option 'server.enableCORS=false' is not compatible with 'server.enableXsrfProtection=true'.\n",
      "As a result, 'server.enableCORS' is being overridden to 'true'.\n",
      "\n",
      "More information:\n",
      "In order to protect against CSRF attacks, we send a cookie with each request.\n",
      "To do so, we must specify allowable origins, which places a restriction on\n",
      "cross-origin resource sharing.\n",
      "\n",
      "If cross origin resource sharing is required, please disable server.enableXsrfProtection.\n",
      "            \n",
      "2024-07-06 08:51:12.783 \n",
      "  \u001b[33m\u001b[1mWarning:\u001b[0m to view this Streamlit app on a browser, run it with the following\n",
      "  command:\n",
      "\n",
      "    streamlit run d:\\personal_git\\data science\\portfolio projects\\Competition analysis\\.venv\\lib\\site-packages\\ipykernel_launcher.py [ARGUMENTS]\n"
     ]
    },
    {
     "data": {
      "text/plain": [
       "DeltaGenerator()"
      ]
     },
     "execution_count": 14,
     "metadata": {},
     "output_type": "execute_result"
    }
   ],
   "source": [
    "st.image('https://rukminim1.flixcart.com/image/832/832/xif0q/shirt/j/a/b/xxl-brown-green-youth-first-original-imahyz3ztrzadhf7.jpeg?q=70')"
   ]
  },
  {
   "cell_type": "code",
   "execution_count": null,
   "metadata": {},
   "outputs": [],
   "source": []
  }
 ],
 "metadata": {
  "kernelspec": {
   "display_name": "Python 3",
   "language": "python",
   "name": "python3"
  },
  "language_info": {
   "codemirror_mode": {
    "name": "ipython",
    "version": 3
   },
   "file_extension": ".py",
   "mimetype": "text/x-python",
   "name": "python",
   "nbconvert_exporter": "python",
   "pygments_lexer": "ipython3",
   "version": "3.10.0"
  }
 },
 "nbformat": 4,
 "nbformat_minor": 2
}
