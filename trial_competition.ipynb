{
 "cells": [
  {
   "cell_type": "code",
   "execution_count": 1,
   "metadata": {},
   "outputs": [
    {
     "name": "stderr",
     "output_type": "stream",
     "text": [
      "d:\\personal_git\\data science\\portfolio projects\\Competition analysis\\.venv\\lib\\site-packages\\fuzzywuzzy\\fuzz.py:11: UserWarning: Using slow pure-python SequenceMatcher. Install python-Levenshtein to remove this warning\n",
      "  warnings.warn('Using slow pure-python SequenceMatcher. Install python-Levenshtein to remove this warning')\n"
     ]
    },
    {
     "name": "stdout",
     "output_type": "stream",
     "text": [
      "d:\\personal_git\\data science\\portfolio projects\\Competition analysis\\key1.json\n",
      "https://www.flipkart.com/search?q=earphone&page=1\n",
      "https://www.flipkart.com/search?q=earphone&page=2\n",
      "https://www.flipkart.com/search?q=earphone&page=3\n",
      "https://www.flipkart.com/search?q=earphone&page=4\n",
      "https://www.flipkart.com/search?q=earphone&page=5\n",
      "https://www.flipkart.com/search?q=earphone&page=6\n",
      "https://www.flipkart.com/search?q=earphone&page=7\n",
      "https://www.flipkart.com/search?q=earphone&page=8\n",
      "https://www.flipkart.com/search?q=earphone&page=9\n",
      "https://www.flipkart.com/search?q=earphone&page=10\n",
      "https://www.flipkart.com/search?q=earbuds&page=1\n",
      "https://www.flipkart.com/search?q=earbuds&page=2\n",
      "https://www.flipkart.com/search?q=earbuds&page=3\n",
      "https://www.flipkart.com/search?q=earbuds&page=4\n",
      "https://www.flipkart.com/search?q=earbuds&page=5\n"
     ]
    },
    {
     "ename": "KeyboardInterrupt",
     "evalue": "",
     "output_type": "error",
     "traceback": [
      "\u001b[1;31m---------------------------------------------------------------------------\u001b[0m",
      "\u001b[1;31mKeyboardInterrupt\u001b[0m                         Traceback (most recent call last)",
      "Cell \u001b[1;32mIn[1], line 50\u001b[0m\n\u001b[0;32m     48\u001b[0m final_fsn_list\u001b[38;5;241m=\u001b[39m[]\n\u001b[0;32m     49\u001b[0m \u001b[38;5;28;01mfor\u001b[39;00m url \u001b[38;5;129;01min\u001b[39;00m all_urls:\n\u001b[1;32m---> 50\u001b[0m     fsns\u001b[38;5;241m=\u001b[39m\u001b[43mfns_scrap\u001b[49m\u001b[43m(\u001b[49m\u001b[43mdriver\u001b[49m\u001b[43m,\u001b[49m\u001b[43murl\u001b[49m\u001b[43m,\u001b[49m\u001b[38;5;241;43m10\u001b[39;49m\u001b[43m)\u001b[49m\n\u001b[0;32m     51\u001b[0m     final_fsn_list\u001b[38;5;241m.\u001b[39mextend(fsns)\n\u001b[0;32m     52\u001b[0m driver\u001b[38;5;241m.\u001b[39mquit()\n",
      "Cell \u001b[1;32mIn[1], line 24\u001b[0m, in \u001b[0;36mfns_scrap\u001b[1;34m(driver, url, no_of_pages)\u001b[0m\n\u001b[0;32m     22\u001b[0m final_url \u001b[38;5;241m=\u001b[39m url \u001b[38;5;241m+\u001b[39m \u001b[38;5;124mf\u001b[39m\u001b[38;5;124m'\u001b[39m\u001b[38;5;124m&page=\u001b[39m\u001b[38;5;132;01m{\u001b[39;00mi\u001b[38;5;132;01m}\u001b[39;00m\u001b[38;5;124m'\u001b[39m\n\u001b[0;32m     23\u001b[0m \u001b[38;5;28mprint\u001b[39m(final_url)\n\u001b[1;32m---> 24\u001b[0m \u001b[43mdriver\u001b[49m\u001b[38;5;241;43m.\u001b[39;49m\u001b[43mget\u001b[49m\u001b[43m(\u001b[49m\u001b[43mfinal_url\u001b[49m\u001b[43m)\u001b[49m\n\u001b[0;32m     25\u001b[0m all_fsns \u001b[38;5;241m=\u001b[39m driver\u001b[38;5;241m.\u001b[39mfind_elements(By\u001b[38;5;241m.\u001b[39mXPATH, \u001b[38;5;124m'\u001b[39m\u001b[38;5;124m//*[@data-id]\u001b[39m\u001b[38;5;124m'\u001b[39m)\n\u001b[0;32m     26\u001b[0m \u001b[38;5;28;01mfor\u001b[39;00m fsn \u001b[38;5;129;01min\u001b[39;00m all_fsns:\n",
      "File \u001b[1;32md:\\personal_git\\data science\\portfolio projects\\Competition analysis\\.venv\\lib\\site-packages\\selenium\\webdriver\\remote\\webdriver.py:363\u001b[0m, in \u001b[0;36mWebDriver.get\u001b[1;34m(self, url)\u001b[0m\n\u001b[0;32m    361\u001b[0m \u001b[38;5;28;01mdef\u001b[39;00m \u001b[38;5;21mget\u001b[39m(\u001b[38;5;28mself\u001b[39m, url: \u001b[38;5;28mstr\u001b[39m) \u001b[38;5;241m-\u001b[39m\u001b[38;5;241m>\u001b[39m \u001b[38;5;28;01mNone\u001b[39;00m:\n\u001b[0;32m    362\u001b[0m \u001b[38;5;250m    \u001b[39m\u001b[38;5;124;03m\"\"\"Loads a web page in the current browser session.\"\"\"\u001b[39;00m\n\u001b[1;32m--> 363\u001b[0m     \u001b[38;5;28;43mself\u001b[39;49m\u001b[38;5;241;43m.\u001b[39;49m\u001b[43mexecute\u001b[49m\u001b[43m(\u001b[49m\u001b[43mCommand\u001b[49m\u001b[38;5;241;43m.\u001b[39;49m\u001b[43mGET\u001b[49m\u001b[43m,\u001b[49m\u001b[43m \u001b[49m\u001b[43m{\u001b[49m\u001b[38;5;124;43m\"\u001b[39;49m\u001b[38;5;124;43murl\u001b[39;49m\u001b[38;5;124;43m\"\u001b[39;49m\u001b[43m:\u001b[49m\u001b[43m \u001b[49m\u001b[43murl\u001b[49m\u001b[43m}\u001b[49m\u001b[43m)\u001b[49m\n",
      "File \u001b[1;32md:\\personal_git\\data science\\portfolio projects\\Competition analysis\\.venv\\lib\\site-packages\\selenium\\webdriver\\remote\\webdriver.py:352\u001b[0m, in \u001b[0;36mWebDriver.execute\u001b[1;34m(self, driver_command, params)\u001b[0m\n\u001b[0;32m    349\u001b[0m     \u001b[38;5;28;01melif\u001b[39;00m \u001b[38;5;124m\"\u001b[39m\u001b[38;5;124msessionId\u001b[39m\u001b[38;5;124m\"\u001b[39m \u001b[38;5;129;01mnot\u001b[39;00m \u001b[38;5;129;01min\u001b[39;00m params:\n\u001b[0;32m    350\u001b[0m         params[\u001b[38;5;124m\"\u001b[39m\u001b[38;5;124msessionId\u001b[39m\u001b[38;5;124m\"\u001b[39m] \u001b[38;5;241m=\u001b[39m \u001b[38;5;28mself\u001b[39m\u001b[38;5;241m.\u001b[39msession_id\n\u001b[1;32m--> 352\u001b[0m response \u001b[38;5;241m=\u001b[39m \u001b[38;5;28;43mself\u001b[39;49m\u001b[38;5;241;43m.\u001b[39;49m\u001b[43mcommand_executor\u001b[49m\u001b[38;5;241;43m.\u001b[39;49m\u001b[43mexecute\u001b[49m\u001b[43m(\u001b[49m\u001b[43mdriver_command\u001b[49m\u001b[43m,\u001b[49m\u001b[43m \u001b[49m\u001b[43mparams\u001b[49m\u001b[43m)\u001b[49m\n\u001b[0;32m    353\u001b[0m \u001b[38;5;28;01mif\u001b[39;00m response:\n\u001b[0;32m    354\u001b[0m     \u001b[38;5;28mself\u001b[39m\u001b[38;5;241m.\u001b[39merror_handler\u001b[38;5;241m.\u001b[39mcheck_response(response)\n",
      "File \u001b[1;32md:\\personal_git\\data science\\portfolio projects\\Competition analysis\\.venv\\lib\\site-packages\\selenium\\webdriver\\remote\\remote_connection.py:302\u001b[0m, in \u001b[0;36mRemoteConnection.execute\u001b[1;34m(self, command, params)\u001b[0m\n\u001b[0;32m    300\u001b[0m trimmed \u001b[38;5;241m=\u001b[39m \u001b[38;5;28mself\u001b[39m\u001b[38;5;241m.\u001b[39m_trim_large_entries(params)\n\u001b[0;32m    301\u001b[0m LOGGER\u001b[38;5;241m.\u001b[39mdebug(\u001b[38;5;124m\"\u001b[39m\u001b[38;5;132;01m%s\u001b[39;00m\u001b[38;5;124m \u001b[39m\u001b[38;5;132;01m%s\u001b[39;00m\u001b[38;5;124m \u001b[39m\u001b[38;5;132;01m%s\u001b[39;00m\u001b[38;5;124m\"\u001b[39m, command_info[\u001b[38;5;241m0\u001b[39m], url, \u001b[38;5;28mstr\u001b[39m(trimmed))\n\u001b[1;32m--> 302\u001b[0m \u001b[38;5;28;01mreturn\u001b[39;00m \u001b[38;5;28;43mself\u001b[39;49m\u001b[38;5;241;43m.\u001b[39;49m\u001b[43m_request\u001b[49m\u001b[43m(\u001b[49m\u001b[43mcommand_info\u001b[49m\u001b[43m[\u001b[49m\u001b[38;5;241;43m0\u001b[39;49m\u001b[43m]\u001b[49m\u001b[43m,\u001b[49m\u001b[43m \u001b[49m\u001b[43murl\u001b[49m\u001b[43m,\u001b[49m\u001b[43m \u001b[49m\u001b[43mbody\u001b[49m\u001b[38;5;241;43m=\u001b[39;49m\u001b[43mdata\u001b[49m\u001b[43m)\u001b[49m\n",
      "File \u001b[1;32md:\\personal_git\\data science\\portfolio projects\\Competition analysis\\.venv\\lib\\site-packages\\selenium\\webdriver\\remote\\remote_connection.py:322\u001b[0m, in \u001b[0;36mRemoteConnection._request\u001b[1;34m(self, method, url, body)\u001b[0m\n\u001b[0;32m    319\u001b[0m     body \u001b[38;5;241m=\u001b[39m \u001b[38;5;28;01mNone\u001b[39;00m\n\u001b[0;32m    321\u001b[0m \u001b[38;5;28;01mif\u001b[39;00m \u001b[38;5;28mself\u001b[39m\u001b[38;5;241m.\u001b[39mkeep_alive:\n\u001b[1;32m--> 322\u001b[0m     response \u001b[38;5;241m=\u001b[39m \u001b[38;5;28;43mself\u001b[39;49m\u001b[38;5;241;43m.\u001b[39;49m\u001b[43m_conn\u001b[49m\u001b[38;5;241;43m.\u001b[39;49m\u001b[43mrequest\u001b[49m\u001b[43m(\u001b[49m\u001b[43mmethod\u001b[49m\u001b[43m,\u001b[49m\u001b[43m \u001b[49m\u001b[43murl\u001b[49m\u001b[43m,\u001b[49m\u001b[43m \u001b[49m\u001b[43mbody\u001b[49m\u001b[38;5;241;43m=\u001b[39;49m\u001b[43mbody\u001b[49m\u001b[43m,\u001b[49m\u001b[43m \u001b[49m\u001b[43mheaders\u001b[49m\u001b[38;5;241;43m=\u001b[39;49m\u001b[43mheaders\u001b[49m\u001b[43m)\u001b[49m\n\u001b[0;32m    323\u001b[0m     statuscode \u001b[38;5;241m=\u001b[39m response\u001b[38;5;241m.\u001b[39mstatus\n\u001b[0;32m    324\u001b[0m \u001b[38;5;28;01melse\u001b[39;00m:\n",
      "File \u001b[1;32md:\\personal_git\\data science\\portfolio projects\\Competition analysis\\.venv\\lib\\site-packages\\urllib3\\_request_methods.py:144\u001b[0m, in \u001b[0;36mRequestMethods.request\u001b[1;34m(self, method, url, body, fields, headers, json, **urlopen_kw)\u001b[0m\n\u001b[0;32m    136\u001b[0m     \u001b[38;5;28;01mreturn\u001b[39;00m \u001b[38;5;28mself\u001b[39m\u001b[38;5;241m.\u001b[39mrequest_encode_url(\n\u001b[0;32m    137\u001b[0m         method,\n\u001b[0;32m    138\u001b[0m         url,\n\u001b[1;32m   (...)\u001b[0m\n\u001b[0;32m    141\u001b[0m         \u001b[38;5;241m*\u001b[39m\u001b[38;5;241m*\u001b[39murlopen_kw,\n\u001b[0;32m    142\u001b[0m     )\n\u001b[0;32m    143\u001b[0m \u001b[38;5;28;01melse\u001b[39;00m:\n\u001b[1;32m--> 144\u001b[0m     \u001b[38;5;28;01mreturn\u001b[39;00m \u001b[38;5;28mself\u001b[39m\u001b[38;5;241m.\u001b[39mrequest_encode_body(\n\u001b[0;32m    145\u001b[0m         method, url, fields\u001b[38;5;241m=\u001b[39mfields, headers\u001b[38;5;241m=\u001b[39mheaders, \u001b[38;5;241m*\u001b[39m\u001b[38;5;241m*\u001b[39murlopen_kw\n\u001b[0;32m    146\u001b[0m     )\n",
      "File \u001b[1;32md:\\personal_git\\data science\\portfolio projects\\Competition analysis\\.venv\\lib\\site-packages\\urllib3\\_request_methods.py:279\u001b[0m, in \u001b[0;36mRequestMethods.request_encode_body\u001b[1;34m(self, method, url, fields, headers, encode_multipart, multipart_boundary, **urlopen_kw)\u001b[0m\n\u001b[0;32m    275\u001b[0m     extra_kw[\u001b[38;5;124m\"\u001b[39m\u001b[38;5;124mheaders\u001b[39m\u001b[38;5;124m\"\u001b[39m]\u001b[38;5;241m.\u001b[39msetdefault(\u001b[38;5;124m\"\u001b[39m\u001b[38;5;124mContent-Type\u001b[39m\u001b[38;5;124m\"\u001b[39m, content_type)\n\u001b[0;32m    277\u001b[0m extra_kw\u001b[38;5;241m.\u001b[39mupdate(urlopen_kw)\n\u001b[1;32m--> 279\u001b[0m \u001b[38;5;28;01mreturn\u001b[39;00m \u001b[38;5;28mself\u001b[39m\u001b[38;5;241m.\u001b[39murlopen(method, url, \u001b[38;5;241m*\u001b[39m\u001b[38;5;241m*\u001b[39mextra_kw)\n",
      "File \u001b[1;32md:\\personal_git\\data science\\portfolio projects\\Competition analysis\\.venv\\lib\\site-packages\\urllib3\\poolmanager.py:443\u001b[0m, in \u001b[0;36mPoolManager.urlopen\u001b[1;34m(self, method, url, redirect, **kw)\u001b[0m\n\u001b[0;32m    441\u001b[0m     response \u001b[38;5;241m=\u001b[39m conn\u001b[38;5;241m.\u001b[39murlopen(method, url, \u001b[38;5;241m*\u001b[39m\u001b[38;5;241m*\u001b[39mkw)\n\u001b[0;32m    442\u001b[0m \u001b[38;5;28;01melse\u001b[39;00m:\n\u001b[1;32m--> 443\u001b[0m     response \u001b[38;5;241m=\u001b[39m conn\u001b[38;5;241m.\u001b[39murlopen(method, u\u001b[38;5;241m.\u001b[39mrequest_uri, \u001b[38;5;241m*\u001b[39m\u001b[38;5;241m*\u001b[39mkw)\n\u001b[0;32m    445\u001b[0m redirect_location \u001b[38;5;241m=\u001b[39m redirect \u001b[38;5;129;01mand\u001b[39;00m response\u001b[38;5;241m.\u001b[39mget_redirect_location()\n\u001b[0;32m    446\u001b[0m \u001b[38;5;28;01mif\u001b[39;00m \u001b[38;5;129;01mnot\u001b[39;00m redirect_location:\n",
      "File \u001b[1;32md:\\personal_git\\data science\\portfolio projects\\Competition analysis\\.venv\\lib\\site-packages\\urllib3\\connectionpool.py:789\u001b[0m, in \u001b[0;36mHTTPConnectionPool.urlopen\u001b[1;34m(self, method, url, body, headers, retries, redirect, assert_same_host, timeout, pool_timeout, release_conn, chunked, body_pos, preload_content, decode_content, **response_kw)\u001b[0m\n\u001b[0;32m    786\u001b[0m response_conn \u001b[38;5;241m=\u001b[39m conn \u001b[38;5;28;01mif\u001b[39;00m \u001b[38;5;129;01mnot\u001b[39;00m release_conn \u001b[38;5;28;01melse\u001b[39;00m \u001b[38;5;28;01mNone\u001b[39;00m\n\u001b[0;32m    788\u001b[0m \u001b[38;5;66;03m# Make the request on the HTTPConnection object\u001b[39;00m\n\u001b[1;32m--> 789\u001b[0m response \u001b[38;5;241m=\u001b[39m \u001b[38;5;28mself\u001b[39m\u001b[38;5;241m.\u001b[39m_make_request(\n\u001b[0;32m    790\u001b[0m     conn,\n\u001b[0;32m    791\u001b[0m     method,\n\u001b[0;32m    792\u001b[0m     url,\n\u001b[0;32m    793\u001b[0m     timeout\u001b[38;5;241m=\u001b[39mtimeout_obj,\n\u001b[0;32m    794\u001b[0m     body\u001b[38;5;241m=\u001b[39mbody,\n\u001b[0;32m    795\u001b[0m     headers\u001b[38;5;241m=\u001b[39mheaders,\n\u001b[0;32m    796\u001b[0m     chunked\u001b[38;5;241m=\u001b[39mchunked,\n\u001b[0;32m    797\u001b[0m     retries\u001b[38;5;241m=\u001b[39mretries,\n\u001b[0;32m    798\u001b[0m     response_conn\u001b[38;5;241m=\u001b[39mresponse_conn,\n\u001b[0;32m    799\u001b[0m     preload_content\u001b[38;5;241m=\u001b[39mpreload_content,\n\u001b[0;32m    800\u001b[0m     decode_content\u001b[38;5;241m=\u001b[39mdecode_content,\n\u001b[0;32m    801\u001b[0m     \u001b[38;5;241m*\u001b[39m\u001b[38;5;241m*\u001b[39mresponse_kw,\n\u001b[0;32m    802\u001b[0m )\n\u001b[0;32m    804\u001b[0m \u001b[38;5;66;03m# Everything went great!\u001b[39;00m\n\u001b[0;32m    805\u001b[0m clean_exit \u001b[38;5;241m=\u001b[39m \u001b[38;5;28;01mTrue\u001b[39;00m\n",
      "File \u001b[1;32md:\\personal_git\\data science\\portfolio projects\\Competition analysis\\.venv\\lib\\site-packages\\urllib3\\connectionpool.py:536\u001b[0m, in \u001b[0;36mHTTPConnectionPool._make_request\u001b[1;34m(self, conn, method, url, body, headers, retries, timeout, chunked, response_conn, preload_content, decode_content, enforce_content_length)\u001b[0m\n\u001b[0;32m    534\u001b[0m \u001b[38;5;66;03m# Receive the response from the server\u001b[39;00m\n\u001b[0;32m    535\u001b[0m \u001b[38;5;28;01mtry\u001b[39;00m:\n\u001b[1;32m--> 536\u001b[0m     response \u001b[38;5;241m=\u001b[39m \u001b[43mconn\u001b[49m\u001b[38;5;241;43m.\u001b[39;49m\u001b[43mgetresponse\u001b[49m\u001b[43m(\u001b[49m\u001b[43m)\u001b[49m\n\u001b[0;32m    537\u001b[0m \u001b[38;5;28;01mexcept\u001b[39;00m (BaseSSLError, \u001b[38;5;167;01mOSError\u001b[39;00m) \u001b[38;5;28;01mas\u001b[39;00m e:\n\u001b[0;32m    538\u001b[0m     \u001b[38;5;28mself\u001b[39m\u001b[38;5;241m.\u001b[39m_raise_timeout(err\u001b[38;5;241m=\u001b[39me, url\u001b[38;5;241m=\u001b[39murl, timeout_value\u001b[38;5;241m=\u001b[39mread_timeout)\n",
      "File \u001b[1;32md:\\personal_git\\data science\\portfolio projects\\Competition analysis\\.venv\\lib\\site-packages\\urllib3\\connection.py:464\u001b[0m, in \u001b[0;36mHTTPConnection.getresponse\u001b[1;34m(self)\u001b[0m\n\u001b[0;32m    461\u001b[0m \u001b[38;5;28;01mfrom\u001b[39;00m \u001b[38;5;21;01m.\u001b[39;00m\u001b[38;5;21;01mresponse\u001b[39;00m \u001b[38;5;28;01mimport\u001b[39;00m HTTPResponse\n\u001b[0;32m    463\u001b[0m \u001b[38;5;66;03m# Get the response from http.client.HTTPConnection\u001b[39;00m\n\u001b[1;32m--> 464\u001b[0m httplib_response \u001b[38;5;241m=\u001b[39m \u001b[38;5;28;43msuper\u001b[39;49m\u001b[43m(\u001b[49m\u001b[43m)\u001b[49m\u001b[38;5;241;43m.\u001b[39;49m\u001b[43mgetresponse\u001b[49m\u001b[43m(\u001b[49m\u001b[43m)\u001b[49m\n\u001b[0;32m    466\u001b[0m \u001b[38;5;28;01mtry\u001b[39;00m:\n\u001b[0;32m    467\u001b[0m     assert_header_parsing(httplib_response\u001b[38;5;241m.\u001b[39mmsg)\n",
      "File \u001b[1;32m~\\AppData\\Local\\Programs\\Python\\Python310\\lib\\http\\client.py:1368\u001b[0m, in \u001b[0;36mHTTPConnection.getresponse\u001b[1;34m(self)\u001b[0m\n\u001b[0;32m   1366\u001b[0m \u001b[38;5;28;01mtry\u001b[39;00m:\n\u001b[0;32m   1367\u001b[0m     \u001b[38;5;28;01mtry\u001b[39;00m:\n\u001b[1;32m-> 1368\u001b[0m         \u001b[43mresponse\u001b[49m\u001b[38;5;241;43m.\u001b[39;49m\u001b[43mbegin\u001b[49m\u001b[43m(\u001b[49m\u001b[43m)\u001b[49m\n\u001b[0;32m   1369\u001b[0m     \u001b[38;5;28;01mexcept\u001b[39;00m \u001b[38;5;167;01mConnectionError\u001b[39;00m:\n\u001b[0;32m   1370\u001b[0m         \u001b[38;5;28mself\u001b[39m\u001b[38;5;241m.\u001b[39mclose()\n",
      "File \u001b[1;32m~\\AppData\\Local\\Programs\\Python\\Python310\\lib\\http\\client.py:317\u001b[0m, in \u001b[0;36mHTTPResponse.begin\u001b[1;34m(self)\u001b[0m\n\u001b[0;32m    315\u001b[0m \u001b[38;5;66;03m# read until we get a non-100 response\u001b[39;00m\n\u001b[0;32m    316\u001b[0m \u001b[38;5;28;01mwhile\u001b[39;00m \u001b[38;5;28;01mTrue\u001b[39;00m:\n\u001b[1;32m--> 317\u001b[0m     version, status, reason \u001b[38;5;241m=\u001b[39m \u001b[38;5;28;43mself\u001b[39;49m\u001b[38;5;241;43m.\u001b[39;49m\u001b[43m_read_status\u001b[49m\u001b[43m(\u001b[49m\u001b[43m)\u001b[49m\n\u001b[0;32m    318\u001b[0m     \u001b[38;5;28;01mif\u001b[39;00m status \u001b[38;5;241m!=\u001b[39m CONTINUE:\n\u001b[0;32m    319\u001b[0m         \u001b[38;5;28;01mbreak\u001b[39;00m\n",
      "File \u001b[1;32m~\\AppData\\Local\\Programs\\Python\\Python310\\lib\\http\\client.py:278\u001b[0m, in \u001b[0;36mHTTPResponse._read_status\u001b[1;34m(self)\u001b[0m\n\u001b[0;32m    277\u001b[0m \u001b[38;5;28;01mdef\u001b[39;00m \u001b[38;5;21m_read_status\u001b[39m(\u001b[38;5;28mself\u001b[39m):\n\u001b[1;32m--> 278\u001b[0m     line \u001b[38;5;241m=\u001b[39m \u001b[38;5;28mstr\u001b[39m(\u001b[38;5;28;43mself\u001b[39;49m\u001b[38;5;241;43m.\u001b[39;49m\u001b[43mfp\u001b[49m\u001b[38;5;241;43m.\u001b[39;49m\u001b[43mreadline\u001b[49m\u001b[43m(\u001b[49m\u001b[43m_MAXLINE\u001b[49m\u001b[43m \u001b[49m\u001b[38;5;241;43m+\u001b[39;49m\u001b[43m \u001b[49m\u001b[38;5;241;43m1\u001b[39;49m\u001b[43m)\u001b[49m, \u001b[38;5;124m\"\u001b[39m\u001b[38;5;124miso-8859-1\u001b[39m\u001b[38;5;124m\"\u001b[39m)\n\u001b[0;32m    279\u001b[0m     \u001b[38;5;28;01mif\u001b[39;00m \u001b[38;5;28mlen\u001b[39m(line) \u001b[38;5;241m>\u001b[39m _MAXLINE:\n\u001b[0;32m    280\u001b[0m         \u001b[38;5;28;01mraise\u001b[39;00m LineTooLong(\u001b[38;5;124m\"\u001b[39m\u001b[38;5;124mstatus line\u001b[39m\u001b[38;5;124m\"\u001b[39m)\n",
      "File \u001b[1;32m~\\AppData\\Local\\Programs\\Python\\Python310\\lib\\socket.py:705\u001b[0m, in \u001b[0;36mSocketIO.readinto\u001b[1;34m(self, b)\u001b[0m\n\u001b[0;32m    703\u001b[0m \u001b[38;5;28;01mwhile\u001b[39;00m \u001b[38;5;28;01mTrue\u001b[39;00m:\n\u001b[0;32m    704\u001b[0m     \u001b[38;5;28;01mtry\u001b[39;00m:\n\u001b[1;32m--> 705\u001b[0m         \u001b[38;5;28;01mreturn\u001b[39;00m \u001b[38;5;28;43mself\u001b[39;49m\u001b[38;5;241;43m.\u001b[39;49m\u001b[43m_sock\u001b[49m\u001b[38;5;241;43m.\u001b[39;49m\u001b[43mrecv_into\u001b[49m\u001b[43m(\u001b[49m\u001b[43mb\u001b[49m\u001b[43m)\u001b[49m\n\u001b[0;32m    706\u001b[0m     \u001b[38;5;28;01mexcept\u001b[39;00m timeout:\n\u001b[0;32m    707\u001b[0m         \u001b[38;5;28mself\u001b[39m\u001b[38;5;241m.\u001b[39m_timeout_occurred \u001b[38;5;241m=\u001b[39m \u001b[38;5;28;01mTrue\u001b[39;00m\n",
      "\u001b[1;31mKeyboardInterrupt\u001b[0m: "
     ]
    }
   ],
   "source": [
    "from piTask import general\n",
    "from fuzzywuzzy import fuzz\n",
    "from fuzzywuzzy import process\n",
    "from itertools import combinations\n",
    "from scrapper import flipkart_json_scrapper_with_all_specifications as fk_scrapper\n",
    "import pandas as pd\n",
    "pd.set_option('display.max_columns', None)\n",
    "from pprint import pprint \n",
    "import json\n",
    "from selenium import webdriver\n",
    "from selenium.webdriver.chrome.options import Options\n",
    "from selenium.webdriver.common.by import By\n",
    "import numpy as np\n",
    "def open_chrome_headless():\n",
    "    chrome_options = Options()\n",
    "    chrome_options.add_argument(\"--headless\")\n",
    "    driver = webdriver.Chrome(options=chrome_options)\n",
    "    return driver\n",
    "def fns_scrap(driver,url,no_of_pages):\n",
    "    fsns = []\n",
    "    for i in range(1, no_of_pages + 1):\n",
    "        final_url = url + f'&page={i}'\n",
    "        print(final_url)\n",
    "        driver.get(final_url)\n",
    "        all_fsns = driver.find_elements(By.XPATH, '//*[@data-id]')\n",
    "        for fsn in all_fsns:\n",
    "            single_fsn = fsn.get_attribute('data-id')\n",
    "            fsns.append(single_fsn)        \n",
    "    return fsns\n",
    "\n",
    "\n",
    "def is_integer(value):\n",
    "    try:\n",
    "        int(value)\n",
    "        return True\n",
    "    except ValueError:\n",
    "        return False\n",
    "input_sheet='1YzEFAUQN-It8vxZ1OaPgkw5ZixVImj17nI-vkAjNz-0'\n",
    "input_sheet_name ='input_sheet'\n",
    "input_df=general.read_sheet(input_sheet,input_sheet_name,1)\n",
    "\n",
    "keywords=[i for i in input_df['keyword'].to_list() if len(i)>0]\n",
    "all_urls=['https://www.flipkart.com/search?q='+keyword.replace(\" \",\"%20\") for keyword in keywords]\n",
    "my_fsns=[i for i in input_df['my_fsn'].to_list() if len(i)>0]\n",
    "attributes_to_filter=input_df['attribute_to_match'].to_list()\n",
    "brand_lists=[i for i in input_df['brand_name'].to_list() if len(i)>0]\n",
    "driver=open_chrome_headless()\n",
    "final_fsn_list=[]\n",
    "for url in all_urls:\n",
    "    fsns=fns_scrap(driver,url,10)\n",
    "    final_fsn_list.extend(fsns)\n",
    "driver.quit()\n",
    "final_fsn_list=list(set(final_fsn_list))\n",
    "print(len(final_fsn_list))\n",
    "competitor_data=fk_scrapper.scrape_all_fsns(final_fsn_list)\n",
    "my_data=fk_scrapper.scrape_all_fsns(my_fsns)\n",
    "competitor_data.drop_duplicates(subset='fsn',inplace=True)\n",
    "competitor_data['final_selling_price'] = competitor_data['final_selling_price'].apply(lambda x: x if is_integer(x) else None)\n",
    "# my_data.dropna(subset=['final_selling_price'],inplace=True)\n",
    "# my_data['final_selling_price'] = my_data['final_selling_price'].apply(lambda x: x if is_integer(x) else None)\n",
    "# competitor_data.dropna(subset=['final_selling_price'], inplace=True)\n",
    "# competitor_data['final_selling_price'] = competitor_data['final_selling_price'].astype(int)\n",
    "# my_data['final_selling_price'] = my_data['final_selling_price'].astype(int)\n",
    "# for brand in brand_lists:\n",
    "#     print(brand)\n",
    "#     substring_length=len(brand)\n",
    "#     competitor_data.loc[competitor_data['title'].str[:substring_length]==brand,'brand']=brand\n",
    "# competitor_data.dropna(subset=['brand'],inplace=True)\n",
    "my_data.dropna(subset=['final_selling_price'],inplace=True)\n",
    "my_data['final_selling_price']=my_data['final_selling_price'].replace([np.inf,-np.inf],0).fillna(0)\n",
    "my_data['final_selling_price'] = my_data['final_selling_price'].apply(lambda x: x if is_integer(x) else None)\n",
    "competitor_data.dropna(subset=['final_selling_price'], inplace=True)\n",
    "competitor_data['final_selling_price']=competitor_data['final_selling_price'].replace([np.inf,-np.inf],0).fillna(0)\n",
    "competitor_data['final_selling_price'] = competitor_data['final_selling_price'].astype(int)\n",
    "my_data=my_data.dropna(subset=['final_selling_price'])\n",
    "# my_data['final_selling_price'] = my_data['final_selling_price'].astype(int)\n",
    "# for brand in brand_lists:\n",
    "#     print(brand)\n",
    "#     substring_length=len(brand)\n",
    "#     competitor_data.loc[competitor_data['title'].str[:substring_length]==brand,'brand']=brand\n",
    "# competitor_data.dropna(subset=['brand'],inplace=True)\n",
    "# my_fsns=my_data['fsn'].to_list()\n"
   ]
  },
  {
   "cell_type": "code",
   "execution_count": 2,
   "metadata": {},
   "outputs": [
    {
     "data": {
      "text/plain": [
       "['ACCG6DS7WDJHGWSH',\n",
       " 'ACCGVWSB2YBKFSQD',\n",
       " 'ACCEMZ7HPZUZHFPM',\n",
       " 'ACCFKYE2ARGG67WC',\n",
       " 'ACCEVQZABYWJHRHF',\n",
       " 'ACCFAMFQGCNEB8HM',\n",
       " 'ACCHFBBWTTYWKW5F',\n",
       " 'ACCGZEGCF4Z7CZ9E',\n",
       " 'ACCFHBK3GUQE3BUD',\n",
       " 'ACCFAMFQSGUG9D8R',\n",
       " 'ACCGP2HJA3HKHTF4',\n",
       " 'ACCGWU2ABQ3EAUM8',\n",
       " 'ACCG48YRGAHFEV3P',\n",
       " 'ACCHFZGFAZRFQZKC',\n",
       " 'ACCGTCYRNADXCXNG',\n",
       " 'ACCGC4GN5SQR7ZCZ',\n",
       " 'ACCGDSSU8BNHKN8G',\n",
       " 'ACCG2FUZEKMMVZ7N',\n",
       " 'ACCHFBCFK8RFXRKH',\n",
       " 'ACCGZN9AG6YP38EG',\n",
       " 'ACCGMG43HFWFFSUE',\n",
       " 'ACCFSDGXX3S6DVBG',\n",
       " 'ACCGZN9AK6UXB8TR',\n",
       " 'ACCGWVFAJHJAGHYG',\n",
       " 'ACCGQRC2RHJJSKUA',\n",
       " 'ACCGYDP2UQMKRXBN',\n",
       " 'ACCHF5VUADBZKJ4E',\n",
       " 'ACCGHJ97UDEBFFHD',\n",
       " 'ACCHFBCGQ2HYANQ5',\n",
       " 'ACCF3YPVXUHHGJUZ',\n",
       " 'ACCGWU2AJHZCYMHR',\n",
       " 'ACCGXKUHJBY8DGWT',\n",
       " 'ACCGYDP2HATGGMY3',\n",
       " 'ACCGTCYRGXKRSUSR',\n",
       " 'ACCHFBCFY6RDGTFM',\n",
       " 'ACCE9Q9FVGFXFHGK',\n",
       " 'ACCG9KYX8FHKRZPP',\n",
       " 'ACCH239QKPSYTCHD',\n",
       " 'ACCFHWT5ZVBTYDDY',\n",
       " 'ACCEHDJFUPC8JSEG',\n",
       " 'ACCHF5VYZVNYUA9R',\n",
       " 'ACCHFU98X2ZNTGBU',\n",
       " 'ACCGXYXKXWPZMGMR',\n",
       " 'ACCGNSJ2TZEJ3U66',\n",
       " 'ACCGXX62ATGFSZG8',\n",
       " 'ACCGRB6TBHUJ7KTM',\n",
       " 'ACCHFZMEHBZQNCFF',\n",
       " 'ACCH2YV9UHHNVY9N',\n",
       " 'ACCGHBHQYGXU7QKY',\n",
       " 'ACCGRZTNHYWYUGZM',\n",
       " 'ACCHFDEQK3GNJD9H',\n",
       " 'ACCHFU99TCY9NCTY',\n",
       " 'ACCFTNYZHTVTHZGF',\n",
       " 'ACCEXZYQ2AGYTJ66',\n",
       " 'ACCGF76YH6ZHUGB2',\n",
       " 'ACCHYTR8SNRPFKWX',\n",
       " 'ACCHYF56TMGFZK9Z',\n",
       " 'ACCGXZEMQKVZ9XJJ',\n",
       " 'ACCFUXTXY6PRYFFD',\n",
       " 'ACCGF4JZHYTERVTY',\n",
       " 'ACCHY79ZKKYVWUKT',\n",
       " 'ACCGRB6THWRFYFZW',\n",
       " 'ACCGRH9DVGQCF5CF',\n",
       " 'ACCGWU2ABQ3EAUM8',\n",
       " 'ACCGQRC2PXSSPNEZ',\n",
       " 'ACCGPZFTYREV9STG',\n",
       " 'ACCFZ95MTQSX7NFD',\n",
       " 'ACCGZKGZMZGFZGTM',\n",
       " 'ACCGZN9AENHZYPZZ',\n",
       " 'ACCEVAEWTGVPEH3P',\n",
       " 'ACCGSZCD8AYV9FJF',\n",
       " 'ACCGRKM6UBYX6UBF',\n",
       " 'ACCFMGJYG25NE3BZ',\n",
       " 'ACCEXZYHJZFFFZX8',\n",
       " 'ACCGHE4EWZZJNF2Q',\n",
       " 'ACCGF76YABBG7GK9',\n",
       " 'ACCHFDEQENE4B25Q',\n",
       " 'ACCHFJ6WGTG5JUH6',\n",
       " 'ACCEWH82GZTEVCNG',\n",
       " 'ACCGHBHQ6UC3XT7U',\n",
       " 'ACCGYFNJEHY3HRAQ',\n",
       " 'ACCGSVZXZYYWW5NX',\n",
       " 'ACCGWU2AYSHAZEZY',\n",
       " 'ACCGSUP9KHU5VAZJ',\n",
       " 'ACCGP2HJA3HKHTF4',\n",
       " 'ACCGHEYDFRXHWMGC',\n",
       " 'ACCGSVZVPGYFMMQK',\n",
       " 'ACCGHBPZ4V7QTGR2',\n",
       " 'ACCGZ5F9VDNHJFCX',\n",
       " 'ACCGH8BFREADKE4T',\n",
       " 'ACCGYBF3TK5E4CQJ',\n",
       " 'ACCGXVCZHYDCZHUG',\n",
       " 'ACCEHDJPSVZ4UYXP',\n",
       " 'ACCGRZHUV6UAK2TX',\n",
       " 'ACCG49EFRWHFFPYX',\n",
       " 'ACCG3PEPFCEGQK4S',\n",
       " 'ACCHFBGQNXXUQ9RN',\n",
       " 'ACCG9J7F2NMUB5H6',\n",
       " 'ACCGRNFYNKWSPC6D',\n",
       " 'ACCGKXHYHMJBZPU3',\n",
       " 'ACCGQBRTTQ4AHNH2',\n",
       " 'ACCGJT2ZEDUGFNMB',\n",
       " 'ACCGYZF55ZD93YSH',\n",
       " 'ACCGXX625HNFF8TD',\n",
       " 'ACCG65YCGHHHZPNZ',\n",
       " 'ACCFSDGXX3S6DVBG',\n",
       " 'ACCGH5Z9Q2M5GH4G',\n",
       " 'ACCGJT2ZZGCWCZM3',\n",
       " 'ACCGHE5F8Q4G3YNZ',\n",
       " 'ACCG6DYJTHWDYJHM',\n",
       " 'ACCGRMKFJ5ZT6Y6G',\n",
       " 'ACCGX8MZQXGZKYTY',\n",
       " 'ACCG6DYE3H22SQTX',\n",
       " 'ACCEVAEWCBH7WR3K',\n",
       " 'ACCFGYHHKJ94GN6A',\n",
       " 'ACCGVCTS589QYGZZ',\n",
       " 'ACCGEDKJUCXSXVGK',\n",
       " 'ACCHFCFZDHDRH4ZR',\n",
       " 'ACCGFUF3GHNZHKZ5',\n",
       " 'ACCGKXHYNUNAAPQU',\n",
       " 'ACCHFJ57MBZGRKGZ',\n",
       " 'ACCHYRH3XYVDTHED',\n",
       " 'ACCEZB5RK47Z9K9Z',\n",
       " 'ACCG7B9HPT6VAGZE',\n",
       " 'ACCFMJHNFBXAS6UD',\n",
       " 'ACCFGWJ7YBRXD8J4',\n",
       " 'ACCGXATGFEPFMUHC',\n",
       " 'ACCGRK7PFBE37FWZ',\n",
       " 'ACCHFBBGR8STSZBH',\n",
       " 'ACCGWVFAKPFZ8DZT',\n",
       " 'ACCGNX9ZUUJQA4YR',\n",
       " 'ACCHF778BVCDU8GE',\n",
       " 'ACCGRH9DJSV7GZCX',\n",
       " 'ACCGQRC2ANF7E2RY',\n",
       " 'ACCHFBC9QXEJZ9K6',\n",
       " 'ACCHFMGTJ6ZCQGHJ',\n",
       " 'ACCGTDRXMNJXCBBR',\n",
       " 'ACCGRMKFDVUGSJQE',\n",
       " 'ACCGSZCD8AYV9FJF',\n",
       " 'ACCHFZGRZCYUHKGW',\n",
       " 'ACCGF2CJF2HH469D',\n",
       " 'ACCGHPRKPEAGYEWZ',\n",
       " 'ACCGUGQBFSSNDSMD',\n",
       " 'ACCHYKJZZRVHWGVF',\n",
       " 'ACCGKGGQF74MWZV6',\n",
       " 'ACCG7CMMKMUFX3FG',\n",
       " 'ACCGPW7PPC28MYG6',\n",
       " 'ACCGPEC8ZPRUXTJE',\n",
       " 'ACCGXZBNWFT4SVGD',\n",
       " 'ACCHFZGFJYYFNGDK',\n",
       " 'ACCGRNFYJGNPDSTD',\n",
       " 'ACCGX7Z7GK5VXZCG',\n",
       " 'ACCGTZ6TFUQGZTFY',\n",
       " 'ACCHYJQ9F6CFZN5V',\n",
       " 'ACCGYFUVGGKRP8DG',\n",
       " 'ACCHFBBGGFZ6ZZYX',\n",
       " 'ACCHFDMXKE7HHZMZ',\n",
       " 'ACCGPZG6YSGHVTPS',\n",
       " 'ACCGPFCN6ZKBF5MD',\n",
       " 'ACCGEDKJJW5FE6KW',\n",
       " 'ACCHY8GGT87UHDHX',\n",
       " 'ACCGSZTFPC7FSG9H',\n",
       " 'ACCHY2JNQC6EEGWV',\n",
       " 'ACCG49GHTVKEYVZZ',\n",
       " 'ACCFKTFQKGMVFWW9',\n",
       " 'ACCGJFZHSPKAQZZX',\n",
       " 'ACCGTFTDFZ2PPZYQ',\n",
       " 'ACCGKHZYCFZRW4HW',\n",
       " 'ACCG49CSDKVQJH6W',\n",
       " 'ACCG7A6QGG8MS7NG',\n",
       " 'ACCGYZWKKQQ3GSV2',\n",
       " 'ACCGHPRGQVSDXWWM',\n",
       " 'ACCGVCTMRHPAKTZQ',\n",
       " 'ACCGYFDTAA28KJFY',\n",
       " 'ACCGQQ2T77EFW8HQ',\n",
       " 'ACCGPK2CH96JWHJ7',\n",
       " 'ACCGUB3VJWH3KRFQ',\n",
       " 'ACCGYYE6TQWNUHZZ',\n",
       " 'ACCG8MXCVNDWHVMZ',\n",
       " 'ACCG8MXCNFYU9HHH',\n",
       " 'ACCGTTFZAXZ8NCFH',\n",
       " 'ACCGPZGQRYSWGVRM',\n",
       " 'ACCG48F2SGVM72HN',\n",
       " 'ACCGYZF57FXHPPTG',\n",
       " 'ACCGY2MXB7C8CX2Z',\n",
       " 'ACCGW7ZCSBKX4HQC',\n",
       " 'ACCHFNG797EXHMYQ',\n",
       " 'ACCHYWZDUGGSRYRA',\n",
       " 'ACCGBGMZFJEFJGWZ',\n",
       " 'ACCGAMEG6XYKRHWR',\n",
       " 'ACCHFCUWRYUG8AHX',\n",
       " 'ACCGXN72JGUGGD46',\n",
       " 'ACCGXHXAK4DUMHQB',\n",
       " 'ACCGEVFK5U2JPTCN',\n",
       " 'ACCGNFUTUJKQZYAT',\n",
       " 'ACCGXX62GYHHS5K8',\n",
       " 'ACCGVG6N3F26RYT4',\n",
       " 'ACCGTJARHXUKABG6',\n",
       " 'ACCGSZCDSBTTBJZK',\n",
       " 'ACCGQXVJ8YJHDH34',\n",
       " 'ACCGHPRJY3EHDURQ',\n",
       " 'ACCGG35FCUASGRF6',\n",
       " 'ACCGHNUPGMFH4W9A',\n",
       " 'ACCGSJZUTGFD5EZB',\n",
       " 'ACCGPFMTGVG5PHWC',\n",
       " 'ACCFWSY7DWB2PUGC',\n",
       " 'ACCGYGKHW3F4PUUJ',\n",
       " 'ACCGJFZED6EPZSGP',\n",
       " 'ACCGWH9J8RGGZ5YH',\n",
       " 'ACCGX9RXXFFTSXN6',\n",
       " 'ACCGZGE2F7XZPUWJ',\n",
       " 'ACCGUMH9FMDY3CJ6',\n",
       " 'ACCGGQKTBDHCTHWG',\n",
       " 'ACCGPTY9ZGYCGCFZ',\n",
       " 'ACCGP29XHZ5CZ7TN',\n",
       " 'ACCG4RBWG8TWZRY9',\n",
       " 'ACCGZZ7YDEAYGS5G',\n",
       " 'ACCGY3YXQFUKKY7P',\n",
       " 'ACCFZ95M5JTZQH3F',\n",
       " 'ACCGS9ZM78FCXJQH',\n",
       " 'ACCHFF83QGEZEZMF',\n",
       " 'ACCGHPRKGQGXAVYZ',\n",
       " 'ACCGRNFM5GBPUKPF',\n",
       " 'ACCFJCUKZFFRCDXP',\n",
       " 'ACCGY3SFWKKYYXUK',\n",
       " 'ACCGY3SFUKATVPQR',\n",
       " 'ACCGGTV5JUTWCMDZ',\n",
       " 'ACCH2FDS3FSZKHZH',\n",
       " 'ACCFWSYM7ZRYDDTC',\n",
       " 'ACCGAQQQMSZR7ZV9',\n",
       " 'ACCGRCC8FTZYK2K8',\n",
       " 'ACCGPF9GF3CMZN3R',\n",
       " 'ACCGYGKHCFFWBUBS',\n",
       " 'ACCERGGCFFTDGZQT',\n",
       " 'ACCGJUEJZ6VFMZW9',\n",
       " 'ACCGDQMA2GDTZHWR',\n",
       " 'ACCGDE2R2ANKKA5S',\n",
       " 'ACCGKRMYZUXFYNAH',\n",
       " 'ACCG5EPZBRZDZFSZ',\n",
       " 'ACCG48F2S6F48CSZ',\n",
       " 'ACCGY3SFF6CZHFVG',\n",
       " 'ACCGZ5TFCDRTMUZM',\n",
       " 'ACCGQ2SND4UPDYAF',\n",
       " 'ACCGNSJ2ZNNKT55N',\n",
       " 'ACCGMG43HFWFFSUE',\n",
       " 'ACCGFX8FDJGKDXUZ',\n",
       " 'ACCGRNFYJGNPDSTD',\n",
       " 'ACCFT6JYQCH5R2H7',\n",
       " 'ACCGY3SFRXH8UZHJ',\n",
       " 'ACCGY3SF7YNGEZGF',\n",
       " 'ACCFV2DDWECK9JWG',\n",
       " 'ACCGY3SGCJXAR5UF',\n",
       " 'ACCGY3SFQV7WAAZM',\n",
       " 'ACCGY3SFPS56GEYT',\n",
       " 'ACCGNFV3H42DE2TP',\n",
       " 'ACCGU3DAFUVGGG3G',\n",
       " 'ACCGTQY9NEDG33GH',\n",
       " 'ACCGF8EWXCCWXWJZ',\n",
       " 'ACCG9J7F2NMUB5H6',\n",
       " 'ACCHFG6GKKMHFJ9A',\n",
       " 'ACCGY3SFGXQZXHYQ',\n",
       " 'ACCGY3SFE9W7KGSY',\n",
       " 'ACCGY3SF7XHCF7PX',\n",
       " 'ACCGY3SGR7PYTQNM',\n",
       " 'ACCGY3SFY8YE5YUH',\n",
       " 'ACCGY3SFRVBAWUXG',\n",
       " 'ACCGY3SFNNZZBWUC',\n",
       " 'ACCGRDGZFYVZUYGB',\n",
       " 'ACCGRB6T6ZPSFV2V',\n",
       " 'ACCGJPJQAZFGVHHH',\n",
       " 'ACCGYYRE7MEGZAQR',\n",
       " 'ACCGXVVDMUPJWT9U',\n",
       " 'ACCGSUZSJYHEYXRX',\n",
       " 'ACCGY3SF8HAWC65C',\n",
       " 'ACCGTHYQNDMETKBR',\n",
       " 'ACCGY3SG7ZEMMFUU',\n",
       " 'ACCGY3SFW5KNWK9G',\n",
       " 'ACCGY3SFFA8XRPGK',\n",
       " 'ACCGY3SFY7N5BYBD',\n",
       " 'ACCGY3SFTUQFZZ9M',\n",
       " 'ACCGS2VSSPZNZZ5P',\n",
       " 'ACCGJPJQSGBZBCZK',\n",
       " 'ACCGJ668PGVHBKT8',\n",
       " 'ACCHYKKE6Z5EHXJP',\n",
       " 'ACCHF5T5HFYENQND',\n",
       " 'ACCGT3NU5ACCBMRQ',\n",
       " 'ACCGY3SFGQA3S3ZH',\n",
       " 'ACCGY3SGGAV7FPHM',\n",
       " 'ACCGY3SFYG46CA6E',\n",
       " 'ACCGZ4HPHS28UDHW',\n",
       " 'ACCGY3SFPNZKJ7ZF',\n",
       " 'ACCG9EVBZPZNGG2F',\n",
       " 'ACCGPY3F6G9F7YNH',\n",
       " 'ACCGSQJXWD82QTM5',\n",
       " 'ACCGUAFN8JSZGSKF',\n",
       " 'ACCGSUZHRVJWGPNF',\n",
       " 'ACCGMGFGGHRW8XFJ',\n",
       " 'ACCGXVVDPUY227C5',\n",
       " 'ACCGRNFYE28EHKAD',\n",
       " 'ACCG9DKQVJEUKWVF',\n",
       " 'ACCFPG7Y39ATC6FS',\n",
       " 'ACCFN9Y6KZPKEWQC',\n",
       " 'ACCHFVFRPQMEGUP9',\n",
       " 'ACCGXE3PM8Z7AFBH',\n",
       " 'ACCGZPD7V3FHBYFW',\n",
       " 'ACCGYGF95JUCZ6ZG',\n",
       " 'ACCGJT2ZEDUGFNMB',\n",
       " 'ACCG2FUZEKMMVZ7N',\n",
       " 'ACCGS2VSKG3E2JW8',\n",
       " 'ACCGQSGWFGPEVPGK',\n",
       " 'ACCGQQ3CZZZSHZJZ',\n",
       " 'ACCGHJ97AZW42GUH',\n",
       " 'ACCFSWBAXSTG2YVT',\n",
       " 'ACCGY3SFZYZ64ZT7',\n",
       " 'ACCFWDFEMQGQH8G6',\n",
       " 'ACCGY3SF5E8MZPCX',\n",
       " 'ACCGZPD5VBZXHTYA',\n",
       " 'ACCGY3SFYH66WFMZ',\n",
       " 'ACCG9EVBG8RMQCUZ',\n",
       " 'ACCGBVMGF6TDFQQG',\n",
       " 'ACCG9KYX8FHKRZPP',\n",
       " 'ACCHF5VUADBZKJ4E',\n",
       " 'ACCGSAP5996UJQQK',\n",
       " 'ACCGRUBYF5VZMA2G',\n",
       " 'ACCGP29X9W4PT4SH',\n",
       " 'ACCGZ4NDH4XFVE8Z',\n",
       " 'ACCGH2YYJXJKTYJG',\n",
       " 'ACCGP98V6GQQZH9C',\n",
       " 'ACCGHCRSAJBRXSYS',\n",
       " 'ACCFMMZ6FJ2HMGE7',\n",
       " 'ACCGZBZPQSDFGNSX',\n",
       " 'ACCFT7C3PEQPQARQ',\n",
       " 'ACCGBVMGY9SPY7KZ',\n",
       " 'ACCGZKRSCBPUJK3P',\n",
       " 'ACCGPQY5HDRG97UU',\n",
       " 'ACCGEDKJUCXSXVGK',\n",
       " 'ACCGC92BJHKATCDB',\n",
       " 'ACCGVXF6DZSYFEGW',\n",
       " 'ACCGKSTJHVYG4TTB',\n",
       " 'ACCGY3SFTK8NGTNX',\n",
       " 'ACCGY3SFPK5TSQ5W',\n",
       " 'ACCGCT7WHG5JXWXK',\n",
       " 'ACCGY3SFEWGUUEZB',\n",
       " 'ACCGY3SFHAMYS6WW',\n",
       " 'ACCGY3SFRDWWASUA',\n",
       " 'ACCGRNFMJ54NCGZ6',\n",
       " 'ACCGMG43YZGGQNYX',\n",
       " 'ACCG57P5RGWJZARH',\n",
       " 'ACCHFG6GXEERAGUZ',\n",
       " 'ACCGRAYWS8TCFYC6',\n",
       " 'ACCG5DM87AEVFJPJ',\n",
       " 'ACCGY3SFBA65WJKZ',\n",
       " 'ACCGY3SF469PK93F',\n",
       " 'ACCH2E2RKUVV5RX4',\n",
       " 'ACCGYGF9BYNCHJQS',\n",
       " 'ACCHFH99DDEZQYHY',\n",
       " 'ACCFPG7YH9ZPAGPC',\n",
       " 'ACCH2FNBRJZVPDGN',\n",
       " 'ACCGW5QGMCPZGN5E',\n",
       " 'ACCGVX2AKNF5WRDH',\n",
       " 'ACCGVZYTKHTRZP9Q',\n",
       " 'ACCGVWSBGZWFBJG6',\n",
       " 'ACCGTQY9W3AFJYZR',\n",
       " 'ACCGT2SZF6QPZZGY',\n",
       " 'ACCH2FKSYAY3Z4HY',\n",
       " 'ACCH2FKSVPJDQ6QX',\n",
       " 'ACCH2FKSU6FFT8MK',\n",
       " 'ACCH2FKSQSUVSHMW',\n",
       " 'ACCH2FKSNP3ZHWDU',\n",
       " 'ACCH2FKSHUXFJAFH',\n",
       " 'ACCH2FKSGMYHYCPU',\n",
       " 'ACCGS2WBSYHX3FDZ',\n",
       " 'ACCGG5F5ZD3JSTHJ',\n",
       " 'ACCGQQ3CZZZSHZJZ',\n",
       " 'ACCGVX2BGFCAHKJH',\n",
       " 'ACCGTGACXTQM9N4Z',\n",
       " 'ACCGJ8YUBK7KKZDE',\n",
       " 'ACCH2FKSDNPC9UMY',\n",
       " 'ACCH2FKS94CVHHKC',\n",
       " 'ACCH2FKS8HZAGRT9',\n",
       " 'ACCH2FJNGR3AUGHT',\n",
       " 'ACCH2FGTWTAYZHCR',\n",
       " 'ACCH2DGZMPKZRXEG',\n",
       " 'ACCH2DG6PRFGBNRA',\n",
       " 'ACCG4KZTF6JXYHRW',\n",
       " 'ACCHYKKEGCCFKAXB',\n",
       " 'ACCGZRZ2PPAX3DV8',\n",
       " 'ACCGDSSU8BNHKN8G',\n",
       " 'ACCGD52TTWUJZX4M',\n",
       " 'ACCGA5ZXWZGDDANT',\n",
       " 'ACCGXN48GTGQEPXE',\n",
       " 'ACCHYYGHGBCSCSDA',\n",
       " 'ACCHYYJXHZZHQHCB',\n",
       " 'ACCGV42HASAGERDE',\n",
       " 'ACCFXFNZ4Z5MGE7J',\n",
       " 'ACCFWP2PF57VN8GY',\n",
       " 'ACCGZ7KEZRQGUPZH',\n",
       " 'ACCHYVEQHZZ35PJ7',\n",
       " 'ACCGZRZ2SSCF6Y4Y',\n",
       " 'ACCGPQY5URHHYHSW']"
      ]
     },
     "execution_count": 2,
     "metadata": {},
     "output_type": "execute_result"
    }
   ],
   "source": [
    "final_fsn_list"
   ]
  },
  {
   "cell_type": "code",
   "execution_count": 2,
   "metadata": {},
   "outputs": [],
   "source": [
    "# my_fsns=my_data['fsn'].to_list()\n",
    "# final_df=[]\n",
    "# for requested_fsn in my_fsns:\n",
    "\n",
    "#     requested_data=my_data[my_data['fsn']==requested_fsn]\n",
    "#     self_seller_name=requested_data['Seller Name'].values[0] \n",
    "#     filtered_competitor_data=competitor_data[competitor_data['Seller Name'] != self_seller_name]\n",
    "#     for attribute in [i for i in attributes_to_filter if len(i) > 0]:\n",
    "#         requested_filter=requested_data['all_details'].values[0].get(attribute)\n",
    "#         filtered_competitor_data=competitor_data[competitor_data['all_details'].apply(lambda x: x.get(attribute)) == requested_filter]\n",
    "    \n",
    "    \n",
    "#     for index,row in input_df.iterrows():\n",
    "#         if row['ranged_metric'] !=\"\":\n",
    "#             ranged_metric=row['ranged_metric']\n",
    "#             ranged_value=row['range']\n",
    "#             # print(ranged_metric,ranged_value)\n",
    "            \n",
    "#             if ranged_metric == 'final_selling_price':\n",
    "#                 requested_price=requested_data['final_selling_price'].values[0]\n",
    "#                 filtered_competitor_data=filtered_competitor_data[(filtered_competitor_data['final_selling_price']>requested_price*(1-ranged_value)) & (filtered_competitor_data['final_selling_price']<requested_price*(1+ranged_value))]\n",
    "\n",
    "#             else:\n",
    "#                 filtered_competitor_data[ranged_metric]=filtered_competitor_data['all_details'].apply(lambda x: x.get(ranged_metric))\n",
    "#                 filtered_competitor_data[ranged_metric]=filtered_competitor_data[ranged_metric].str.extract(r'(\\d+\\.?\\d*)').astype(float).fillna(0)\n",
    "#                 requested_range=requested_data['all_details'].apply(lambda x: x.get(ranged_metric)).str.extract(r'(\\d+\\.?\\d*)').astype(float).fillna(0)\n",
    "#                 requested_range=requested_range.iloc[0].values[0]\n",
    "\n",
    "#                 filtered_competitor_data=filtered_competitor_data[(filtered_competitor_data[ranged_metric]>requested_range*(1-ranged_value)) & (filtered_competitor_data[ranged_metric]<requested_range*(1+ranged_value))]\n",
    "#     first_title = requested_data['title'][:1].values[0]\n",
    "#     first_description = requested_data['description'][:1].values[0]\n",
    "#     first_details = requested_data['all_details'][:1].values[0]\n",
    "\n",
    "#     if len(filtered_competitor_data) > 0:\n",
    "#         for index,row in filtered_competitor_data.iterrows():\n",
    "\n",
    "#             second_title=row['title']\n",
    "#             second_details=\" \".join([f\"{k}: {v}\" for k, v in row['all_details'].items()])\n",
    "#             second_description=row['description']\n",
    "#             filtered_competitor_data.loc[index,'all_details_score']=fuzz.token_sort_ratio(first_details,second_details)\n",
    "#             filtered_competitor_data.loc[index,'title_score']=fuzz.partial_ratio(first_title,second_title)\n",
    "#             filtered_competitor_data.loc[index,'description_score']=fuzz.partial_ratio(first_description,second_description)\n",
    "#         top_10_competitors=filtered_competitor_data.sort_values(by=['title_score','description_score','all_details_score'],ascending=False).head(5)\n",
    "#         top_10_competitors['our_fsn']=requested_fsn\n",
    "#         our_fsn=top_10_competitors['our_fsn']\n",
    "#         top_10_competitors.insert(0,'requested_fsn',our_fsn)\n",
    "#         url_competitor='https://www.flipkart.com/blaupunkt-bh41-wireless-headphones-long-playtimei-40mm-drivers-foldable-built-mic-bluetooth-headset/p/itm73e3b649da013?pid='+top_10_competitors['fsn']\n",
    "#         top_10_competitors.insert(1,'url_competitor',url_competitor)\n",
    "#         final_df.append(top_10_competitors)\n",
    "#     else:\n",
    "#         print(requested_fsn)\n",
    "\n",
    "# all_competitor_data=pd.concat(final_df)\n",
    "# len(all_competitor_data.columns)\n",
    "# df_to_send=pd.concat([all_competitor_data,my_data])\n",
    "# general.add_sheet_name('1YzEFAUQN-It8vxZ1OaPgkw5ZixVImj17nI-vkAjNz-0','competitors',1)\n",
    "# general.print_sheet(1,df_to_send,'competitors','1YzEFAUQN-It8vxZ1OaPgkw5ZixVImj17nI-vkAjNz-0',1,3)"
   ]
  },
  {
   "cell_type": "code",
   "execution_count": 3,
   "metadata": {},
   "outputs": [],
   "source": [
    "import plotly.express as px\n",
    "import seaborn as sns\n",
    "import matplotlib.pyplot as plt"
   ]
  },
  {
   "cell_type": "code",
   "execution_count": 29,
   "metadata": {},
   "outputs": [],
   "source": [
    "competitor_data.to_pickle('competitor_data.pkl')"
   ]
  },
  {
   "cell_type": "code",
   "execution_count": 4,
   "metadata": {},
   "outputs": [
    {
     "data": {
      "text/plain": [
       "Index(['fsn', 'title', 'rating', 'ratings_count', 'reviews_count',\n",
       "       'special_price', 'final_selling_price', 'mrp', 'flipkart_assured',\n",
       "       'Seller Name', 'highlights', 'paymentOptions', 'description',\n",
       "       'productDescription', 'specifications', 'fk_other_seller_info',\n",
       "       'reviews', 'productImagesCount', 'productVideosCount', 'image_link',\n",
       "       'all_specs'],\n",
       "      dtype='object')"
      ]
     },
     "execution_count": 4,
     "metadata": {},
     "output_type": "execute_result"
    }
   ],
   "source": [
    "competitor_data.columns"
   ]
  },
  {
   "cell_type": "code",
   "execution_count": 28,
   "metadata": {},
   "outputs": [],
   "source": [
    "competitor_data.to_csv('competitor.csv')"
   ]
  },
  {
   "cell_type": "code",
   "execution_count": 5,
   "metadata": {},
   "outputs": [],
   "source": []
  },
  {
   "cell_type": "code",
   "execution_count": 6,
   "metadata": {},
   "outputs": [],
   "source": [
    "competitor_data['brand']=competitor_data['title'].str.split(\" \").str[0]\n",
    "brand_level_data=competitor_data.copy()\n",
    "for index, row in brand_level_data.iterrows():\n",
    "    # Get the dictionary from the 'all_specs' column\n",
    "    specs = row['all_specs']\n",
    "    # Iterate over each key-value pair in the dictionary\n",
    "    for key, value in specs.items():\n",
    "        # If the column does not exist, create it with default None values\n",
    "        if key not in brand_level_data.columns:\n",
    "            brand_level_data[key] = None\n",
    "        # Set the value for the current row in the new column\n",
    "        brand_level_data.at[index, key] = value\n",
    "most_important_feature={}\n",
    "feature_name=[]\n",
    "feature_count=[]\n",
    "for column in brand_level_data.columns:\n",
    "    feature_name.append(column)\n",
    "    feature_count.append(brand_level_data[column].count())\n",
    "most_important_feature['feature_name']=feature_name\n",
    "most_important_feature['feature_count']=feature_count\n",
    "important_features=pd.DataFrame(most_important_feature)\n",
    "important_features['feautre_present_in_%_of_products']=important_features['feature_count']*100/important_features['feature_count'].max()\n",
    "filtered_important_features=important_features[important_features['feautre_present_in_%_of_products'] >=10]['feature_name'].to_list()\n",
    "final_scrapped_data=brand_level_data[filtered_important_features]\n",
    "color=final_scrapped_data.groupby(['Color']).agg({\"fsn\":'count'})\n",
    "color.reset_index(inplace=True)\n",
    "color=color.sort_values(by='fsn',ascending=False).head(20)\n",
    "fig = px.pie(color, values='fsn', names='Color', title='Feature Importance Distribution')\n",
    "fig.show()"
   ]
  },
  {
   "cell_type": "code",
   "execution_count": 7,
   "metadata": {},
   "outputs": [],
   "source": [
    "\n"
   ]
  },
  {
   "cell_type": "code",
   "execution_count": 8,
   "metadata": {},
   "outputs": [],
   "source": []
  },
  {
   "cell_type": "code",
   "execution_count": 9,
   "metadata": {},
   "outputs": [],
   "source": []
  },
  {
   "cell_type": "code",
   "execution_count": 10,
   "metadata": {},
   "outputs": [
    {
     "data": {
      "text/html": [
       "<div>\n",
       "<style scoped>\n",
       "    .dataframe tbody tr th:only-of-type {\n",
       "        vertical-align: middle;\n",
       "    }\n",
       "\n",
       "    .dataframe tbody tr th {\n",
       "        vertical-align: top;\n",
       "    }\n",
       "\n",
       "    .dataframe thead th {\n",
       "        text-align: right;\n",
       "    }\n",
       "</style>\n",
       "<table border=\"1\" class=\"dataframe\">\n",
       "  <thead>\n",
       "    <tr style=\"text-align: right;\">\n",
       "      <th></th>\n",
       "      <th>feature_name</th>\n",
       "      <th>feature_count</th>\n",
       "    </tr>\n",
       "  </thead>\n",
       "  <tbody>\n",
       "    <tr>\n",
       "      <th>0</th>\n",
       "      <td>fsn</td>\n",
       "      <td>1095</td>\n",
       "    </tr>\n",
       "    <tr>\n",
       "      <th>1</th>\n",
       "      <td>title</td>\n",
       "      <td>1095</td>\n",
       "    </tr>\n",
       "    <tr>\n",
       "      <th>2</th>\n",
       "      <td>rating</td>\n",
       "      <td>1095</td>\n",
       "    </tr>\n",
       "    <tr>\n",
       "      <th>3</th>\n",
       "      <td>ratings_count</td>\n",
       "      <td>1095</td>\n",
       "    </tr>\n",
       "    <tr>\n",
       "      <th>4</th>\n",
       "      <td>reviews_count</td>\n",
       "      <td>1095</td>\n",
       "    </tr>\n",
       "    <tr>\n",
       "      <th>...</th>\n",
       "      <td>...</td>\n",
       "      <td>...</td>\n",
       "    </tr>\n",
       "    <tr>\n",
       "      <th>99</th>\n",
       "      <td>Transmitter Power Requirement</td>\n",
       "      <td>24</td>\n",
       "    </tr>\n",
       "    <tr>\n",
       "      <th>100</th>\n",
       "      <td>Weight Without Battery</td>\n",
       "      <td>13</td>\n",
       "    </tr>\n",
       "    <tr>\n",
       "      <th>102</th>\n",
       "      <td>Transmitter Battery</td>\n",
       "      <td>13</td>\n",
       "    </tr>\n",
       "    <tr>\n",
       "      <th>103</th>\n",
       "      <td>Weight Without Cord</td>\n",
       "      <td>10</td>\n",
       "    </tr>\n",
       "    <tr>\n",
       "      <th>104</th>\n",
       "      <td>Type</td>\n",
       "      <td>10</td>\n",
       "    </tr>\n",
       "  </tbody>\n",
       "</table>\n",
       "<p>105 rows × 2 columns</p>\n",
       "</div>"
      ],
      "text/plain": [
       "                      feature_name  feature_count\n",
       "0                              fsn           1095\n",
       "1                            title           1095\n",
       "2                           rating           1095\n",
       "3                    ratings_count           1095\n",
       "4                    reviews_count           1095\n",
       "..                             ...            ...\n",
       "99   Transmitter Power Requirement             24\n",
       "100         Weight Without Battery             13\n",
       "102            Transmitter Battery             13\n",
       "103            Weight Without Cord             10\n",
       "104                           Type             10\n",
       "\n",
       "[105 rows x 2 columns]"
      ]
     },
     "execution_count": 10,
     "metadata": {},
     "output_type": "execute_result"
    }
   ],
   "source": [
    "important_features.sort_values(by='feature_count',ascending=False)"
   ]
  },
  {
   "cell_type": "code",
   "execution_count": 11,
   "metadata": {},
   "outputs": [],
   "source": []
  },
  {
   "cell_type": "code",
   "execution_count": 12,
   "metadata": {},
   "outputs": [],
   "source": []
  },
  {
   "cell_type": "code",
   "execution_count": 13,
   "metadata": {},
   "outputs": [],
   "source": []
  },
  {
   "cell_type": "code",
   "execution_count": 24,
   "metadata": {},
   "outputs": [],
   "source": []
  },
  {
   "cell_type": "code",
   "execution_count": 25,
   "metadata": {},
   "outputs": [],
   "source": []
  },
  {
   "cell_type": "code",
   "execution_count": 26,
   "metadata": {},
   "outputs": [],
   "source": []
  },
  {
   "cell_type": "code",
   "execution_count": 27,
   "metadata": {},
   "outputs": [
    {
     "data": {
      "application/vnd.plotly.v1+json": {
       "config": {
        "plotlyServerURL": "https://plot.ly"
       },
       "data": [
        {
         "domain": {
          "x": [
           0,
           1
          ],
          "y": [
           0,
           1
          ]
         },
         "hovertemplate": "Color=%{label}<br>fsn=%{value}<extra></extra>",
         "labels": [
          "White",
          "Black",
          "Blue",
          "Green",
          "Grey",
          "Red",
          "IPHONE WIRED EARPHONE, White",
          "Jet Black",
          "Multicolor",
          "Active Black",
          "Black Sabre",
          "Orange",
          "White Sabre",
          "Purple",
          "Ivory White",
          "Beige",
          "Arctic Blue",
          "Pink",
          "Carbon Black",
          "Pearl White"
         ],
         "legendgroup": "",
         "name": "",
         "showlegend": true,
         "type": "pie",
         "values": [
          279,
          274,
          78,
          40,
          18,
          18,
          9,
          8,
          7,
          7,
          6,
          5,
          5,
          5,
          4,
          4,
          4,
          4,
          3,
          3
         ]
        }
       ],
       "layout": {
        "legend": {
         "tracegroupgap": 0
        },
        "template": {
         "data": {
          "bar": [
           {
            "error_x": {
             "color": "#2a3f5f"
            },
            "error_y": {
             "color": "#2a3f5f"
            },
            "marker": {
             "line": {
              "color": "#E5ECF6",
              "width": 0.5
             },
             "pattern": {
              "fillmode": "overlay",
              "size": 10,
              "solidity": 0.2
             }
            },
            "type": "bar"
           }
          ],
          "barpolar": [
           {
            "marker": {
             "line": {
              "color": "#E5ECF6",
              "width": 0.5
             },
             "pattern": {
              "fillmode": "overlay",
              "size": 10,
              "solidity": 0.2
             }
            },
            "type": "barpolar"
           }
          ],
          "carpet": [
           {
            "aaxis": {
             "endlinecolor": "#2a3f5f",
             "gridcolor": "white",
             "linecolor": "white",
             "minorgridcolor": "white",
             "startlinecolor": "#2a3f5f"
            },
            "baxis": {
             "endlinecolor": "#2a3f5f",
             "gridcolor": "white",
             "linecolor": "white",
             "minorgridcolor": "white",
             "startlinecolor": "#2a3f5f"
            },
            "type": "carpet"
           }
          ],
          "choropleth": [
           {
            "colorbar": {
             "outlinewidth": 0,
             "ticks": ""
            },
            "type": "choropleth"
           }
          ],
          "contour": [
           {
            "colorbar": {
             "outlinewidth": 0,
             "ticks": ""
            },
            "colorscale": [
             [
              0,
              "#0d0887"
             ],
             [
              0.1111111111111111,
              "#46039f"
             ],
             [
              0.2222222222222222,
              "#7201a8"
             ],
             [
              0.3333333333333333,
              "#9c179e"
             ],
             [
              0.4444444444444444,
              "#bd3786"
             ],
             [
              0.5555555555555556,
              "#d8576b"
             ],
             [
              0.6666666666666666,
              "#ed7953"
             ],
             [
              0.7777777777777778,
              "#fb9f3a"
             ],
             [
              0.8888888888888888,
              "#fdca26"
             ],
             [
              1,
              "#f0f921"
             ]
            ],
            "type": "contour"
           }
          ],
          "contourcarpet": [
           {
            "colorbar": {
             "outlinewidth": 0,
             "ticks": ""
            },
            "type": "contourcarpet"
           }
          ],
          "heatmap": [
           {
            "colorbar": {
             "outlinewidth": 0,
             "ticks": ""
            },
            "colorscale": [
             [
              0,
              "#0d0887"
             ],
             [
              0.1111111111111111,
              "#46039f"
             ],
             [
              0.2222222222222222,
              "#7201a8"
             ],
             [
              0.3333333333333333,
              "#9c179e"
             ],
             [
              0.4444444444444444,
              "#bd3786"
             ],
             [
              0.5555555555555556,
              "#d8576b"
             ],
             [
              0.6666666666666666,
              "#ed7953"
             ],
             [
              0.7777777777777778,
              "#fb9f3a"
             ],
             [
              0.8888888888888888,
              "#fdca26"
             ],
             [
              1,
              "#f0f921"
             ]
            ],
            "type": "heatmap"
           }
          ],
          "heatmapgl": [
           {
            "colorbar": {
             "outlinewidth": 0,
             "ticks": ""
            },
            "colorscale": [
             [
              0,
              "#0d0887"
             ],
             [
              0.1111111111111111,
              "#46039f"
             ],
             [
              0.2222222222222222,
              "#7201a8"
             ],
             [
              0.3333333333333333,
              "#9c179e"
             ],
             [
              0.4444444444444444,
              "#bd3786"
             ],
             [
              0.5555555555555556,
              "#d8576b"
             ],
             [
              0.6666666666666666,
              "#ed7953"
             ],
             [
              0.7777777777777778,
              "#fb9f3a"
             ],
             [
              0.8888888888888888,
              "#fdca26"
             ],
             [
              1,
              "#f0f921"
             ]
            ],
            "type": "heatmapgl"
           }
          ],
          "histogram": [
           {
            "marker": {
             "pattern": {
              "fillmode": "overlay",
              "size": 10,
              "solidity": 0.2
             }
            },
            "type": "histogram"
           }
          ],
          "histogram2d": [
           {
            "colorbar": {
             "outlinewidth": 0,
             "ticks": ""
            },
            "colorscale": [
             [
              0,
              "#0d0887"
             ],
             [
              0.1111111111111111,
              "#46039f"
             ],
             [
              0.2222222222222222,
              "#7201a8"
             ],
             [
              0.3333333333333333,
              "#9c179e"
             ],
             [
              0.4444444444444444,
              "#bd3786"
             ],
             [
              0.5555555555555556,
              "#d8576b"
             ],
             [
              0.6666666666666666,
              "#ed7953"
             ],
             [
              0.7777777777777778,
              "#fb9f3a"
             ],
             [
              0.8888888888888888,
              "#fdca26"
             ],
             [
              1,
              "#f0f921"
             ]
            ],
            "type": "histogram2d"
           }
          ],
          "histogram2dcontour": [
           {
            "colorbar": {
             "outlinewidth": 0,
             "ticks": ""
            },
            "colorscale": [
             [
              0,
              "#0d0887"
             ],
             [
              0.1111111111111111,
              "#46039f"
             ],
             [
              0.2222222222222222,
              "#7201a8"
             ],
             [
              0.3333333333333333,
              "#9c179e"
             ],
             [
              0.4444444444444444,
              "#bd3786"
             ],
             [
              0.5555555555555556,
              "#d8576b"
             ],
             [
              0.6666666666666666,
              "#ed7953"
             ],
             [
              0.7777777777777778,
              "#fb9f3a"
             ],
             [
              0.8888888888888888,
              "#fdca26"
             ],
             [
              1,
              "#f0f921"
             ]
            ],
            "type": "histogram2dcontour"
           }
          ],
          "mesh3d": [
           {
            "colorbar": {
             "outlinewidth": 0,
             "ticks": ""
            },
            "type": "mesh3d"
           }
          ],
          "parcoords": [
           {
            "line": {
             "colorbar": {
              "outlinewidth": 0,
              "ticks": ""
             }
            },
            "type": "parcoords"
           }
          ],
          "pie": [
           {
            "automargin": true,
            "type": "pie"
           }
          ],
          "scatter": [
           {
            "fillpattern": {
             "fillmode": "overlay",
             "size": 10,
             "solidity": 0.2
            },
            "type": "scatter"
           }
          ],
          "scatter3d": [
           {
            "line": {
             "colorbar": {
              "outlinewidth": 0,
              "ticks": ""
             }
            },
            "marker": {
             "colorbar": {
              "outlinewidth": 0,
              "ticks": ""
             }
            },
            "type": "scatter3d"
           }
          ],
          "scattercarpet": [
           {
            "marker": {
             "colorbar": {
              "outlinewidth": 0,
              "ticks": ""
             }
            },
            "type": "scattercarpet"
           }
          ],
          "scattergeo": [
           {
            "marker": {
             "colorbar": {
              "outlinewidth": 0,
              "ticks": ""
             }
            },
            "type": "scattergeo"
           }
          ],
          "scattergl": [
           {
            "marker": {
             "colorbar": {
              "outlinewidth": 0,
              "ticks": ""
             }
            },
            "type": "scattergl"
           }
          ],
          "scattermapbox": [
           {
            "marker": {
             "colorbar": {
              "outlinewidth": 0,
              "ticks": ""
             }
            },
            "type": "scattermapbox"
           }
          ],
          "scatterpolar": [
           {
            "marker": {
             "colorbar": {
              "outlinewidth": 0,
              "ticks": ""
             }
            },
            "type": "scatterpolar"
           }
          ],
          "scatterpolargl": [
           {
            "marker": {
             "colorbar": {
              "outlinewidth": 0,
              "ticks": ""
             }
            },
            "type": "scatterpolargl"
           }
          ],
          "scatterternary": [
           {
            "marker": {
             "colorbar": {
              "outlinewidth": 0,
              "ticks": ""
             }
            },
            "type": "scatterternary"
           }
          ],
          "surface": [
           {
            "colorbar": {
             "outlinewidth": 0,
             "ticks": ""
            },
            "colorscale": [
             [
              0,
              "#0d0887"
             ],
             [
              0.1111111111111111,
              "#46039f"
             ],
             [
              0.2222222222222222,
              "#7201a8"
             ],
             [
              0.3333333333333333,
              "#9c179e"
             ],
             [
              0.4444444444444444,
              "#bd3786"
             ],
             [
              0.5555555555555556,
              "#d8576b"
             ],
             [
              0.6666666666666666,
              "#ed7953"
             ],
             [
              0.7777777777777778,
              "#fb9f3a"
             ],
             [
              0.8888888888888888,
              "#fdca26"
             ],
             [
              1,
              "#f0f921"
             ]
            ],
            "type": "surface"
           }
          ],
          "table": [
           {
            "cells": {
             "fill": {
              "color": "#EBF0F8"
             },
             "line": {
              "color": "white"
             }
            },
            "header": {
             "fill": {
              "color": "#C8D4E3"
             },
             "line": {
              "color": "white"
             }
            },
            "type": "table"
           }
          ]
         },
         "layout": {
          "annotationdefaults": {
           "arrowcolor": "#2a3f5f",
           "arrowhead": 0,
           "arrowwidth": 1
          },
          "autotypenumbers": "strict",
          "coloraxis": {
           "colorbar": {
            "outlinewidth": 0,
            "ticks": ""
           }
          },
          "colorscale": {
           "diverging": [
            [
             0,
             "#8e0152"
            ],
            [
             0.1,
             "#c51b7d"
            ],
            [
             0.2,
             "#de77ae"
            ],
            [
             0.3,
             "#f1b6da"
            ],
            [
             0.4,
             "#fde0ef"
            ],
            [
             0.5,
             "#f7f7f7"
            ],
            [
             0.6,
             "#e6f5d0"
            ],
            [
             0.7,
             "#b8e186"
            ],
            [
             0.8,
             "#7fbc41"
            ],
            [
             0.9,
             "#4d9221"
            ],
            [
             1,
             "#276419"
            ]
           ],
           "sequential": [
            [
             0,
             "#0d0887"
            ],
            [
             0.1111111111111111,
             "#46039f"
            ],
            [
             0.2222222222222222,
             "#7201a8"
            ],
            [
             0.3333333333333333,
             "#9c179e"
            ],
            [
             0.4444444444444444,
             "#bd3786"
            ],
            [
             0.5555555555555556,
             "#d8576b"
            ],
            [
             0.6666666666666666,
             "#ed7953"
            ],
            [
             0.7777777777777778,
             "#fb9f3a"
            ],
            [
             0.8888888888888888,
             "#fdca26"
            ],
            [
             1,
             "#f0f921"
            ]
           ],
           "sequentialminus": [
            [
             0,
             "#0d0887"
            ],
            [
             0.1111111111111111,
             "#46039f"
            ],
            [
             0.2222222222222222,
             "#7201a8"
            ],
            [
             0.3333333333333333,
             "#9c179e"
            ],
            [
             0.4444444444444444,
             "#bd3786"
            ],
            [
             0.5555555555555556,
             "#d8576b"
            ],
            [
             0.6666666666666666,
             "#ed7953"
            ],
            [
             0.7777777777777778,
             "#fb9f3a"
            ],
            [
             0.8888888888888888,
             "#fdca26"
            ],
            [
             1,
             "#f0f921"
            ]
           ]
          },
          "colorway": [
           "#636efa",
           "#EF553B",
           "#00cc96",
           "#ab63fa",
           "#FFA15A",
           "#19d3f3",
           "#FF6692",
           "#B6E880",
           "#FF97FF",
           "#FECB52"
          ],
          "font": {
           "color": "#2a3f5f"
          },
          "geo": {
           "bgcolor": "white",
           "lakecolor": "white",
           "landcolor": "#E5ECF6",
           "showlakes": true,
           "showland": true,
           "subunitcolor": "white"
          },
          "hoverlabel": {
           "align": "left"
          },
          "hovermode": "closest",
          "mapbox": {
           "style": "light"
          },
          "paper_bgcolor": "white",
          "plot_bgcolor": "#E5ECF6",
          "polar": {
           "angularaxis": {
            "gridcolor": "white",
            "linecolor": "white",
            "ticks": ""
           },
           "bgcolor": "#E5ECF6",
           "radialaxis": {
            "gridcolor": "white",
            "linecolor": "white",
            "ticks": ""
           }
          },
          "scene": {
           "xaxis": {
            "backgroundcolor": "#E5ECF6",
            "gridcolor": "white",
            "gridwidth": 2,
            "linecolor": "white",
            "showbackground": true,
            "ticks": "",
            "zerolinecolor": "white"
           },
           "yaxis": {
            "backgroundcolor": "#E5ECF6",
            "gridcolor": "white",
            "gridwidth": 2,
            "linecolor": "white",
            "showbackground": true,
            "ticks": "",
            "zerolinecolor": "white"
           },
           "zaxis": {
            "backgroundcolor": "#E5ECF6",
            "gridcolor": "white",
            "gridwidth": 2,
            "linecolor": "white",
            "showbackground": true,
            "ticks": "",
            "zerolinecolor": "white"
           }
          },
          "shapedefaults": {
           "line": {
            "color": "#2a3f5f"
           }
          },
          "ternary": {
           "aaxis": {
            "gridcolor": "white",
            "linecolor": "white",
            "ticks": ""
           },
           "baxis": {
            "gridcolor": "white",
            "linecolor": "white",
            "ticks": ""
           },
           "bgcolor": "#E5ECF6",
           "caxis": {
            "gridcolor": "white",
            "linecolor": "white",
            "ticks": ""
           }
          },
          "title": {
           "x": 0.05
          },
          "xaxis": {
           "automargin": true,
           "gridcolor": "white",
           "linecolor": "white",
           "ticks": "",
           "title": {
            "standoff": 15
           },
           "zerolinecolor": "white",
           "zerolinewidth": 2
          },
          "yaxis": {
           "automargin": true,
           "gridcolor": "white",
           "linecolor": "white",
           "ticks": "",
           "title": {
            "standoff": 15
           },
           "zerolinecolor": "white",
           "zerolinewidth": 2
          }
         }
        },
        "title": {
         "text": "Feature Importance Distribution"
        }
       }
      }
     },
     "metadata": {},
     "output_type": "display_data"
    }
   ],
   "source": []
  },
  {
   "cell_type": "code",
   "execution_count": null,
   "metadata": {},
   "outputs": [],
   "source": []
  }
 ],
 "metadata": {
  "kernelspec": {
   "display_name": "Python 3",
   "language": "python",
   "name": "python3"
  },
  "language_info": {
   "codemirror_mode": {
    "name": "ipython",
    "version": 3
   },
   "file_extension": ".py",
   "mimetype": "text/x-python",
   "name": "python",
   "nbconvert_exporter": "python",
   "pygments_lexer": "ipython3",
   "version": "3.10.0"
  }
 },
 "nbformat": 4,
 "nbformat_minor": 2
}
